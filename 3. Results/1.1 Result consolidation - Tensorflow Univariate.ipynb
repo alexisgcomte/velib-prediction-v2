{
 "cells": [
  {
   "cell_type": "code",
   "execution_count": 2,
   "metadata": {},
   "outputs": [],
   "source": [
    "# Library importation\n",
    "\n",
    "import pandas as pd\n",
    "import numpy as np\n",
    "from os import listdir\n",
    "from os.path import isfile, join\n",
    "import math"
   ]
  },
  {
   "cell_type": "code",
   "execution_count": 3,
   "metadata": {},
   "outputs": [],
   "source": [
    "# Declaration of variables \n",
    "import_path = '/home/exalis/Github/velib-prediction-v2/3. Results/2. Tensorflow Univariate'"
   ]
  },
  {
   "cell_type": "code",
   "execution_count": 4,
   "metadata": {},
   "outputs": [
    {
     "name": "stdout",
     "output_type": "stream",
     "text": [
      "number of files: 1391\n"
     ]
    }
   ],
   "source": [
    "# List of Files\n",
    "list_of_files = [f for f in listdir(import_path) if isfile(join(import_path, f))]\n",
    "list_of_files = sorted(list_of_files)\n",
    "print(\"number of files:\", len(list_of_files))"
   ]
  },
  {
   "cell_type": "code",
   "execution_count": 5,
   "metadata": {},
   "outputs": [],
   "source": [
    "# Setting number of trucations\n",
    "split_size = 100\n",
    "split_number = math.trunc(len(list_of_files)/split_size) + 1\n",
    "\n",
    "# Creation of list of batch\n",
    "batch = np.split(np.array(pd.DataFrame(list_of_files)[0:(split_number-1)*split_size]) ,split_number-1)\n",
    "\n",
    "# Adding the last files\n",
    "batch.append(np.array(pd.DataFrame(list_of_files[(split_number-1) * split_size:len(list_of_files)])))\n"
   ]
  },
  {
   "cell_type": "code",
   "execution_count": 6,
   "metadata": {},
   "outputs": [],
   "source": [
    "# Initialisation of consolidated dataframe with first csv of the list\n",
    "\n",
    "df_conso = pd.read_csv(import_path+\"/\"+list_of_files[0],sep=\",\")\n",
    "\n",
    "# Addition of notion of date\n",
    "df_conso['station'] = \"\"\n",
    "\n",
    "# Conservation of only headers\n",
    "df_conso = df_conso[0:0]\n",
    "\n",
    "# Conservation of only headers\n",
    "df_template = df_conso"
   ]
  },
  {
   "cell_type": "code",
   "execution_count": 7,
   "metadata": {},
   "outputs": [
    {
     "data": {
      "text/html": [
       "<div>\n",
       "<style scoped>\n",
       "    .dataframe tbody tr th:only-of-type {\n",
       "        vertical-align: middle;\n",
       "    }\n",
       "\n",
       "    .dataframe tbody tr th {\n",
       "        vertical-align: top;\n",
       "    }\n",
       "\n",
       "    .dataframe thead th {\n",
       "        text-align: right;\n",
       "    }\n",
       "</style>\n",
       "<table border=\"1\" class=\"dataframe\">\n",
       "  <thead>\n",
       "    <tr style=\"text-align: right;\">\n",
       "      <th></th>\n",
       "      <th>Unnamed: 0</th>\n",
       "      <th>prediction_A</th>\n",
       "      <th>prediction_B</th>\n",
       "      <th>real_values</th>\n",
       "      <th>metrics_A</th>\n",
       "      <th>metrics_B</th>\n",
       "      <th>station</th>\n",
       "    </tr>\n",
       "  </thead>\n",
       "  <tbody>\n",
       "  </tbody>\n",
       "</table>\n",
       "</div>"
      ],
      "text/plain": [
       "Empty DataFrame\n",
       "Columns: [Unnamed: 0, prediction_A, prediction_B, real_values, metrics_A, metrics_B, station]\n",
       "Index: []"
      ]
     },
     "execution_count": 7,
     "metadata": {},
     "output_type": "execute_result"
    }
   ],
   "source": [
    "df_template"
   ]
  },
  {
   "cell_type": "code",
   "execution_count": 10,
   "metadata": {},
   "outputs": [
    {
     "name": "stdout",
     "output_type": "stream",
     "text": [
      "Consolidation in progress:\n",
      "---------------------------\n",
      "100/1391 (7.2%)\n",
      "200/1391 (14.4%)\n",
      "300/1391 (21.6%)\n",
      "400/1391 (28.8%)\n",
      "500/1391 (35.9%)\n",
      "600/1391 (43.1%)\n",
      "700/1391 (50.3%)\n",
      "800/1391 (57.5%)\n",
      "900/1391 (64.7%)\n",
      "1000/1391 (71.9%)\n",
      "1100/1391 (79.1%)\n",
      "1200/1391 (86.3%)\n",
      "1300/1391 (93.5%)\n",
      "1391/1391 (100.0%)\n",
      "---------------------------\n",
      "Consolidation complete\n"
     ]
    }
   ],
   "source": [
    "# Each csv is loaded, processed and addated to consolidated dataframe\n",
    "df_conso = df_template\n",
    "print(\"Consolidation in progress:\")\n",
    "print(\"---------------------------\")\n",
    "\n",
    "for j in range(split_number):\n",
    "    df_conso_temp = df_template\n",
    "    for i in range(len(batch[j])):\n",
    "        df_temp = pd.read_csv(import_path+\"/\"+batch[j][i][0],sep=\",\")\n",
    "        # Addition of the date / name of the file\n",
    "        df_temp['station']= batch[j][i][0][-len(batch[j][i][0])+44:][:-4]\n",
    "        df_conso_temp = pd.concat([df_conso_temp,df_temp])\n",
    "        if i == (split_size -1):\n",
    "            df_conso = pd.concat([df_conso,df_conso_temp])\n",
    "    print(\"{}/{} ({}%)\".format(j*split_size+i+1,len(list_of_files),round((j*split_size+i+1)/len(list_of_files)*split_size,1)))\n",
    "print(\"---------------------------\")\n",
    "print(\"Consolidation complete\")"
   ]
  },
  {
   "cell_type": "code",
   "execution_count": 11,
   "metadata": {},
   "outputs": [
    {
     "data": {
      "text/html": [
       "<div>\n",
       "<style scoped>\n",
       "    .dataframe tbody tr th:only-of-type {\n",
       "        vertical-align: middle;\n",
       "    }\n",
       "\n",
       "    .dataframe tbody tr th {\n",
       "        vertical-align: top;\n",
       "    }\n",
       "\n",
       "    .dataframe thead th {\n",
       "        text-align: right;\n",
       "    }\n",
       "</style>\n",
       "<table border=\"1\" class=\"dataframe\">\n",
       "  <thead>\n",
       "    <tr style=\"text-align: right;\">\n",
       "      <th></th>\n",
       "      <th>Unnamed: 0</th>\n",
       "      <th>prediction_A</th>\n",
       "      <th>prediction_B</th>\n",
       "      <th>real_values</th>\n",
       "      <th>metrics_A</th>\n",
       "      <th>metrics_B</th>\n",
       "      <th>station</th>\n",
       "    </tr>\n",
       "  </thead>\n",
       "  <tbody>\n",
       "    <tr>\n",
       "      <th>0</th>\n",
       "      <td>2020-05-10 06:00:00</td>\n",
       "      <td>[13.623125 13.77864  13.842224 13.786391 14.00...</td>\n",
       "      <td>[13.718268 13.854038 14.07909  14.129629 14.33...</td>\n",
       "      <td>[13 13 13 13 13 13]</td>\n",
       "      <td>0.892279</td>\n",
       "      <td>1.168168</td>\n",
       "      <td>10001</td>\n",
       "    </tr>\n",
       "    <tr>\n",
       "      <th>1</th>\n",
       "      <td>2020-05-10 06:15:00</td>\n",
       "      <td>[13.623125 13.77864  13.842224 13.786391 14.00...</td>\n",
       "      <td>[13.718268 13.854038 14.07909  14.129629 14.33...</td>\n",
       "      <td>[13 13 13 13 13 13]</td>\n",
       "      <td>0.892279</td>\n",
       "      <td>1.168168</td>\n",
       "      <td>10001</td>\n",
       "    </tr>\n",
       "    <tr>\n",
       "      <th>2</th>\n",
       "      <td>2020-05-10 06:30:00</td>\n",
       "      <td>[13.623125 13.77864  13.842224 13.786391 14.00...</td>\n",
       "      <td>[13.718268 13.854038 14.07909  14.129629 14.33...</td>\n",
       "      <td>[13 13 13 13 13 13]</td>\n",
       "      <td>0.892279</td>\n",
       "      <td>1.168168</td>\n",
       "      <td>10001</td>\n",
       "    </tr>\n",
       "    <tr>\n",
       "      <th>3</th>\n",
       "      <td>2020-05-10 06:45:00</td>\n",
       "      <td>[13.623125 13.77864  13.842224 13.786391 14.00...</td>\n",
       "      <td>[13.718268 13.854038 14.07909  14.129629 14.33...</td>\n",
       "      <td>[13 13 13 13 13 13]</td>\n",
       "      <td>0.892279</td>\n",
       "      <td>1.168168</td>\n",
       "      <td>10001</td>\n",
       "    </tr>\n",
       "    <tr>\n",
       "      <th>4</th>\n",
       "      <td>2020-05-10 07:00:00</td>\n",
       "      <td>[13.623125 13.77864  13.842224 13.786391 14.00...</td>\n",
       "      <td>[13.718268 13.854038 14.07909  14.129629 14.33...</td>\n",
       "      <td>[13 13 13 13 13 13]</td>\n",
       "      <td>0.892279</td>\n",
       "      <td>1.168168</td>\n",
       "      <td>10001</td>\n",
       "    </tr>\n",
       "  </tbody>\n",
       "</table>\n",
       "</div>"
      ],
      "text/plain": [
       "            Unnamed: 0                                       prediction_A  \\\n",
       "0  2020-05-10 06:00:00  [13.623125 13.77864  13.842224 13.786391 14.00...   \n",
       "1  2020-05-10 06:15:00  [13.623125 13.77864  13.842224 13.786391 14.00...   \n",
       "2  2020-05-10 06:30:00  [13.623125 13.77864  13.842224 13.786391 14.00...   \n",
       "3  2020-05-10 06:45:00  [13.623125 13.77864  13.842224 13.786391 14.00...   \n",
       "4  2020-05-10 07:00:00  [13.623125 13.77864  13.842224 13.786391 14.00...   \n",
       "\n",
       "                                        prediction_B          real_values  \\\n",
       "0  [13.718268 13.854038 14.07909  14.129629 14.33...  [13 13 13 13 13 13]   \n",
       "1  [13.718268 13.854038 14.07909  14.129629 14.33...  [13 13 13 13 13 13]   \n",
       "2  [13.718268 13.854038 14.07909  14.129629 14.33...  [13 13 13 13 13 13]   \n",
       "3  [13.718268 13.854038 14.07909  14.129629 14.33...  [13 13 13 13 13 13]   \n",
       "4  [13.718268 13.854038 14.07909  14.129629 14.33...  [13 13 13 13 13 13]   \n",
       "\n",
       "   metrics_A  metrics_B station  \n",
       "0   0.892279   1.168168   10001  \n",
       "1   0.892279   1.168168   10001  \n",
       "2   0.892279   1.168168   10001  \n",
       "3   0.892279   1.168168   10001  \n",
       "4   0.892279   1.168168   10001  "
      ]
     },
     "execution_count": 11,
     "metadata": {},
     "output_type": "execute_result"
    }
   ],
   "source": [
    "df_conso.head()"
   ]
  },
  {
   "cell_type": "code",
   "execution_count": 13,
   "metadata": {},
   "outputs": [],
   "source": [
    "df_conso.to_csv('3. Consolidated Results/Tensorflow Univariates Results - {}.csv'.format(df_conso.iloc[0][0][:10]))"
   ]
  }
 ],
 "metadata": {
  "kernelspec": {
   "display_name": "Python 3",
   "language": "python",
   "name": "python3"
  },
  "language_info": {
   "codemirror_mode": {
    "name": "ipython",
    "version": 3
   },
   "file_extension": ".py",
   "mimetype": "text/x-python",
   "name": "python",
   "nbconvert_exporter": "python",
   "pygments_lexer": "ipython3",
   "version": "3.7.7"
  }
 },
 "nbformat": 4,
 "nbformat_minor": 4
}
