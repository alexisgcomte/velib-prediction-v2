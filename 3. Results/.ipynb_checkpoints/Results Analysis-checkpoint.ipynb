{
 "cells": [
  {
   "cell_type": "code",
   "execution_count": 1,
   "metadata": {},
   "outputs": [],
   "source": [
    "import pandas as pd\n",
    "import matplotlib.pyplot as plt\n",
    "import seaborn as sns\n",
    "import numpy as np\n",
    "\n",
    "pd.set_option('display.max_rows', 500)\n",
    "pd.set_option('display.max_columns', 500)\n",
    "pd.set_option('display.width', 1000)"
   ]
  },
  {
   "cell_type": "code",
   "execution_count": 2,
   "metadata": {},
   "outputs": [],
   "source": [
    "df = pd.read_csv('Consolidated_results_all_models.csv')"
   ]
  },
  {
   "cell_type": "code",
   "execution_count": 3,
   "metadata": {},
   "outputs": [
    {
     "data": {
      "text/html": [
       "<div>\n",
       "<style scoped>\n",
       "    .dataframe tbody tr th:only-of-type {\n",
       "        vertical-align: middle;\n",
       "    }\n",
       "\n",
       "    .dataframe tbody tr th {\n",
       "        vertical-align: top;\n",
       "    }\n",
       "\n",
       "    .dataframe thead th {\n",
       "        text-align: right;\n",
       "    }\n",
       "</style>\n",
       "<table border=\"1\" class=\"dataframe\">\n",
       "  <thead>\n",
       "    <tr style=\"text-align: right;\">\n",
       "      <th></th>\n",
       "      <th>Date</th>\n",
       "      <th>Prediction</th>\n",
       "      <th>real_values</th>\n",
       "      <th>metrics</th>\n",
       "      <th>station</th>\n",
       "      <th>model_name</th>\n",
       "    </tr>\n",
       "  </thead>\n",
       "  <tbody>\n",
       "    <tr>\n",
       "      <th>0</th>\n",
       "      <td>2020-05-10 06:00:00</td>\n",
       "      <td>[13.623125 13.77864  13.842224 13.786391 14.00...</td>\n",
       "      <td>[13 13 13 13 13 13]</td>\n",
       "      <td>0.892279</td>\n",
       "      <td>10001</td>\n",
       "      <td>LSTM_A</td>\n",
       "    </tr>\n",
       "    <tr>\n",
       "      <th>1</th>\n",
       "      <td>2020-05-10 06:15:00</td>\n",
       "      <td>[13.623125 13.77864  13.842224 13.786391 14.00...</td>\n",
       "      <td>[13 13 13 13 13 13]</td>\n",
       "      <td>0.892279</td>\n",
       "      <td>10001</td>\n",
       "      <td>LSTM_A</td>\n",
       "    </tr>\n",
       "    <tr>\n",
       "      <th>2</th>\n",
       "      <td>2020-05-10 06:30:00</td>\n",
       "      <td>[13.623125 13.77864  13.842224 13.786391 14.00...</td>\n",
       "      <td>[13 13 13 13 13 13]</td>\n",
       "      <td>0.892279</td>\n",
       "      <td>10001</td>\n",
       "      <td>LSTM_A</td>\n",
       "    </tr>\n",
       "    <tr>\n",
       "      <th>3</th>\n",
       "      <td>2020-05-10 06:45:00</td>\n",
       "      <td>[13.623125 13.77864  13.842224 13.786391 14.00...</td>\n",
       "      <td>[13 13 13 13 13 13]</td>\n",
       "      <td>0.892279</td>\n",
       "      <td>10001</td>\n",
       "      <td>LSTM_A</td>\n",
       "    </tr>\n",
       "    <tr>\n",
       "      <th>4</th>\n",
       "      <td>2020-05-10 07:00:00</td>\n",
       "      <td>[13.623125 13.77864  13.842224 13.786391 14.00...</td>\n",
       "      <td>[13 13 13 13 13 13]</td>\n",
       "      <td>0.892279</td>\n",
       "      <td>10001</td>\n",
       "      <td>LSTM_A</td>\n",
       "    </tr>\n",
       "  </tbody>\n",
       "</table>\n",
       "</div>"
      ],
      "text/plain": [
       "                  Date                                         Prediction          real_values   metrics  station model_name\n",
       "0  2020-05-10 06:00:00  [13.623125 13.77864  13.842224 13.786391 14.00...  [13 13 13 13 13 13]  0.892279    10001     LSTM_A\n",
       "1  2020-05-10 06:15:00  [13.623125 13.77864  13.842224 13.786391 14.00...  [13 13 13 13 13 13]  0.892279    10001     LSTM_A\n",
       "2  2020-05-10 06:30:00  [13.623125 13.77864  13.842224 13.786391 14.00...  [13 13 13 13 13 13]  0.892279    10001     LSTM_A\n",
       "3  2020-05-10 06:45:00  [13.623125 13.77864  13.842224 13.786391 14.00...  [13 13 13 13 13 13]  0.892279    10001     LSTM_A\n",
       "4  2020-05-10 07:00:00  [13.623125 13.77864  13.842224 13.786391 14.00...  [13 13 13 13 13 13]  0.892279    10001     LSTM_A"
      ]
     },
     "execution_count": 3,
     "metadata": {},
     "output_type": "execute_result"
    }
   ],
   "source": [
    "df.head()"
   ]
  },
  {
   "cell_type": "code",
   "execution_count": 4,
   "metadata": {},
   "outputs": [
    {
     "data": {
      "text/plain": [
       "model_name\n",
       "Fb_Prophet    2.294617\n",
       "LSTM_A        0.763850\n",
       "LSTM_B        0.769382\n",
       "Name: metrics, dtype: float64"
      ]
     },
     "execution_count": 4,
     "metadata": {},
     "output_type": "execute_result"
    }
   ],
   "source": [
    "df.groupby('model_name').metrics.mean()"
   ]
  },
  {
   "cell_type": "code",
   "execution_count": 5,
   "metadata": {},
   "outputs": [
    {
     "name": "stdout",
     "output_type": "stream",
     "text": [
      "Date\n",
      "2020-05-10 06:00:00    1.069780\n",
      "2020-05-10 06:15:00    1.064940\n",
      "2020-05-10 06:30:00    1.054610\n",
      "2020-05-10 06:45:00    1.049380\n",
      "2020-05-10 07:00:00    1.038113\n",
      "2020-05-10 07:15:00    1.030659\n",
      "2020-05-10 07:30:00    1.024404\n",
      "2020-05-10 07:45:00    1.036457\n",
      "2020-05-10 08:00:00    1.048138\n",
      "2020-05-10 08:15:00    1.070603\n",
      "2020-05-10 08:30:00    1.082077\n",
      "2020-05-10 08:45:00    1.090812\n",
      "2020-05-10 09:00:00    1.107077\n",
      "2020-05-10 09:15:00    1.123921\n",
      "2020-05-10 09:30:00    1.140234\n",
      "2020-05-10 09:45:00    1.153206\n",
      "2020-05-10 10:00:00    1.170560\n",
      "2020-05-10 10:15:00    1.182666\n",
      "2020-05-10 10:30:00    1.201787\n",
      "2020-05-10 10:45:00    1.222947\n",
      "2020-05-10 11:00:00    1.247283\n",
      "2020-05-10 11:15:00    1.238614\n",
      "2020-05-10 11:30:00    1.233817\n",
      "2020-05-10 11:45:00    1.259904\n",
      "2020-05-10 12:00:00    1.275655\n",
      "2020-05-10 12:15:00    1.263799\n",
      "2020-05-10 12:30:00    1.259567\n",
      "2020-05-10 12:45:00    1.258013\n",
      "2020-05-10 13:00:00    1.246644\n",
      "2020-05-10 13:15:00    1.232698\n",
      "2020-05-10 13:30:00    1.234902\n",
      "2020-05-10 13:45:00    1.237521\n",
      "2020-05-10 14:00:00    1.233953\n",
      "2020-05-10 14:15:00    1.267617\n",
      "2020-05-10 14:30:00    1.260588\n",
      "2020-05-10 14:45:00    1.280536\n",
      "2020-05-10 15:00:00    1.291112\n",
      "2020-05-10 15:15:00    1.317346\n",
      "2020-05-10 15:30:00    1.312919\n",
      "2020-05-10 15:45:00    1.335710\n",
      "2020-05-10 16:00:00    1.353632\n",
      "2020-05-10 16:15:00    1.371357\n",
      "2020-05-10 16:30:00    1.396057\n",
      "2020-05-10 16:45:00    1.409616\n",
      "2020-05-10 17:00:00    1.416661\n",
      "2020-05-10 17:15:00    1.450726\n",
      "2020-05-10 17:30:00    1.429567\n",
      "2020-05-10 17:45:00    1.438307\n",
      "2020-05-10 18:00:00    1.454669\n",
      "2020-05-10 18:15:00    1.452817\n",
      "2020-05-10 18:30:00    1.465098\n",
      "2020-05-10 18:45:00    1.459246\n",
      "2020-05-10 19:00:00    1.444151\n",
      "2020-05-10 19:15:00    1.470821\n",
      "2020-05-10 19:30:00    1.476687\n",
      "2020-05-10 19:45:00    1.441254\n",
      "2020-05-10 20:00:00    1.443828\n",
      "2020-05-10 20:15:00    1.418174\n",
      "2020-05-10 20:30:00    1.410095\n",
      "2020-05-10 20:45:00    1.422764\n",
      "2020-05-10 21:00:00    1.431914\n",
      "2020-05-10 21:15:00    1.449896\n",
      "2020-05-10 21:30:00    1.450325\n",
      "2020-05-10 21:45:00    1.452535\n",
      "Name: metrics, dtype: float64\n"
     ]
    }
   ],
   "source": [
    "print(df.groupby('Date').metrics.mean())"
   ]
  },
  {
   "cell_type": "code",
   "execution_count": 6,
   "metadata": {
    "scrolled": true
   },
   "outputs": [
    {
     "name": "stdout",
     "output_type": "stream",
     "text": [
      "station\n",
      "1001     0.840860\n",
      "1002     2.203619\n",
      "1003     0.845143\n",
      "1006     1.111885\n",
      "1007     1.051003\n",
      "           ...   \n",
      "48010    0.215455\n",
      "48012    0.327268\n",
      "51001    0.913410\n",
      "51002    0.589499\n",
      "51003    0.316301\n",
      "Name: metrics, Length: 1300, dtype: float64\n"
     ]
    }
   ],
   "source": [
    "print(df.groupby('station').metrics.mean())"
   ]
  },
  {
   "cell_type": "code",
   "execution_count": 40,
   "metadata": {},
   "outputs": [
    {
     "data": {
      "text/html": [
       "<div>\n",
       "<style scoped>\n",
       "    .dataframe tbody tr th:only-of-type {\n",
       "        vertical-align: middle;\n",
       "    }\n",
       "\n",
       "    .dataframe tbody tr th {\n",
       "        vertical-align: top;\n",
       "    }\n",
       "\n",
       "    .dataframe thead th {\n",
       "        text-align: right;\n",
       "    }\n",
       "</style>\n",
       "<table border=\"1\" class=\"dataframe\">\n",
       "  <thead>\n",
       "    <tr style=\"text-align: right;\">\n",
       "      <th></th>\n",
       "      <th>metrics</th>\n",
       "    </tr>\n",
       "    <tr>\n",
       "      <th>station</th>\n",
       "      <th></th>\n",
       "    </tr>\n",
       "  </thead>\n",
       "  <tbody>\n",
       "    <tr>\n",
       "      <th>22303</th>\n",
       "      <td>1.490423</td>\n",
       "    </tr>\n",
       "    <tr>\n",
       "      <th>12026</th>\n",
       "      <td>1.059009</td>\n",
       "    </tr>\n",
       "    <tr>\n",
       "      <th>4108</th>\n",
       "      <td>0.868761</td>\n",
       "    </tr>\n",
       "    <tr>\n",
       "      <th>19115</th>\n",
       "      <td>0.805442</td>\n",
       "    </tr>\n",
       "    <tr>\n",
       "      <th>19009</th>\n",
       "      <td>0.754280</td>\n",
       "    </tr>\n",
       "    <tr>\n",
       "      <th>17022</th>\n",
       "      <td>0.672651</td>\n",
       "    </tr>\n",
       "    <tr>\n",
       "      <th>21212</th>\n",
       "      <td>0.618008</td>\n",
       "    </tr>\n",
       "    <tr>\n",
       "      <th>18035</th>\n",
       "      <td>0.535718</td>\n",
       "    </tr>\n",
       "    <tr>\n",
       "      <th>4016</th>\n",
       "      <td>0.532560</td>\n",
       "    </tr>\n",
       "    <tr>\n",
       "      <th>35007</th>\n",
       "      <td>0.530848</td>\n",
       "    </tr>\n",
       "    <tr>\n",
       "      <th>32018</th>\n",
       "      <td>0.464949</td>\n",
       "    </tr>\n",
       "    <tr>\n",
       "      <th>17048</th>\n",
       "      <td>0.443380</td>\n",
       "    </tr>\n",
       "    <tr>\n",
       "      <th>32019</th>\n",
       "      <td>0.428437</td>\n",
       "    </tr>\n",
       "    <tr>\n",
       "      <th>42304</th>\n",
       "      <td>0.418412</td>\n",
       "    </tr>\n",
       "    <tr>\n",
       "      <th>17006</th>\n",
       "      <td>0.407828</td>\n",
       "    </tr>\n",
       "    <tr>\n",
       "      <th>48003</th>\n",
       "      <td>0.405149</td>\n",
       "    </tr>\n",
       "    <tr>\n",
       "      <th>31102</th>\n",
       "      <td>0.386630</td>\n",
       "    </tr>\n",
       "    <tr>\n",
       "      <th>22009</th>\n",
       "      <td>0.381495</td>\n",
       "    </tr>\n",
       "    <tr>\n",
       "      <th>15032</th>\n",
       "      <td>0.371121</td>\n",
       "    </tr>\n",
       "    <tr>\n",
       "      <th>14008</th>\n",
       "      <td>0.371105</td>\n",
       "    </tr>\n",
       "  </tbody>\n",
       "</table>\n",
       "</div>"
      ],
      "text/plain": [
       "          metrics\n",
       "station          \n",
       "22303    1.490423\n",
       "12026    1.059009\n",
       "4108     0.868761\n",
       "19115    0.805442\n",
       "19009    0.754280\n",
       "17022    0.672651\n",
       "21212    0.618008\n",
       "18035    0.535718\n",
       "4016     0.532560\n",
       "35007    0.530848\n",
       "32018    0.464949\n",
       "17048    0.443380\n",
       "32019    0.428437\n",
       "42304    0.418412\n",
       "17006    0.407828\n",
       "48003    0.405149\n",
       "31102    0.386630\n",
       "22009    0.381495\n",
       "15032    0.371121\n",
       "14008    0.371105"
      ]
     },
     "execution_count": 40,
     "metadata": {},
     "output_type": "execute_result"
    }
   ],
   "source": [
    "pd.pivot_table(df, values='metrics' ,index='station',  aggfunc='max').sort_values(by='metrics', ascending=False).iloc[:20,:]"
   ]
  },
  {
   "cell_type": "code",
   "execution_count": 39,
   "metadata": {},
   "outputs": [
    {
     "data": {
      "text/html": [
       "<div>\n",
       "<style scoped>\n",
       "    .dataframe tbody tr th:only-of-type {\n",
       "        vertical-align: middle;\n",
       "    }\n",
       "\n",
       "    .dataframe tbody tr th {\n",
       "        vertical-align: top;\n",
       "    }\n",
       "\n",
       "    .dataframe thead th {\n",
       "        text-align: right;\n",
       "    }\n",
       "</style>\n",
       "<table border=\"1\" class=\"dataframe\">\n",
       "  <thead>\n",
       "    <tr style=\"text-align: right;\">\n",
       "      <th>model_name</th>\n",
       "      <th>Fb_Prophet</th>\n",
       "      <th>LSTM_A</th>\n",
       "      <th>LSTM_B</th>\n",
       "    </tr>\n",
       "    <tr>\n",
       "      <th>station</th>\n",
       "      <th></th>\n",
       "      <th></th>\n",
       "      <th></th>\n",
       "    </tr>\n",
       "  </thead>\n",
       "  <tbody>\n",
       "    <tr>\n",
       "      <th>1001</th>\n",
       "      <td>4.118801</td>\n",
       "      <td>2.067353</td>\n",
       "      <td>1.460104</td>\n",
       "    </tr>\n",
       "    <tr>\n",
       "      <th>1002</th>\n",
       "      <td>14.354415</td>\n",
       "      <td>6.461024</td>\n",
       "      <td>6.361458</td>\n",
       "    </tr>\n",
       "    <tr>\n",
       "      <th>1003</th>\n",
       "      <td>4.384077</td>\n",
       "      <td>1.024002</td>\n",
       "      <td>1.008917</td>\n",
       "    </tr>\n",
       "    <tr>\n",
       "      <th>1006</th>\n",
       "      <td>4.703720</td>\n",
       "      <td>1.825309</td>\n",
       "      <td>1.872394</td>\n",
       "    </tr>\n",
       "    <tr>\n",
       "      <th>1007</th>\n",
       "      <td>4.120636</td>\n",
       "      <td>1.356876</td>\n",
       "      <td>3.455719</td>\n",
       "    </tr>\n",
       "    <tr>\n",
       "      <th>...</th>\n",
       "      <td>...</td>\n",
       "      <td>...</td>\n",
       "      <td>...</td>\n",
       "    </tr>\n",
       "    <tr>\n",
       "      <th>48010</th>\n",
       "      <td>1.078760</td>\n",
       "      <td>0.699822</td>\n",
       "      <td>0.771576</td>\n",
       "    </tr>\n",
       "    <tr>\n",
       "      <th>48012</th>\n",
       "      <td>2.463156</td>\n",
       "      <td>0.604847</td>\n",
       "      <td>0.597761</td>\n",
       "    </tr>\n",
       "    <tr>\n",
       "      <th>51001</th>\n",
       "      <td>5.096110</td>\n",
       "      <td>0.681836</td>\n",
       "      <td>1.864883</td>\n",
       "    </tr>\n",
       "    <tr>\n",
       "      <th>51002</th>\n",
       "      <td>4.155848</td>\n",
       "      <td>4.122179</td>\n",
       "      <td>4.272356</td>\n",
       "    </tr>\n",
       "    <tr>\n",
       "      <th>51003</th>\n",
       "      <td>1.474662</td>\n",
       "      <td>1.585025</td>\n",
       "      <td>1.219418</td>\n",
       "    </tr>\n",
       "  </tbody>\n",
       "</table>\n",
       "<p>1300 rows × 3 columns</p>\n",
       "</div>"
      ],
      "text/plain": [
       "model_name  Fb_Prophet    LSTM_A    LSTM_B\n",
       "station                                   \n",
       "1001          4.118801  2.067353  1.460104\n",
       "1002         14.354415  6.461024  6.361458\n",
       "1003          4.384077  1.024002  1.008917\n",
       "1006          4.703720  1.825309  1.872394\n",
       "1007          4.120636  1.356876  3.455719\n",
       "...                ...       ...       ...\n",
       "48010         1.078760  0.699822  0.771576\n",
       "48012         2.463156  0.604847  0.597761\n",
       "51001         5.096110  0.681836  1.864883\n",
       "51002         4.155848  4.122179  4.272356\n",
       "51003         1.474662  1.585025  1.219418\n",
       "\n",
       "[1300 rows x 3 columns]"
      ]
     },
     "execution_count": 39,
     "metadata": {},
     "output_type": "execute_result"
    }
   ],
   "source": [
    "pd.pivot_table(df, values='metrics', columns='model_name', index='station',  aggfunc='max')"
   ]
  },
  {
   "cell_type": "code",
   "execution_count": 208,
   "metadata": {},
   "outputs": [
    {
     "data": {
      "text/html": [
       "<div>\n",
       "<style scoped>\n",
       "    .dataframe tbody tr th:only-of-type {\n",
       "        vertical-align: middle;\n",
       "    }\n",
       "\n",
       "    .dataframe tbody tr th {\n",
       "        vertical-align: top;\n",
       "    }\n",
       "\n",
       "    .dataframe thead th {\n",
       "        text-align: right;\n",
       "    }\n",
       "</style>\n",
       "<table border=\"1\" class=\"dataframe\">\n",
       "  <thead>\n",
       "    <tr style=\"text-align: right;\">\n",
       "      <th>model_name</th>\n",
       "      <th>Fb_Prophet</th>\n",
       "      <th>LSTM_A</th>\n",
       "      <th>LSTM_B</th>\n",
       "    </tr>\n",
       "    <tr>\n",
       "      <th>station</th>\n",
       "      <th></th>\n",
       "      <th></th>\n",
       "      <th></th>\n",
       "    </tr>\n",
       "  </thead>\n",
       "  <tbody>\n",
       "    <tr>\n",
       "      <th>19001</th>\n",
       "      <td>9.364989</td>\n",
       "      <td>20.210995</td>\n",
       "      <td>16.790261</td>\n",
       "    </tr>\n",
       "    <tr>\n",
       "      <th>19124</th>\n",
       "      <td>17.537338</td>\n",
       "      <td>6.914317</td>\n",
       "      <td>16.090253</td>\n",
       "    </tr>\n",
       "    <tr>\n",
       "      <th>19033</th>\n",
       "      <td>21.007203</td>\n",
       "      <td>14.759066</td>\n",
       "      <td>13.617138</td>\n",
       "    </tr>\n",
       "    <tr>\n",
       "      <th>14008</th>\n",
       "      <td>6.709875</td>\n",
       "      <td>10.857406</td>\n",
       "      <td>11.757335</td>\n",
       "    </tr>\n",
       "    <tr>\n",
       "      <th>13125</th>\n",
       "      <td>3.186660</td>\n",
       "      <td>8.948263</td>\n",
       "      <td>10.998659</td>\n",
       "    </tr>\n",
       "    <tr>\n",
       "      <th>13043</th>\n",
       "      <td>5.494988</td>\n",
       "      <td>7.439280</td>\n",
       "      <td>10.702485</td>\n",
       "    </tr>\n",
       "    <tr>\n",
       "      <th>33104</th>\n",
       "      <td>15.061605</td>\n",
       "      <td>12.332395</td>\n",
       "      <td>10.288051</td>\n",
       "    </tr>\n",
       "    <tr>\n",
       "      <th>12038</th>\n",
       "      <td>8.252961</td>\n",
       "      <td>6.251108</td>\n",
       "      <td>10.216916</td>\n",
       "    </tr>\n",
       "    <tr>\n",
       "      <th>11031</th>\n",
       "      <td>5.190398</td>\n",
       "      <td>10.351863</td>\n",
       "      <td>10.014723</td>\n",
       "    </tr>\n",
       "    <tr>\n",
       "      <th>32003</th>\n",
       "      <td>11.084151</td>\n",
       "      <td>7.288782</td>\n",
       "      <td>9.975698</td>\n",
       "    </tr>\n",
       "    <tr>\n",
       "      <th>1012</th>\n",
       "      <td>9.106177</td>\n",
       "      <td>9.767872</td>\n",
       "      <td>9.528503</td>\n",
       "    </tr>\n",
       "    <tr>\n",
       "      <th>18035</th>\n",
       "      <td>11.569107</td>\n",
       "      <td>8.184343</td>\n",
       "      <td>9.416099</td>\n",
       "    </tr>\n",
       "    <tr>\n",
       "      <th>4108</th>\n",
       "      <td>6.882903</td>\n",
       "      <td>8.245778</td>\n",
       "      <td>9.148306</td>\n",
       "    </tr>\n",
       "    <tr>\n",
       "      <th>21029</th>\n",
       "      <td>5.258127</td>\n",
       "      <td>8.701141</td>\n",
       "      <td>9.132271</td>\n",
       "    </tr>\n",
       "    <tr>\n",
       "      <th>17010</th>\n",
       "      <td>12.258974</td>\n",
       "      <td>9.559098</td>\n",
       "      <td>8.771417</td>\n",
       "    </tr>\n",
       "    <tr>\n",
       "      <th>17022</th>\n",
       "      <td>11.604390</td>\n",
       "      <td>11.630472</td>\n",
       "      <td>8.568514</td>\n",
       "    </tr>\n",
       "    <tr>\n",
       "      <th>20122</th>\n",
       "      <td>4.995998</td>\n",
       "      <td>9.952973</td>\n",
       "      <td>8.467887</td>\n",
       "    </tr>\n",
       "    <tr>\n",
       "      <th>17006</th>\n",
       "      <td>4.544128</td>\n",
       "      <td>9.406345</td>\n",
       "      <td>8.419382</td>\n",
       "    </tr>\n",
       "    <tr>\n",
       "      <th>20035</th>\n",
       "      <td>11.315084</td>\n",
       "      <td>7.998536</td>\n",
       "      <td>8.200954</td>\n",
       "    </tr>\n",
       "    <tr>\n",
       "      <th>20045</th>\n",
       "      <td>3.467750</td>\n",
       "      <td>7.146508</td>\n",
       "      <td>8.099553</td>\n",
       "    </tr>\n",
       "    <tr>\n",
       "      <th>13121</th>\n",
       "      <td>11.881787</td>\n",
       "      <td>9.979152</td>\n",
       "      <td>8.092054</td>\n",
       "    </tr>\n",
       "    <tr>\n",
       "      <th>5020</th>\n",
       "      <td>9.959904</td>\n",
       "      <td>8.027826</td>\n",
       "      <td>8.019939</td>\n",
       "    </tr>\n",
       "    <tr>\n",
       "      <th>21314</th>\n",
       "      <td>2.110168</td>\n",
       "      <td>11.758472</td>\n",
       "      <td>7.997354</td>\n",
       "    </tr>\n",
       "    <tr>\n",
       "      <th>5033</th>\n",
       "      <td>11.502777</td>\n",
       "      <td>8.249916</td>\n",
       "      <td>7.979150</td>\n",
       "    </tr>\n",
       "    <tr>\n",
       "      <th>19007</th>\n",
       "      <td>18.916401</td>\n",
       "      <td>8.910534</td>\n",
       "      <td>7.969888</td>\n",
       "    </tr>\n",
       "    <tr>\n",
       "      <th>12161</th>\n",
       "      <td>11.758759</td>\n",
       "      <td>5.737976</td>\n",
       "      <td>7.745468</td>\n",
       "    </tr>\n",
       "    <tr>\n",
       "      <th>7003</th>\n",
       "      <td>19.749408</td>\n",
       "      <td>8.185591</td>\n",
       "      <td>7.659796</td>\n",
       "    </tr>\n",
       "    <tr>\n",
       "      <th>6026</th>\n",
       "      <td>9.766791</td>\n",
       "      <td>7.579604</td>\n",
       "      <td>7.652041</td>\n",
       "    </tr>\n",
       "    <tr>\n",
       "      <th>20019</th>\n",
       "      <td>6.980596</td>\n",
       "      <td>1.464814</td>\n",
       "      <td>7.532321</td>\n",
       "    </tr>\n",
       "    <tr>\n",
       "      <th>14128</th>\n",
       "      <td>17.147303</td>\n",
       "      <td>7.773412</td>\n",
       "      <td>7.520021</td>\n",
       "    </tr>\n",
       "  </tbody>\n",
       "</table>\n",
       "</div>"
      ],
      "text/plain": [
       "model_name  Fb_Prophet     LSTM_A     LSTM_B\n",
       "station                                     \n",
       "19001         9.364989  20.210995  16.790261\n",
       "19124        17.537338   6.914317  16.090253\n",
       "19033        21.007203  14.759066  13.617138\n",
       "14008         6.709875  10.857406  11.757335\n",
       "13125         3.186660   8.948263  10.998659\n",
       "13043         5.494988   7.439280  10.702485\n",
       "33104        15.061605  12.332395  10.288051\n",
       "12038         8.252961   6.251108  10.216916\n",
       "11031         5.190398  10.351863  10.014723\n",
       "32003        11.084151   7.288782   9.975698\n",
       "1012          9.106177   9.767872   9.528503\n",
       "18035        11.569107   8.184343   9.416099\n",
       "4108          6.882903   8.245778   9.148306\n",
       "21029         5.258127   8.701141   9.132271\n",
       "17010        12.258974   9.559098   8.771417\n",
       "17022        11.604390  11.630472   8.568514\n",
       "20122         4.995998   9.952973   8.467887\n",
       "17006         4.544128   9.406345   8.419382\n",
       "20035        11.315084   7.998536   8.200954\n",
       "20045         3.467750   7.146508   8.099553\n",
       "13121        11.881787   9.979152   8.092054\n",
       "5020          9.959904   8.027826   8.019939\n",
       "21314         2.110168  11.758472   7.997354\n",
       "5033         11.502777   8.249916   7.979150\n",
       "19007        18.916401   8.910534   7.969888\n",
       "12161        11.758759   5.737976   7.745468\n",
       "7003         19.749408   8.185591   7.659796\n",
       "6026          9.766791   7.579604   7.652041\n",
       "20019         6.980596   1.464814   7.532321\n",
       "14128        17.147303   7.773412   7.520021"
      ]
     },
     "execution_count": 208,
     "metadata": {},
     "output_type": "execute_result"
    }
   ],
   "source": [
    "df_by_station = pd.pivot_table(df, values='metrics', columns='model_name', index='station',  aggfunc='max').sort_values(by='LSTM_B', ascending = False)\n",
    "df_by_station.head(30)"
   ]
  },
  {
   "cell_type": "code",
   "execution_count": 89,
   "metadata": {},
   "outputs": [
    {
     "name": "stderr",
     "output_type": "stream",
     "text": [
      "/home/exalis/anaconda3/envs/tensorflowenv/lib/python3.7/site-packages/pandas/core/indexing.py:671: SettingWithCopyWarning: \n",
      "A value is trying to be set on a copy of a slice from a DataFrame\n",
      "\n",
      "See the caveats in the documentation: https://pandas.pydata.org/pandas-docs/stable/user_guide/indexing.html#returning-a-view-versus-a-copy\n",
      "  self._setitem_with_indexer(indexer, value)\n"
     ]
    }
   ],
   "source": [
    "df_by_station[\"best_model\"] = \"\" \n",
    "df_by_station[\"best_metrics\"] = \"\" \n",
    "for i in df_by_station.index:\n",
    "    if min(df_by_station.loc[i][:3]) == df_by_station[\"Fb_Prophet\"].loc[i]:\n",
    "        df_by_station[\"best_model\"].loc[i] = \"Fb_Prophet\"\n",
    "        df_by_station[\"best_metrics\"].loc[i] = df_by_station[\"Fb_Prophet\"].loc[i]\n",
    "    elif min(df_by_station.loc[i][:3]) == df_by_station[\"LSTM_A\"].loc[i]:\n",
    "        df_by_station[\"best_model\"].loc[i] = \"LSTM_A\"\n",
    "        df_by_station[\"best_metrics\"].loc[i] = df_by_station[\"LSTM_A\"].loc[i]\n",
    "    else:\n",
    "        df_by_station[\"best_model\"].loc[i] = \"LSTM_B\"\n",
    "        df_by_station[\"best_metrics\"].loc[i] = df_by_station[\"LSTM_B\"].loc[i]"
   ]
  },
  {
   "cell_type": "code",
   "execution_count": 90,
   "metadata": {},
   "outputs": [
    {
     "data": {
      "text/html": [
       "<div>\n",
       "<style scoped>\n",
       "    .dataframe tbody tr th:only-of-type {\n",
       "        vertical-align: middle;\n",
       "    }\n",
       "\n",
       "    .dataframe tbody tr th {\n",
       "        vertical-align: top;\n",
       "    }\n",
       "\n",
       "    .dataframe thead th {\n",
       "        text-align: right;\n",
       "    }\n",
       "</style>\n",
       "<table border=\"1\" class=\"dataframe\">\n",
       "  <thead>\n",
       "    <tr style=\"text-align: right;\">\n",
       "      <th>model_name</th>\n",
       "      <th>Fb_Prophet</th>\n",
       "      <th>LSTM_A</th>\n",
       "      <th>LSTM_B</th>\n",
       "      <th>best_model</th>\n",
       "      <th>best_metrics</th>\n",
       "    </tr>\n",
       "    <tr>\n",
       "      <th>station</th>\n",
       "      <th></th>\n",
       "      <th></th>\n",
       "      <th></th>\n",
       "      <th></th>\n",
       "      <th></th>\n",
       "    </tr>\n",
       "  </thead>\n",
       "  <tbody>\n",
       "    <tr>\n",
       "      <th>32018</th>\n",
       "      <td>22.895621</td>\n",
       "      <td>3.416523</td>\n",
       "      <td>2.363501</td>\n",
       "      <td>LSTM_B</td>\n",
       "      <td>2.3635</td>\n",
       "    </tr>\n",
       "    <tr>\n",
       "      <th>5026</th>\n",
       "      <td>22.192535</td>\n",
       "      <td>7.264653</td>\n",
       "      <td>5.318502</td>\n",
       "      <td>LSTM_B</td>\n",
       "      <td>5.3185</td>\n",
       "    </tr>\n",
       "    <tr>\n",
       "      <th>19033</th>\n",
       "      <td>21.007203</td>\n",
       "      <td>14.759066</td>\n",
       "      <td>13.617138</td>\n",
       "      <td>LSTM_B</td>\n",
       "      <td>13.6171</td>\n",
       "    </tr>\n",
       "    <tr>\n",
       "      <th>44002</th>\n",
       "      <td>20.997394</td>\n",
       "      <td>3.935458</td>\n",
       "      <td>3.806130</td>\n",
       "      <td>LSTM_B</td>\n",
       "      <td>3.80613</td>\n",
       "    </tr>\n",
       "    <tr>\n",
       "      <th>15104</th>\n",
       "      <td>20.569338</td>\n",
       "      <td>3.277925</td>\n",
       "      <td>3.053583</td>\n",
       "      <td>LSTM_B</td>\n",
       "      <td>3.05358</td>\n",
       "    </tr>\n",
       "  </tbody>\n",
       "</table>\n",
       "</div>"
      ],
      "text/plain": [
       "model_name  Fb_Prophet     LSTM_A     LSTM_B best_model best_metrics\n",
       "station                                                             \n",
       "32018        22.895621   3.416523   2.363501     LSTM_B       2.3635\n",
       "5026         22.192535   7.264653   5.318502     LSTM_B       5.3185\n",
       "19033        21.007203  14.759066  13.617138     LSTM_B      13.6171\n",
       "44002        20.997394   3.935458   3.806130     LSTM_B      3.80613\n",
       "15104        20.569338   3.277925   3.053583     LSTM_B      3.05358"
      ]
     },
     "execution_count": 90,
     "metadata": {},
     "output_type": "execute_result"
    }
   ],
   "source": [
    "df_by_station.head()"
   ]
  },
  {
   "cell_type": "code",
   "execution_count": 91,
   "metadata": {},
   "outputs": [],
   "source": [
    "summary_table = pd.pivot_table(df_by_station, values='best_metrics', index='best_model',  aggfunc='count')"
   ]
  },
  {
   "cell_type": "code",
   "execution_count": 118,
   "metadata": {},
   "outputs": [
    {
     "name": "stdout",
     "output_type": "stream",
     "text": [
      "Fb_Prophet\n",
      "LSTM_A\n",
      "LSTM_B\n"
     ]
    },
    {
     "name": "stderr",
     "output_type": "stream",
     "text": [
      "/home/exalis/anaconda3/envs/tensorflowenv/lib/python3.7/site-packages/ipykernel_launcher.py:4: SettingWithCopyWarning: \n",
      "A value is trying to be set on a copy of a slice from a DataFrame\n",
      "\n",
      "See the caveats in the documentation: https://pandas.pydata.org/pandas-docs/stable/user_guide/indexing.html#returning-a-view-versus-a-copy\n",
      "  after removing the cwd from sys.path.\n"
     ]
    }
   ],
   "source": [
    "summary_table[\"%\"] = \"\"\n",
    "for i in summary_table.index:\n",
    "    print(i)\n",
    "    summary_table[\"%\"][i] = summary_table.best_metrics[i] / summary_table.best_metrics.sum()"
   ]
  },
  {
   "cell_type": "code",
   "execution_count": 120,
   "metadata": {},
   "outputs": [
    {
     "data": {
      "text/html": [
       "<div>\n",
       "<style scoped>\n",
       "    .dataframe tbody tr th:only-of-type {\n",
       "        vertical-align: middle;\n",
       "    }\n",
       "\n",
       "    .dataframe tbody tr th {\n",
       "        vertical-align: top;\n",
       "    }\n",
       "\n",
       "    .dataframe thead th {\n",
       "        text-align: right;\n",
       "    }\n",
       "</style>\n",
       "<table border=\"1\" class=\"dataframe\">\n",
       "  <thead>\n",
       "    <tr style=\"text-align: right;\">\n",
       "      <th>model_name</th>\n",
       "      <th>best_metrics</th>\n",
       "      <th>%</th>\n",
       "    </tr>\n",
       "    <tr>\n",
       "      <th>best_model</th>\n",
       "      <th></th>\n",
       "      <th></th>\n",
       "    </tr>\n",
       "  </thead>\n",
       "  <tbody>\n",
       "    <tr>\n",
       "      <th>Fb_Prophet</th>\n",
       "      <td>97</td>\n",
       "      <td>0.0746154</td>\n",
       "    </tr>\n",
       "    <tr>\n",
       "      <th>LSTM_A</th>\n",
       "      <td>652</td>\n",
       "      <td>0.501538</td>\n",
       "    </tr>\n",
       "    <tr>\n",
       "      <th>LSTM_B</th>\n",
       "      <td>551</td>\n",
       "      <td>0.423846</td>\n",
       "    </tr>\n",
       "  </tbody>\n",
       "</table>\n",
       "</div>"
      ],
      "text/plain": [
       "model_name  best_metrics          %\n",
       "best_model                         \n",
       "Fb_Prophet            97  0.0746154\n",
       "LSTM_A               652   0.501538\n",
       "LSTM_B               551   0.423846"
      ]
     },
     "execution_count": 120,
     "metadata": {},
     "output_type": "execute_result"
    }
   ],
   "source": [
    "summary_table"
   ]
  },
  {
   "cell_type": "code",
   "execution_count": 155,
   "metadata": {},
   "outputs": [],
   "source": [
    "def result_visualization(df, station, time):\n",
    "    temp_df = df[df['station'] == station]\n",
    "    temp_df = temp_df[temp_df['Date'] == time]\n",
    "    return temp_df"
   ]
  },
  {
   "cell_type": "code",
   "execution_count": 159,
   "metadata": {},
   "outputs": [],
   "source": [
    "temp_df = result_visualization(df, 10001, '2020-05-10 09:45:00')"
   ]
  },
  {
   "cell_type": "code",
   "execution_count": 162,
   "metadata": {},
   "outputs": [],
   "source": [
    "lstm_A = temp_df[temp_df['model_name'] == 'LSTM_A']"
   ]
  },
  {
   "cell_type": "code",
   "execution_count": 163,
   "metadata": {},
   "outputs": [
    {
     "data": {
      "text/html": [
       "<div>\n",
       "<style scoped>\n",
       "    .dataframe tbody tr th:only-of-type {\n",
       "        vertical-align: middle;\n",
       "    }\n",
       "\n",
       "    .dataframe tbody tr th {\n",
       "        vertical-align: top;\n",
       "    }\n",
       "\n",
       "    .dataframe thead th {\n",
       "        text-align: right;\n",
       "    }\n",
       "</style>\n",
       "<table border=\"1\" class=\"dataframe\">\n",
       "  <thead>\n",
       "    <tr style=\"text-align: right;\">\n",
       "      <th></th>\n",
       "      <th>Date</th>\n",
       "      <th>Prediction</th>\n",
       "      <th>real_values</th>\n",
       "      <th>metrics</th>\n",
       "      <th>station</th>\n",
       "      <th>model_name</th>\n",
       "    </tr>\n",
       "  </thead>\n",
       "  <tbody>\n",
       "    <tr>\n",
       "      <th>15</th>\n",
       "      <td>2020-05-10 09:45:00</td>\n",
       "      <td>[14.196996 14.325897 14.260663 14.337485 14.48...</td>\n",
       "      <td>[14 14 14 14 14 14]</td>\n",
       "      <td>0.362274</td>\n",
       "      <td>10001</td>\n",
       "      <td>LSTM_A</td>\n",
       "    </tr>\n",
       "  </tbody>\n",
       "</table>\n",
       "</div>"
      ],
      "text/plain": [
       "                   Date                                         Prediction          real_values   metrics  station model_name\n",
       "15  2020-05-10 09:45:00  [14.196996 14.325897 14.260663 14.337485 14.48...  [14 14 14 14 14 14]  0.362274    10001     LSTM_A"
      ]
     },
     "execution_count": 163,
     "metadata": {},
     "output_type": "execute_result"
    }
   ],
   "source": [
    "lstm_A"
   ]
  },
  {
   "cell_type": "code",
   "execution_count": 178,
   "metadata": {},
   "outputs": [
    {
     "data": {
      "text/plain": [
       "15    [14.196996 14.325897 14.260663 14.337485 14.48...\n",
       "Name: Prediction, dtype: object"
      ]
     },
     "execution_count": 178,
     "metadata": {},
     "output_type": "execute_result"
    }
   ],
   "source": [
    "lstm_A['Prediction']"
   ]
  },
  {
   "cell_type": "code",
   "execution_count": 185,
   "metadata": {},
   "outputs": [
    {
     "ename": "DataError",
     "evalue": "No numeric types to aggregate",
     "output_type": "error",
     "traceback": [
      "\u001b[0;31m---------------------------------------------------------------------------\u001b[0m",
      "\u001b[0;31mDataError\u001b[0m                                 Traceback (most recent call last)",
      "\u001b[0;32m<ipython-input-185-9484f7064589>\u001b[0m in \u001b[0;36m<module>\u001b[0;34m\u001b[0m\n\u001b[0;32m----> 1\u001b[0;31m \u001b[0m_\u001b[0m \u001b[0;34m=\u001b[0m \u001b[0msns\u001b[0m\u001b[0;34m.\u001b[0m\u001b[0mlineplot\u001b[0m\u001b[0;34m(\u001b[0m\u001b[0mx\u001b[0m\u001b[0;34m=\u001b[0m\u001b[0;34m'real_values'\u001b[0m\u001b[0;34m,\u001b[0m \u001b[0my\u001b[0m\u001b[0;34m=\u001b[0m\u001b[0;34m'Prediction'\u001b[0m\u001b[0;34m,\u001b[0m \u001b[0mdata\u001b[0m\u001b[0;34m=\u001b[0m\u001b[0mlstm_A\u001b[0m\u001b[0;34m)\u001b[0m\u001b[0;34m\u001b[0m\u001b[0;34m\u001b[0m\u001b[0m\n\u001b[0m",
      "\u001b[0;32m~/anaconda3/envs/tensorflowenv/lib/python3.7/site-packages/seaborn/relational.py\u001b[0m in \u001b[0;36mlineplot\u001b[0;34m(x, y, hue, size, style, data, palette, hue_order, hue_norm, sizes, size_order, size_norm, dashes, markers, style_order, units, estimator, ci, n_boot, seed, sort, err_style, err_kws, legend, ax, **kwargs)\u001b[0m\n\u001b[1;32m   1130\u001b[0m         \u001b[0max\u001b[0m \u001b[0;34m=\u001b[0m \u001b[0mplt\u001b[0m\u001b[0;34m.\u001b[0m\u001b[0mgca\u001b[0m\u001b[0;34m(\u001b[0m\u001b[0;34m)\u001b[0m\u001b[0;34m\u001b[0m\u001b[0;34m\u001b[0m\u001b[0m\n\u001b[1;32m   1131\u001b[0m \u001b[0;34m\u001b[0m\u001b[0m\n\u001b[0;32m-> 1132\u001b[0;31m     \u001b[0mp\u001b[0m\u001b[0;34m.\u001b[0m\u001b[0mplot\u001b[0m\u001b[0;34m(\u001b[0m\u001b[0max\u001b[0m\u001b[0;34m,\u001b[0m \u001b[0mkwargs\u001b[0m\u001b[0;34m)\u001b[0m\u001b[0;34m\u001b[0m\u001b[0;34m\u001b[0m\u001b[0m\n\u001b[0m\u001b[1;32m   1133\u001b[0m     \u001b[0;32mreturn\u001b[0m \u001b[0max\u001b[0m\u001b[0;34m\u001b[0m\u001b[0;34m\u001b[0m\u001b[0m\n\u001b[1;32m   1134\u001b[0m \u001b[0;34m\u001b[0m\u001b[0m\n",
      "\u001b[0;32m~/anaconda3/envs/tensorflowenv/lib/python3.7/site-packages/seaborn/relational.py\u001b[0m in \u001b[0;36mplot\u001b[0;34m(self, ax, kws)\u001b[0m\n\u001b[1;32m    807\u001b[0m                     \u001b[0merr\u001b[0m \u001b[0;34m=\u001b[0m \u001b[0;34m\"estimator must be None when specifying units\"\u001b[0m\u001b[0;34m\u001b[0m\u001b[0;34m\u001b[0m\u001b[0m\n\u001b[1;32m    808\u001b[0m                     \u001b[0;32mraise\u001b[0m \u001b[0mValueError\u001b[0m\u001b[0;34m(\u001b[0m\u001b[0merr\u001b[0m\u001b[0;34m)\u001b[0m\u001b[0;34m\u001b[0m\u001b[0;34m\u001b[0m\u001b[0m\n\u001b[0;32m--> 809\u001b[0;31m                 \u001b[0mx\u001b[0m\u001b[0;34m,\u001b[0m \u001b[0my\u001b[0m\u001b[0;34m,\u001b[0m \u001b[0my_ci\u001b[0m \u001b[0;34m=\u001b[0m \u001b[0mself\u001b[0m\u001b[0;34m.\u001b[0m\u001b[0maggregate\u001b[0m\u001b[0;34m(\u001b[0m\u001b[0my\u001b[0m\u001b[0;34m,\u001b[0m \u001b[0mx\u001b[0m\u001b[0;34m,\u001b[0m \u001b[0munits\u001b[0m\u001b[0;34m)\u001b[0m\u001b[0;34m\u001b[0m\u001b[0;34m\u001b[0m\u001b[0m\n\u001b[0m\u001b[1;32m    810\u001b[0m             \u001b[0;32melse\u001b[0m\u001b[0;34m:\u001b[0m\u001b[0;34m\u001b[0m\u001b[0;34m\u001b[0m\u001b[0m\n\u001b[1;32m    811\u001b[0m                 \u001b[0my_ci\u001b[0m \u001b[0;34m=\u001b[0m \u001b[0;32mNone\u001b[0m\u001b[0;34m\u001b[0m\u001b[0;34m\u001b[0m\u001b[0m\n",
      "\u001b[0;32m~/anaconda3/envs/tensorflowenv/lib/python3.7/site-packages/seaborn/relational.py\u001b[0m in \u001b[0;36maggregate\u001b[0;34m(self, vals, grouper, units)\u001b[0m\n\u001b[1;32m    737\u001b[0m         \u001b[0;31m# Group and get the aggregation estimate\u001b[0m\u001b[0;34m\u001b[0m\u001b[0;34m\u001b[0m\u001b[0;34m\u001b[0m\u001b[0m\n\u001b[1;32m    738\u001b[0m         \u001b[0mgrouped\u001b[0m \u001b[0;34m=\u001b[0m \u001b[0mvals\u001b[0m\u001b[0;34m.\u001b[0m\u001b[0mgroupby\u001b[0m\u001b[0;34m(\u001b[0m\u001b[0mgrouper\u001b[0m\u001b[0;34m,\u001b[0m \u001b[0msort\u001b[0m\u001b[0;34m=\u001b[0m\u001b[0mself\u001b[0m\u001b[0;34m.\u001b[0m\u001b[0msort\u001b[0m\u001b[0;34m)\u001b[0m\u001b[0;34m\u001b[0m\u001b[0;34m\u001b[0m\u001b[0m\n\u001b[0;32m--> 739\u001b[0;31m         \u001b[0mest\u001b[0m \u001b[0;34m=\u001b[0m \u001b[0mgrouped\u001b[0m\u001b[0;34m.\u001b[0m\u001b[0magg\u001b[0m\u001b[0;34m(\u001b[0m\u001b[0mfunc\u001b[0m\u001b[0;34m)\u001b[0m\u001b[0;34m\u001b[0m\u001b[0;34m\u001b[0m\u001b[0m\n\u001b[0m\u001b[1;32m    740\u001b[0m \u001b[0;34m\u001b[0m\u001b[0m\n\u001b[1;32m    741\u001b[0m         \u001b[0;31m# Exit early if we don't want a confidence interval\u001b[0m\u001b[0;34m\u001b[0m\u001b[0;34m\u001b[0m\u001b[0;34m\u001b[0m\u001b[0m\n",
      "\u001b[0;32m~/anaconda3/envs/tensorflowenv/lib/python3.7/site-packages/pandas/core/groupby/generic.py\u001b[0m in \u001b[0;36maggregate\u001b[0;34m(self, func, *args, **kwargs)\u001b[0m\n\u001b[1;32m    245\u001b[0m \u001b[0;34m\u001b[0m\u001b[0m\n\u001b[1;32m    246\u001b[0m         \u001b[0;32mif\u001b[0m \u001b[0misinstance\u001b[0m\u001b[0;34m(\u001b[0m\u001b[0mfunc\u001b[0m\u001b[0;34m,\u001b[0m \u001b[0mstr\u001b[0m\u001b[0;34m)\u001b[0m\u001b[0;34m:\u001b[0m\u001b[0;34m\u001b[0m\u001b[0;34m\u001b[0m\u001b[0m\n\u001b[0;32m--> 247\u001b[0;31m             \u001b[0;32mreturn\u001b[0m \u001b[0mgetattr\u001b[0m\u001b[0;34m(\u001b[0m\u001b[0mself\u001b[0m\u001b[0;34m,\u001b[0m \u001b[0mfunc\u001b[0m\u001b[0;34m)\u001b[0m\u001b[0;34m(\u001b[0m\u001b[0;34m*\u001b[0m\u001b[0margs\u001b[0m\u001b[0;34m,\u001b[0m \u001b[0;34m**\u001b[0m\u001b[0mkwargs\u001b[0m\u001b[0;34m)\u001b[0m\u001b[0;34m\u001b[0m\u001b[0;34m\u001b[0m\u001b[0m\n\u001b[0m\u001b[1;32m    248\u001b[0m \u001b[0;34m\u001b[0m\u001b[0m\n\u001b[1;32m    249\u001b[0m         \u001b[0;32melif\u001b[0m \u001b[0misinstance\u001b[0m\u001b[0;34m(\u001b[0m\u001b[0mfunc\u001b[0m\u001b[0;34m,\u001b[0m \u001b[0mabc\u001b[0m\u001b[0;34m.\u001b[0m\u001b[0mIterable\u001b[0m\u001b[0;34m)\u001b[0m\u001b[0;34m:\u001b[0m\u001b[0;34m\u001b[0m\u001b[0;34m\u001b[0m\u001b[0m\n",
      "\u001b[0;32m~/anaconda3/envs/tensorflowenv/lib/python3.7/site-packages/pandas/core/groupby/groupby.py\u001b[0m in \u001b[0;36mmean\u001b[0;34m(self, *args, **kwargs)\u001b[0m\n\u001b[1;32m   1223\u001b[0m         \u001b[0mnv\u001b[0m\u001b[0;34m.\u001b[0m\u001b[0mvalidate_groupby_func\u001b[0m\u001b[0;34m(\u001b[0m\u001b[0;34m\"mean\"\u001b[0m\u001b[0;34m,\u001b[0m \u001b[0margs\u001b[0m\u001b[0;34m,\u001b[0m \u001b[0mkwargs\u001b[0m\u001b[0;34m,\u001b[0m \u001b[0;34m[\u001b[0m\u001b[0;34m\"numeric_only\"\u001b[0m\u001b[0;34m]\u001b[0m\u001b[0;34m)\u001b[0m\u001b[0;34m\u001b[0m\u001b[0;34m\u001b[0m\u001b[0m\n\u001b[1;32m   1224\u001b[0m         return self._cython_agg_general(\n\u001b[0;32m-> 1225\u001b[0;31m             \u001b[0;34m\"mean\"\u001b[0m\u001b[0;34m,\u001b[0m \u001b[0malt\u001b[0m\u001b[0;34m=\u001b[0m\u001b[0;32mlambda\u001b[0m \u001b[0mx\u001b[0m\u001b[0;34m,\u001b[0m \u001b[0maxis\u001b[0m\u001b[0;34m:\u001b[0m \u001b[0mSeries\u001b[0m\u001b[0;34m(\u001b[0m\u001b[0mx\u001b[0m\u001b[0;34m)\u001b[0m\u001b[0;34m.\u001b[0m\u001b[0mmean\u001b[0m\u001b[0;34m(\u001b[0m\u001b[0;34m**\u001b[0m\u001b[0mkwargs\u001b[0m\u001b[0;34m)\u001b[0m\u001b[0;34m,\u001b[0m \u001b[0;34m**\u001b[0m\u001b[0mkwargs\u001b[0m\u001b[0;34m\u001b[0m\u001b[0;34m\u001b[0m\u001b[0m\n\u001b[0m\u001b[1;32m   1226\u001b[0m         )\n\u001b[1;32m   1227\u001b[0m \u001b[0;34m\u001b[0m\u001b[0m\n",
      "\u001b[0;32m~/anaconda3/envs/tensorflowenv/lib/python3.7/site-packages/pandas/core/groupby/groupby.py\u001b[0m in \u001b[0;36m_cython_agg_general\u001b[0;34m(self, how, alt, numeric_only, min_count)\u001b[0m\n\u001b[1;32m    905\u001b[0m \u001b[0;34m\u001b[0m\u001b[0m\n\u001b[1;32m    906\u001b[0m         \u001b[0;32mif\u001b[0m \u001b[0mlen\u001b[0m\u001b[0;34m(\u001b[0m\u001b[0moutput\u001b[0m\u001b[0;34m)\u001b[0m \u001b[0;34m==\u001b[0m \u001b[0;36m0\u001b[0m\u001b[0;34m:\u001b[0m\u001b[0;34m\u001b[0m\u001b[0;34m\u001b[0m\u001b[0m\n\u001b[0;32m--> 907\u001b[0;31m             \u001b[0;32mraise\u001b[0m \u001b[0mDataError\u001b[0m\u001b[0;34m(\u001b[0m\u001b[0;34m\"No numeric types to aggregate\"\u001b[0m\u001b[0;34m)\u001b[0m\u001b[0;34m\u001b[0m\u001b[0;34m\u001b[0m\u001b[0m\n\u001b[0m\u001b[1;32m    908\u001b[0m \u001b[0;34m\u001b[0m\u001b[0m\n\u001b[1;32m    909\u001b[0m         \u001b[0;32mreturn\u001b[0m \u001b[0mself\u001b[0m\u001b[0;34m.\u001b[0m\u001b[0m_wrap_aggregated_output\u001b[0m\u001b[0;34m(\u001b[0m\u001b[0moutput\u001b[0m\u001b[0;34m)\u001b[0m\u001b[0;34m\u001b[0m\u001b[0;34m\u001b[0m\u001b[0m\n",
      "\u001b[0;31mDataError\u001b[0m: No numeric types to aggregate"
     ]
    },
    {
     "data": {
      "image/png": "[encoded data removed]",
      "text/plain": [
       "<Figure size 432x288 with 1 Axes>"
      ]
     },
     "metadata": {
      "needs_background": "light"
     },
     "output_type": "display_data"
    }
   ],
   "source": [
    "_ = sns.lineplot(x='real_values', y='Prediction', data=lstm_A)"
   ]
  },
  {
   "cell_type": "code",
   "execution_count": 170,
   "metadata": {},
   "outputs": [
    {
     "data": {
      "text/plain": [
       "range(0, 5)"
      ]
     },
     "execution_count": 170,
     "metadata": {},
     "output_type": "execute_result"
    }
   ],
   "source": [
    "range(5)"
   ]
  },
  {
   "cell_type": "code",
   "execution_count": 158,
   "metadata": {},
   "outputs": [],
   "source": [
    "import seaborn as sns"
   ]
  },
  {
   "cell_type": "code",
   "execution_count": null,
   "metadata": {},
   "outputs": [],
   "source": [
    "_ = seaborn.lineplot(data)"
   ]
  },
  {
   "cell_type": "code",
   "execution_count": 187,
   "metadata": {},
   "outputs": [
    {
     "data": {
      "text/plain": [
       "station\n",
       "32018    22.895621\n",
       "5026     22.192535\n",
       "19033    21.007203\n",
       "44002    20.997394\n",
       "15104    20.569338\n",
       "           ...    \n",
       "17123     0.000000\n",
       "44001     0.000000\n",
       "2111      0.000000\n",
       "44009     0.000000\n",
       "12165     0.000000\n",
       "Name: Fb_Prophet, Length: 1300, dtype: float64"
      ]
     },
     "execution_count": 187,
     "metadata": {},
     "output_type": "execute_result"
    }
   ],
   "source": [
    "df_by_station.Fb_Prophet"
   ]
  },
  {
   "cell_type": "code",
   "execution_count": 189,
   "metadata": {},
   "outputs": [
    {
     "data": {
      "image/png": "[encoded data removed]",
      "text/plain": [
       "<Figure size 432x288 with 1 Axes>"
      ]
     },
     "metadata": {
      "needs_background": "light"
     },
     "output_type": "display_data"
    }
   ],
   "source": [
    "f="
   ]
  },
  {
   "cell_type": "code",
   "execution_count": 194,
   "metadata": {},
   "outputs": [],
   "source": [
    "import matplotlib.pyplot as plt"
   ]
  },
  {
   "cell_type": "code",
   "execution_count": 205,
   "metadata": {},
   "outputs": [
    {
     "data": {
      "text/plain": [
       "<function matplotlib.pyplot.show(*args, **kw)>"
      ]
     },
     "execution_count": 205,
     "metadata": {},
     "output_type": "execute_result"
    },
    {
     "data": {
      "image/png": "[encoded data removed]",
      "text/plain": [
       "<Figure size 720x360 with 1 Axes>"
      ]
     },
     "metadata": {
      "needs_background": "light"
     },
     "output_type": "display_data"
    }
   ],
   "source": [
    "f, ax = plt.subplots(figsize=(10,5))\n",
    "\n",
    "_ = sns.distplot(df_by_station.Fb_Prophet, color='blue')\n",
    "_ = sns.distplot(df_by_station.LSTM_A, color='red')\n",
    "_ = sns.distplot(df_by_station.LSTM_B, color='yellow')\n",
    "\n",
    "plt.show"
   ]
  },
  {
   "cell_type": "code",
   "execution_count": 206,
   "metadata": {},
   "outputs": [
    {
     "data": {
      "text/plain": [
       "<function matplotlib.pyplot.show(*args, **kw)>"
      ]
     },
     "execution_count": 206,
     "metadata": {},
     "output_type": "execute_result"
    },
    {
     "data": {
      "image/png": "[encoded data removed]",
      "text/plain": [
       "<Figure size 720x360 with 1 Axes>"
      ]
     },
     "metadata": {
      "needs_background": "light"
     },
     "output_type": "display_data"
    }
   ],
   "source": [
    "f, ax = plt.subplots(figsize=(10,5))\n",
    "\n",
    "_ = sns.distplot(df_by_station.LSTM_A, color='red')\n",
    "_ = sns.distplot(df_by_station.LSTM_B, color='yellow')\n",
    "\n",
    "plt.show"
   ]
  },
  {
   "cell_type": "markdown",
   "metadata": {},
   "source": [
    "Model LSTM_A is the best!!"
   ]
  },
  {
   "cell_type": "code",
   "execution_count": null,
   "metadata": {},
   "outputs": [],
   "source": []
  },
  {
   "cell_type": "code",
   "execution_count": 202,
   "metadata": {},
   "outputs": [
    {
     "data": {
      "image/png": "[encoded data removed]",
      "text/plain": [
       "<Figure size 720x720 with 1 Axes>"
      ]
     },
     "metadata": {
      "needs_background": "light"
     },
     "output_type": "display_data"
    }
   ],
   "source": [
    "fig, ax = plt.subplots(figsize=(10,10))\n",
    "sns.distplot(df['age'],ax=ax,axlabel='all',hist=False)\n",
    "sns.distplot(df[df['class']=='1']['age'],ax=ax,axlabel='fraud',color='red',hist=False)\n",
    "sns.distplot(df[df['class']=='0']['age'],ax=ax,axlabel='fraud',color='green',hist=False)\n",
    "plt.show()"
   ]
  },
  {
   "cell_type": "markdown",
   "metadata": {},
   "source": [
    "Inclure les deux modèles et tracer une zone entre les deux?"
   ]
  },
  {
   "cell_type": "code",
   "execution_count": null,
   "metadata": {},
   "outputs": [],
   "source": []
  },
  {
   "cell_type": "code",
   "execution_count": null,
   "metadata": {},
   "outputs": [],
   "source": []
  }
 ],
 "metadata": {
  "kernelspec": {
   "display_name": "Python 3",
   "language": "python",
   "name": "python3"
  },
  "language_info": {
   "codemirror_mode": {
    "name": "ipython",
    "version": 3
   },
   "file_extension": ".py",
   "mimetype": "text/x-python",
   "name": "python",
   "nbconvert_exporter": "python",
   "pygments_lexer": "ipython3",
   "version": "3.7.7"
  }
 },
 "nbformat": 4,
 "nbformat_minor": 4
}
