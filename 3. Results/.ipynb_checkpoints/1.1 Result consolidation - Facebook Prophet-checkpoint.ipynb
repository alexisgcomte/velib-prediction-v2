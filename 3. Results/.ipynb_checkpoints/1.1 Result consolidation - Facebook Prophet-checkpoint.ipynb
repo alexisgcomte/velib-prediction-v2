{
 "cells": [
  {
   "cell_type": "code",
   "execution_count": 1,
   "metadata": {},
   "outputs": [],
   "source": [
    "# Library importation\n",
    "\n",
    "import pandas as pd\n",
    "import numpy as np\n",
    "from os import listdir\n",
    "from os.path import isfile, join\n",
    "import math"
   ]
  },
  {
   "cell_type": "code",
   "execution_count": 2,
   "metadata": {},
   "outputs": [],
   "source": [
    "# Declaration of variables \n",
    "import_path = '/home/exalis/Github/velib-prediction-v2/3. Results/1 . Facebook Prophet'\n",
    "export_path = '/home/exalis/Github/velib-prediction-v2/3. Results'\n",
    "export_name = \"consolidated_dataset_temp.csv\""
   ]
  },
  {
   "cell_type": "code",
   "execution_count": 3,
   "metadata": {},
   "outputs": [
    {
     "name": "stdout",
     "output_type": "stream",
     "text": [
      "number of files: 1390\n"
     ]
    }
   ],
   "source": [
    "# List of Files\n",
    "list_of_files = [f for f in listdir(import_path) if isfile(join(import_path, f))]\n",
    "list_of_files = sorted(list_of_files)\n",
    "print(\"number of files:\", len(list_of_files))"
   ]
  },
  {
   "cell_type": "code",
   "execution_count": 4,
   "metadata": {},
   "outputs": [],
   "source": [
    "# Setting number of trucations\n",
    "split_size = 100\n",
    "split_number = math.trunc(len(list_of_files)/split_size) + 1\n",
    "\n",
    "# Creation of list of batch\n",
    "batch = np.split(np.array(pd.DataFrame(list_of_files)[0:(split_number-1)*split_size]) ,split_number-1)\n",
    "\n",
    "# Adding the last files\n",
    "batch.append(np.array(pd.DataFrame(list_of_files[(split_number-1) * split_size:len(list_of_files)])))\n"
   ]
  },
  {
   "cell_type": "code",
   "execution_count": 5,
   "metadata": {},
   "outputs": [],
   "source": [
    "# Initialisation of consolidated dataframe with first csv of the list\n",
    "\n",
    "df_conso = pd.read_csv(import_path+\"/\"+list_of_files[0],sep=\",\")\n",
    "\n",
    "# Addition of notion of date\n",
    "df_conso['station'] = \"\"\n",
    "\n",
    "# Conservation of only headers\n",
    "df_conso = df_conso[0:0]\n",
    "\n",
    "# Conservation of only headers\n",
    "df_template = df_conso"
   ]
  },
  {
   "cell_type": "code",
   "execution_count": 6,
   "metadata": {},
   "outputs": [
    {
     "data": {
      "text/html": [
       "<div>\n",
       "<style scoped>\n",
       "    .dataframe tbody tr th:only-of-type {\n",
       "        vertical-align: middle;\n",
       "    }\n",
       "\n",
       "    .dataframe tbody tr th {\n",
       "        vertical-align: top;\n",
       "    }\n",
       "\n",
       "    .dataframe thead th {\n",
       "        text-align: right;\n",
       "    }\n",
       "</style>\n",
       "<table border=\"1\" class=\"dataframe\">\n",
       "  <thead>\n",
       "    <tr style=\"text-align: right;\">\n",
       "      <th></th>\n",
       "      <th>Unnamed: 0</th>\n",
       "      <th>prediction</th>\n",
       "      <th>real_values</th>\n",
       "      <th>metrics</th>\n",
       "      <th>station</th>\n",
       "    </tr>\n",
       "  </thead>\n",
       "  <tbody>\n",
       "  </tbody>\n",
       "</table>\n",
       "</div>"
      ],
      "text/plain": [
       "Empty DataFrame\n",
       "Columns: [Unnamed: 0, prediction, real_values, metrics, station]\n",
       "Index: []"
      ]
     },
     "execution_count": 6,
     "metadata": {},
     "output_type": "execute_result"
    }
   ],
   "source": [
    "df_template"
   ]
  },
  {
   "cell_type": "code",
   "execution_count": 7,
   "metadata": {},
   "outputs": [
    {
     "name": "stdout",
     "output_type": "stream",
     "text": [
      "Consolidation in progress:\n",
      "---------------------------\n",
      "100/1390 (7.2%)\n",
      "200/1390 (14.4%)\n",
      "300/1390 (21.6%)\n",
      "400/1390 (28.8%)\n",
      "500/1390 (36.0%)\n",
      "600/1390 (43.2%)\n",
      "700/1390 (50.4%)\n",
      "800/1390 (57.6%)\n",
      "900/1390 (64.7%)\n",
      "1000/1390 (71.9%)\n",
      "1100/1390 (79.1%)\n",
      "1200/1390 (86.3%)\n",
      "1300/1390 (93.5%)\n",
      "1390/1390 (100.0%)\n",
      "---------------------------\n",
      "Consolidation complete\n"
     ]
    }
   ],
   "source": [
    "# Each csv is loaded, processed and addated to consolidated dataframe\n",
    "df_conso = df_template\n",
    "print(\"Consolidation in progress:\")\n",
    "print(\"---------------------------\")\n",
    "\n",
    "for j in range(split_number):\n",
    "    df_conso_temp = df_template\n",
    "    for i in range(len(batch[j])):\n",
    "        df_temp = pd.read_csv(import_path+\"/\"+batch[j][i][0],sep=\",\")\n",
    "        # Addition of the date / name of the file\n",
    "        df_temp['station']= batch[j][i][0][-len(batch[j][i][0])+40:][:-4]\n",
    "        df_conso_temp = pd.concat([df_conso_temp,df_temp])\n",
    "        if i == (split_size -1):\n",
    "            df_conso = pd.concat([df_conso,df_conso_temp])\n",
    "    print(\"{}/{} ({}%)\".format(j*split_size+i+1,len(list_of_files),round((j*split_size+i+1)/len(list_of_files)*split_size,1)))\n",
    "print(\"---------------------------\")\n",
    "print(\"Consolidation complete\")"
   ]
  },
  {
   "cell_type": "code",
   "execution_count": 9,
   "metadata": {},
   "outputs": [],
   "source": [
    "df_conso.to_csv('./3. Consolidated Results/Facebook Results - {}'.format(df_conso.iloc[0][0][:10]))"
   ]
  }
 ],
 "metadata": {
  "kernelspec": {
   "display_name": "Python 3",
   "language": "python",
   "name": "python3"
  },
  "language_info": {
   "codemirror_mode": {
    "name": "ipython",
    "version": 3
   },
   "file_extension": ".py",
   "mimetype": "text/x-python",
   "name": "python",
   "nbconvert_exporter": "python",
   "pygments_lexer": "ipython3",
   "version": "3.7.7"
  }
 },
 "nbformat": 4,
 "nbformat_minor": 4
}
