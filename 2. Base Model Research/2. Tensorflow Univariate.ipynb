{
 "cells": [
  {
   "cell_type": "markdown",
   "metadata": {},
   "source": [
    "# 2. Tensorflow Prophet Testing"
   ]
  },
  {
   "cell_type": "markdown",
   "metadata": {},
   "source": [
    "## I - Setup"
   ]
  },
  {
   "cell_type": "code",
   "execution_count": 1,
   "metadata": {},
   "outputs": [],
   "source": [
    "# Import of librairies\n",
    "import tensorflow as tf\n",
    "import mysql.connector as mariadb\n",
    "import pandas as pd\n",
    "import matplotlib.pyplot as plt\n",
    "import seaborn as sns\n",
    "import numpy as np"
   ]
  },
  {
   "cell_type": "code",
   "execution_count": 2,
   "metadata": {},
   "outputs": [],
   "source": [
    "class sql_query:\n",
    "    def __init__(self, credentials_path):\n",
    "        self.db_credentials = pd.read_csv(credentials_path, index_col=\"Field\")\n",
    "      \n",
    "    \n",
    "    def __call__(self, query):\n",
    "        \n",
    "        mariadb_connection = mariadb.connect(\n",
    "            user=self.db_credentials.loc[\"user\"][0],\n",
    "            password=self.db_credentials.loc[\"password\"][0],\n",
    "            host=self.db_credentials.loc[\"host\"][0],\n",
    "            port=3306,\n",
    "            db = \"db_velib\")\n",
    "        \n",
    "        self.cursor = mariadb_connection.cursor()\n",
    "    \n",
    "        cursor = self.cursor\n",
    "        cursor.execute(query)\n",
    "        field_names = [i[0] for i in cursor.description]\n",
    "        df = pd.DataFrame(cursor, columns=field_names)\n",
    "        return df"
   ]
  },
  {
   "cell_type": "markdown",
   "metadata": {},
   "source": [
    "## II. Adaptation pipeline"
   ]
  },
  {
   "cell_type": "code",
   "execution_count": 3,
   "metadata": {},
   "outputs": [],
   "source": [
    "# Taking data from  station 9034 - Madeleine\n",
    "\n",
    "request = sql_query(\"../../aws_mariadb_crendentials.csv\")\n",
    "\n",
    "query = \"\"\"\n",
    "SELECT DISTINCT * FROM velib_realtime\n",
    "WHERE station_id = 9034\n",
    "AND date_of_update > DATE(\"2020-05-05\")\n",
    "ORDER BY date_of_update ASC\n",
    "\"\"\"\n",
    "\n",
    "df_full = request(query)"
   ]
  },
  {
   "cell_type": "code",
   "execution_count": 4,
   "metadata": {},
   "outputs": [
    {
     "data": {
      "text/html": [
       "<div>\n",
       "<style scoped>\n",
       "    .dataframe tbody tr th:only-of-type {\n",
       "        vertical-align: middle;\n",
       "    }\n",
       "\n",
       "    .dataframe tbody tr th {\n",
       "        vertical-align: top;\n",
       "    }\n",
       "\n",
       "    .dataframe thead th {\n",
       "        text-align: right;\n",
       "    }\n",
       "</style>\n",
       "<table border=\"1\" class=\"dataframe\">\n",
       "  <thead>\n",
       "    <tr style=\"text-align: right;\">\n",
       "      <th></th>\n",
       "      <th>station_id</th>\n",
       "      <th>operational_station</th>\n",
       "      <th>nb_free_docks</th>\n",
       "      <th>nb_total_free_bikes</th>\n",
       "      <th>nb_free_mechanical_bikes</th>\n",
       "      <th>nb_free_electrical_bikes</th>\n",
       "      <th>payment_totem</th>\n",
       "      <th>bike_return_possible</th>\n",
       "      <th>data_actualisation</th>\n",
       "      <th>date_of_update</th>\n",
       "    </tr>\n",
       "  </thead>\n",
       "  <tbody>\n",
       "    <tr>\n",
       "      <th>0</th>\n",
       "      <td>9034</td>\n",
       "      <td>OUI</td>\n",
       "      <td>20</td>\n",
       "      <td>2</td>\n",
       "      <td>1</td>\n",
       "      <td>1</td>\n",
       "      <td>OUI</td>\n",
       "      <td>OUI</td>\n",
       "      <td>2020-05-04 23:26:49</td>\n",
       "      <td>2020-05-05 00:01:00</td>\n",
       "    </tr>\n",
       "    <tr>\n",
       "      <th>1</th>\n",
       "      <td>9034</td>\n",
       "      <td>OUI</td>\n",
       "      <td>20</td>\n",
       "      <td>2</td>\n",
       "      <td>1</td>\n",
       "      <td>1</td>\n",
       "      <td>OUI</td>\n",
       "      <td>OUI</td>\n",
       "      <td>2020-05-04 23:26:49</td>\n",
       "      <td>2020-05-05 00:02:00</td>\n",
       "    </tr>\n",
       "    <tr>\n",
       "      <th>2</th>\n",
       "      <td>9034</td>\n",
       "      <td>OUI</td>\n",
       "      <td>20</td>\n",
       "      <td>2</td>\n",
       "      <td>1</td>\n",
       "      <td>1</td>\n",
       "      <td>OUI</td>\n",
       "      <td>OUI</td>\n",
       "      <td>2020-05-04 23:26:49</td>\n",
       "      <td>2020-05-05 00:03:00</td>\n",
       "    </tr>\n",
       "    <tr>\n",
       "      <th>3</th>\n",
       "      <td>9034</td>\n",
       "      <td>OUI</td>\n",
       "      <td>20</td>\n",
       "      <td>2</td>\n",
       "      <td>1</td>\n",
       "      <td>1</td>\n",
       "      <td>OUI</td>\n",
       "      <td>OUI</td>\n",
       "      <td>2020-05-04 23:26:49</td>\n",
       "      <td>2020-05-05 00:04:00</td>\n",
       "    </tr>\n",
       "    <tr>\n",
       "      <th>4</th>\n",
       "      <td>9034</td>\n",
       "      <td>OUI</td>\n",
       "      <td>20</td>\n",
       "      <td>2</td>\n",
       "      <td>1</td>\n",
       "      <td>1</td>\n",
       "      <td>OUI</td>\n",
       "      <td>OUI</td>\n",
       "      <td>2020-05-04 23:26:49</td>\n",
       "      <td>2020-05-05 00:05:00</td>\n",
       "    </tr>\n",
       "  </tbody>\n",
       "</table>\n",
       "</div>"
      ],
      "text/plain": [
       "   station_id operational_station  nb_free_docks  nb_total_free_bikes  \\\n",
       "0        9034                 OUI             20                    2   \n",
       "1        9034                 OUI             20                    2   \n",
       "2        9034                 OUI             20                    2   \n",
       "3        9034                 OUI             20                    2   \n",
       "4        9034                 OUI             20                    2   \n",
       "\n",
       "   nb_free_mechanical_bikes  nb_free_electrical_bikes payment_totem  \\\n",
       "0                         1                         1           OUI   \n",
       "1                         1                         1           OUI   \n",
       "2                         1                         1           OUI   \n",
       "3                         1                         1           OUI   \n",
       "4                         1                         1           OUI   \n",
       "\n",
       "  bike_return_possible  data_actualisation      date_of_update  \n",
       "0                  OUI 2020-05-04 23:26:49 2020-05-05 00:01:00  \n",
       "1                  OUI 2020-05-04 23:26:49 2020-05-05 00:02:00  \n",
       "2                  OUI 2020-05-04 23:26:49 2020-05-05 00:03:00  \n",
       "3                  OUI 2020-05-04 23:26:49 2020-05-05 00:04:00  \n",
       "4                  OUI 2020-05-04 23:26:49 2020-05-05 00:05:00  "
      ]
     },
     "execution_count": 4,
     "metadata": {},
     "output_type": "execute_result"
    }
   ],
   "source": [
    "df_full.head()"
   ]
  },
  {
   "cell_type": "code",
   "execution_count": 5,
   "metadata": {},
   "outputs": [],
   "source": [
    "# Creating smaller dataset"
   ]
  },
  {
   "cell_type": "code",
   "execution_count": 6,
   "metadata": {},
   "outputs": [
    {
     "data": {
      "text/plain": [
       "date_of_update\n",
       "2020-05-05 00:01:00    20\n",
       "2020-05-05 00:02:00    20\n",
       "2020-05-05 00:03:00    20\n",
       "2020-05-05 00:04:00    20\n",
       "2020-05-05 00:05:00    20\n",
       "Name: nb_free_docks, dtype: int64"
      ]
     },
     "execution_count": 6,
     "metadata": {},
     "output_type": "execute_result"
    }
   ],
   "source": [
    "df = df_full['nb_free_docks']\n",
    "df.index = df_full['date_of_update']\n",
    "df.head()"
   ]
  },
  {
   "cell_type": "code",
   "execution_count": 7,
   "metadata": {},
   "outputs": [
    {
     "data": {
      "text/plain": [
       "array([<matplotlib.axes._subplots.AxesSubplot object at 0x7fb6ab463910>],\n",
       "      dtype=object)"
      ]
     },
     "execution_count": 7,
     "metadata": {},
     "output_type": "execute_result"
    },
    {
     "data": {
      "image/png": "[encoded data removed]",
      "text/plain": [
       "<Figure size 432x288 with 1 Axes>"
      ]
     },
     "metadata": {
      "needs_background": "light"
     },
     "output_type": "display_data"
    }
   ],
   "source": [
    "# Graphic visualisation\n",
    "df.plot(subplots=True)"
   ]
  },
  {
   "cell_type": "code",
   "execution_count": 8,
   "metadata": {},
   "outputs": [],
   "source": [
    "# Setting the train_split value for later use (around 70%)\n",
    "TRAIN_SPLIT = 2500\n",
    "tf.random.set_seed(13)"
   ]
  },
  {
   "cell_type": "code",
   "execution_count": 9,
   "metadata": {},
   "outputs": [],
   "source": [
    "df = df.values"
   ]
  },
  {
   "cell_type": "code",
   "execution_count": 10,
   "metadata": {},
   "outputs": [],
   "source": [
    "# Standardization\n",
    "df_mean = df[:TRAIN_SPLIT].mean()\n",
    "df_std = df[:TRAIN_SPLIT].std()\n",
    "df = (df-df_mean)/df_std"
   ]
  },
  {
   "cell_type": "code",
   "execution_count": 11,
   "metadata": {},
   "outputs": [],
   "source": [
    "def reverse_transformer(x):\n",
    "    return np.round(x * df_std + df_mean)"
   ]
  },
  {
   "cell_type": "markdown",
   "metadata": {},
   "source": [
    "We intend to use the last 60 recorded temperature observations to predict the temperature at 60 next step"
   ]
  },
  {
   "cell_type": "code",
   "execution_count": 12,
   "metadata": {},
   "outputs": [],
   "source": [
    "def multivariate_data(dataset, target, start_index, end_index, history_size,\n",
    "                      target_size, step, single_step=False):\n",
    "  data = []\n",
    "  labels = []\n",
    "\n",
    "  start_index = start_index + history_size\n",
    "  if end_index is None:\n",
    "    end_index = len(dataset) - target_size\n",
    "\n",
    "  for i in range(start_index, end_index):\n",
    "    indices = range(i-history_size, i, step)\n",
    "    data.append(dataset[indices])\n",
    "\n",
    "    if single_step:\n",
    "      labels.append(target[i+target_size])\n",
    "    else:\n",
    "      labels.append(target[i:i+target_size])\n",
    "\n",
    "  return np.array(data), np.array(labels)"
   ]
  },
  {
   "cell_type": "code",
   "execution_count": 13,
   "metadata": {},
   "outputs": [],
   "source": [
    "past_history = 120\n",
    "future_target = 60\n",
    "STEP = 1\n",
    "\n",
    "x_train, y_train = multivariate_data(df, df[1:], 0, TRAIN_SPLIT,\n",
    "                                           past_history,\n",
    "                                           future_target, STEP)\n",
    "x_val, y_val = multivariate_data(df, df[1:], TRAIN_SPLIT, None,\n",
    "                                       past_history,\n",
    "                                       future_target, STEP)"
   ]
  },
  {
   "cell_type": "code",
   "execution_count": 14,
   "metadata": {},
   "outputs": [],
   "source": [
    "x_train = x_train.reshape(x_train.shape[0], x_train.shape[1], 1)\n",
    "x_val = x_val.reshape(x_val.shape[0], x_val.shape[1], 1)"
   ]
  },
  {
   "cell_type": "code",
   "execution_count": 15,
   "metadata": {
    "scrolled": true
   },
   "outputs": [
    {
     "name": "stdout",
     "output_type": "stream",
     "text": [
      "Single window of past history\n",
      "[[0.73274271]\n",
      " [0.73274271]\n",
      " [0.73274271]\n",
      " [0.73274271]\n",
      " [0.73274271]\n",
      " [0.73274271]\n",
      " [0.73274271]\n",
      " [0.73274271]\n",
      " [0.73274271]\n",
      " [0.73274271]\n",
      " [0.73274271]\n",
      " [0.73274271]\n",
      " [0.73274271]\n",
      " [0.73274271]\n",
      " [0.73274271]\n",
      " [0.73274271]\n",
      " [0.73274271]\n",
      " [0.73274271]\n",
      " [0.73274271]\n",
      " [0.73274271]\n",
      " [0.73274271]\n",
      " [0.73274271]\n",
      " [0.73274271]\n",
      " [0.73274271]\n",
      " [0.73274271]\n",
      " [0.73274271]\n",
      " [0.73274271]\n",
      " [0.73274271]\n",
      " [0.73274271]\n",
      " [0.73274271]\n",
      " [0.73274271]\n",
      " [0.73274271]\n",
      " [0.73274271]\n",
      " [0.73274271]\n",
      " [0.73274271]\n",
      " [0.73274271]\n",
      " [0.73274271]\n",
      " [0.73274271]\n",
      " [0.73274271]\n",
      " [0.73274271]\n",
      " [0.73274271]\n",
      " [0.73274271]\n",
      " [0.73274271]\n",
      " [0.73274271]\n",
      " [0.73274271]\n",
      " [0.73274271]\n",
      " [0.73274271]\n",
      " [0.73274271]\n",
      " [0.73274271]\n",
      " [0.73274271]\n",
      " [0.73274271]\n",
      " [0.73274271]\n",
      " [0.73274271]\n",
      " [0.73274271]\n",
      " [0.73274271]\n",
      " [0.73274271]\n",
      " [0.73274271]\n",
      " [0.73274271]\n",
      " [0.73274271]\n",
      " [0.73274271]\n",
      " [0.73274271]\n",
      " [0.73274271]\n",
      " [0.73274271]\n",
      " [0.73274271]\n",
      " [0.73274271]\n",
      " [0.73274271]\n",
      " [0.73274271]\n",
      " [0.73274271]\n",
      " [0.73274271]\n",
      " [0.73274271]\n",
      " [0.73274271]\n",
      " [0.73274271]\n",
      " [0.73274271]\n",
      " [0.73274271]\n",
      " [0.73274271]\n",
      " [0.73274271]\n",
      " [0.73274271]\n",
      " [0.73274271]\n",
      " [0.73274271]\n",
      " [0.73274271]\n",
      " [0.73274271]\n",
      " [0.73274271]\n",
      " [0.73274271]\n",
      " [0.73274271]\n",
      " [0.73274271]\n",
      " [0.73274271]\n",
      " [0.73274271]\n",
      " [0.73274271]\n",
      " [0.73274271]\n",
      " [0.73274271]\n",
      " [0.73274271]\n",
      " [0.73274271]\n",
      " [0.73274271]\n",
      " [0.73274271]\n",
      " [0.73274271]\n",
      " [0.73274271]\n",
      " [0.73274271]\n",
      " [0.73274271]\n",
      " [0.73274271]\n",
      " [0.73274271]\n",
      " [0.73274271]\n",
      " [0.73274271]\n",
      " [0.73274271]\n",
      " [0.73274271]\n",
      " [0.73274271]\n",
      " [0.73274271]\n",
      " [0.73274271]\n",
      " [0.73274271]\n",
      " [0.73274271]\n",
      " [0.73274271]\n",
      " [0.73274271]\n",
      " [0.73274271]\n",
      " [0.73274271]\n",
      " [0.73274271]\n",
      " [0.73274271]\n",
      " [0.73274271]\n",
      " [0.73274271]\n",
      " [0.73274271]\n",
      " [0.73274271]\n",
      " [0.73274271]]\n",
      "\n",
      " Target temperature to predict\n",
      "[0.73274271 0.73274271 0.73274271 0.73274271 0.73274271 0.73274271\n",
      " 0.73274271 0.73274271 0.73274271 0.73274271 0.73274271 0.73274271\n",
      " 0.73274271 0.73274271 0.73274271 0.73274271 0.73274271 0.73274271\n",
      " 0.73274271 0.73274271 0.73274271 0.73274271 0.73274271 0.73274271\n",
      " 0.73274271 0.73274271 0.73274271 0.73274271 0.73274271 0.73274271\n",
      " 0.73274271 0.73274271 0.73274271 0.73274271 0.73274271 0.73274271\n",
      " 0.73274271 0.73274271 0.73274271 0.73274271 0.73274271 0.73274271\n",
      " 0.73274271 0.73274271 0.73274271 0.73274271 0.73274271 0.73274271\n",
      " 0.73274271 0.73274271 0.73274271 0.73274271 0.73274271 0.73274271\n",
      " 0.73274271 0.73274271 0.73274271 0.73274271 0.73274271 0.73274271]\n"
     ]
    }
   ],
   "source": [
    "print ('Single window of past history')\n",
    "print (x_train[0])\n",
    "print ('\\n Target temperature to predict')\n",
    "print (y_train[0])"
   ]
  },
  {
   "cell_type": "code",
   "execution_count": 16,
   "metadata": {},
   "outputs": [],
   "source": [
    "BATCH_SIZE = 32\n",
    "BUFFER_SIZE = 10000\n",
    "\n",
    "train_data = tf.data.Dataset.from_tensor_slices((x_train, y_train))\n",
    "train_data = train_data.cache().shuffle(BUFFER_SIZE).batch(BATCH_SIZE).repeat()\n",
    "\n",
    "val_data = tf.data.Dataset.from_tensor_slices((x_val, y_val))\n",
    "val_data = val_data.batch(BATCH_SIZE).repeat()"
   ]
  },
  {
   "cell_type": "code",
   "execution_count": 17,
   "metadata": {},
   "outputs": [
    {
     "name": "stdout",
     "output_type": "stream",
     "text": [
      "Single window of past history\n",
      "(2380, 120, 1)\n",
      "\n",
      " Target temperature to predict\n"
     ]
    }
   ],
   "source": [
    "print ('Single window of past history')\n",
    "print (x_train.shape)\n",
    "print ('\\n Target temperature to predict')"
   ]
  },
  {
   "cell_type": "code",
   "execution_count": 18,
   "metadata": {},
   "outputs": [
    {
     "name": "stdout",
     "output_type": "stream",
     "text": [
      "(120, 1)\n",
      "(60,)\n"
     ]
    }
   ],
   "source": [
    "for x, y in  train_data.take(1):\n",
    "    print(x[0].shape)\n",
    "    print(y[0].shape)"
   ]
  },
  {
   "cell_type": "code",
   "execution_count": 19,
   "metadata": {},
   "outputs": [
    {
     "data": {
      "text/plain": [
       "<RepeatDataset shapes: ((None, 120, 1), (None, 60)), types: (tf.float64, tf.float64)>"
      ]
     },
     "execution_count": 19,
     "metadata": {},
     "output_type": "execute_result"
    }
   ],
   "source": [
    "train_data"
   ]
  },
  {
   "cell_type": "code",
   "execution_count": 20,
   "metadata": {},
   "outputs": [
    {
     "name": "stdout",
     "output_type": "stream",
     "text": [
      "(32, 120, 1)\n",
      "(32, 60)\n"
     ]
    }
   ],
   "source": [
    "for x, y in  train_data.take(1):\n",
    "    print(x.shape)\n",
    "    print(y.shape)"
   ]
  },
  {
   "cell_type": "code",
   "execution_count": 21,
   "metadata": {},
   "outputs": [
    {
     "data": {
      "text/plain": [
       "<RepeatDataset shapes: ((None, 120, 1), (None, 60)), types: (tf.float64, tf.float64)>"
      ]
     },
     "execution_count": 21,
     "metadata": {},
     "output_type": "execute_result"
    }
   ],
   "source": [
    "train_data"
   ]
  },
  {
   "cell_type": "code",
   "execution_count": 22,
   "metadata": {},
   "outputs": [],
   "source": [
    "simple_lstm_model = tf.keras.models.Sequential([\n",
    "    tf.keras.layers.LSTM(8, input_shape=x_train.shape[-2:]),\n",
    "    tf.keras.layers.Dense(60)\n",
    "])\n",
    "\n",
    "simple_lstm_model.compile(optimizer='adam', loss='mae')"
   ]
  },
  {
   "cell_type": "code",
   "execution_count": 23,
   "metadata": {},
   "outputs": [
    {
     "name": "stdout",
     "output_type": "stream",
     "text": [
      "Model: \"sequential\"\n",
      "_________________________________________________________________\n",
      "Layer (type)                 Output Shape              Param #   \n",
      "=================================================================\n",
      "lstm (LSTM)                  (None, 8)                 320       \n",
      "_________________________________________________________________\n",
      "dense (Dense)                (None, 60)                540       \n",
      "=================================================================\n",
      "Total params: 860\n",
      "Trainable params: 860\n",
      "Non-trainable params: 0\n",
      "_________________________________________________________________\n"
     ]
    }
   ],
   "source": [
    "simple_lstm_model.summary()"
   ]
  },
  {
   "cell_type": "code",
   "execution_count": 24,
   "metadata": {},
   "outputs": [
    {
     "name": "stdout",
     "output_type": "stream",
     "text": [
      "(32, 120, 1)\n",
      "(32, 60)\n",
      "(32, 60)\n",
      "(32, 120, 1)\n",
      "(32, 60)\n",
      "(32, 60)\n",
      "(32, 120, 1)\n",
      "(32, 60)\n",
      "(32, 60)\n"
     ]
    }
   ],
   "source": [
    "for x, y in val_data.take(3):\n",
    "    print(x.shape)\n",
    "    print(y.shape)\n",
    "    print(simple_lstm_model.predict(x).shape)"
   ]
  },
  {
   "cell_type": "code",
   "execution_count": 25,
   "metadata": {},
   "outputs": [],
   "source": [
    "EPOCHS = 10\n",
    "EVALUATION_INTERVAL = 200"
   ]
  },
  {
   "cell_type": "code",
   "execution_count": 26,
   "metadata": {
    "scrolled": true
   },
   "outputs": [
    {
     "name": "stdout",
     "output_type": "stream",
     "text": [
      "Train for 200 steps, validate for 200 steps\n",
      "Epoch 1/10\n",
      "200/200 [==============================] - 3s 16ms/step - loss: 0.6175 - val_loss: 0.2459\n",
      "Epoch 2/10\n",
      "200/200 [==============================] - 2s 10ms/step - loss: 0.1975 - val_loss: 0.1599\n",
      "Epoch 3/10\n",
      "200/200 [==============================] - 2s 10ms/step - loss: 0.1502 - val_loss: 0.1532\n",
      "Epoch 4/10\n",
      "200/200 [==============================] - 2s 10ms/step - loss: 0.1463 - val_loss: 0.1496\n",
      "Epoch 5/10\n",
      "200/200 [==============================] - 2s 10ms/step - loss: 0.1447 - val_loss: 0.1467\n",
      "Epoch 6/10\n",
      "200/200 [==============================] - 2s 10ms/step - loss: 0.1432 - val_loss: 0.1440\n",
      "Epoch 7/10\n",
      "200/200 [==============================] - 2s 10ms/step - loss: 0.1422 - val_loss: 0.1402\n",
      "Epoch 8/10\n",
      "200/200 [==============================] - 2s 11ms/step - loss: 0.1371 - val_loss: 0.1407\n",
      "Epoch 9/10\n",
      "200/200 [==============================] - 2s 10ms/step - loss: 0.1345 - val_loss: 0.1395\n",
      "Epoch 10/10\n",
      "200/200 [==============================] - 2s 11ms/step - loss: 0.1340 - val_loss: 0.1526\n"
     ]
    }
   ],
   "source": [
    "simple_lstm_model_history = simple_lstm_model.fit(train_data, epochs=EPOCHS,\n",
    "                                            steps_per_epoch=EVALUATION_INTERVAL,\n",
    "                                            validation_data=val_data,\n",
    "                                            validation_steps=200)\n"
   ]
  },
  {
   "cell_type": "code",
   "execution_count": 27,
   "metadata": {},
   "outputs": [],
   "source": [
    "def plot_train_history(history, title):\n",
    "  loss = history.history['loss']\n",
    "  val_loss = history.history['val_loss']\n",
    "\n",
    "  epochs = range(len(loss))\n",
    "\n",
    "  plt.figure()\n",
    "\n",
    "  plt.plot(epochs, loss, 'b', label='Training loss')\n",
    "  plt.plot(epochs, val_loss, 'r', label='Validation loss')\n",
    "  plt.title(title)\n",
    "  plt.legend()\n",
    "\n",
    "  plt.show()"
   ]
  },
  {
   "cell_type": "code",
   "execution_count": 28,
   "metadata": {},
   "outputs": [
    {
     "data": {
      "image/png": "[encoded data removed]",
      "text/plain": [
       "<Figure size 432x288 with 1 Axes>"
      ]
     },
     "metadata": {
      "needs_background": "light"
     },
     "output_type": "display_data"
    }
   ],
   "source": [
    "plot_train_history(simple_lstm_model_history, 'Multi-Step Training and validation loss')"
   ]
  },
  {
   "cell_type": "code",
   "execution_count": 29,
   "metadata": {},
   "outputs": [],
   "source": [
    "def create_time_steps(length):\n",
    "  return list(range(-length, 0))"
   ]
  },
  {
   "cell_type": "code",
   "execution_count": 30,
   "metadata": {},
   "outputs": [],
   "source": [
    "def multi_step_plot(history, true_future, prediction):\n",
    "  plt.figure(figsize=(12, 6))\n",
    "  num_in = create_time_steps(len(history))\n",
    "  num_out = len(true_future)\n",
    "  plt.plot(num_in, reverse_transformer(np.array(history)), label='History')\n",
    "  plt.plot(np.arange(num_out)/STEP, reverse_transformer(np.array(true_future)), \n",
    "           label='True Future')\n",
    "  if prediction.any():\n",
    "    plt.plot(np.arange(num_out)/STEP, reverse_transformer(np.array(prediction)), \n",
    "             label='Predicted Future')\n",
    "  plt.legend(loc='upper left')\n",
    "  plt.show()"
   ]
  },
  {
   "cell_type": "markdown",
   "metadata": {},
   "source": [
    "## III . Results"
   ]
  },
  {
   "cell_type": "code",
   "execution_count": 31,
   "metadata": {
    "scrolled": false
   },
   "outputs": [
    {
     "data": {
      "image/png": "[encoded data removed]",
      "text/plain": [
       "<Figure size 864x432 with 1 Axes>"
      ]
     },
     "metadata": {
      "needs_background": "light"
     },
     "output_type": "display_data"
    }
   ],
   "source": [
    "for x, y in val_data.take(1):\n",
    "    multi_step_plot(x[0], y[0], simple_lstm_model.predict(x)[0])"
   ]
  }
 ],
 "metadata": {
  "kernelspec": {
   "display_name": "Python 3",
   "language": "python",
   "name": "python3"
  },
  "language_info": {
   "codemirror_mode": {
    "name": "ipython",
    "version": 3
   },
   "file_extension": ".py",
   "mimetype": "text/x-python",
   "name": "python",
   "nbconvert_exporter": "python",
   "pygments_lexer": "ipython3",
   "version": "3.7.7"
  }
 },
 "nbformat": 4,
 "nbformat_minor": 4
}
