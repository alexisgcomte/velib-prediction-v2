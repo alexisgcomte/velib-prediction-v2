{
 "cells": [
  {
   "cell_type": "markdown",
   "metadata": {},
   "source": [
    "# 1. Facebook Prophet Testing"
   ]
  },
  {
   "cell_type": "markdown",
   "metadata": {},
   "source": [
    "## I - Setup"
   ]
  },
  {
   "cell_type": "code",
   "execution_count": 1,
   "metadata": {},
   "outputs": [
    {
     "name": "stderr",
     "output_type": "stream",
     "text": [
      "Importing plotly failed. Interactive plots will not work.\n"
     ]
    }
   ],
   "source": [
    "# Import of librairies\n",
    "\n",
    "import mysql.connector as mariadb\n",
    "import pandas as pd\n",
    "from fbprophet import Prophet\n",
    "import matplotlib.pyplot as plt\n",
    "import seaborn as sns\n",
    "import numpy as np"
   ]
  },
  {
   "cell_type": "code",
   "execution_count": 2,
   "metadata": {},
   "outputs": [],
   "source": [
    "class sql_query:\n",
    "    def __init__(self, credentials_path):\n",
    "        self.db_credentials = pd.read_csv(credentials_path, index_col=\"Field\")\n",
    "      \n",
    "    \n",
    "    def __call__(self, query):\n",
    "        \n",
    "        mariadb_connection = mariadb.connect(\n",
    "            user=self.db_credentials.loc[\"user\"][0],\n",
    "            password=self.db_credentials.loc[\"password\"][0],\n",
    "            host=self.db_credentials.loc[\"host\"][0],\n",
    "            port=3306,\n",
    "            db = \"db_velib\")\n",
    "        \n",
    "        self.cursor = mariadb_connection.cursor()\n",
    "    \n",
    "        cursor = self.cursor\n",
    "        cursor.execute(query)\n",
    "        field_names = [i[0] for i in cursor.description]\n",
    "        df = pd.DataFrame(cursor, columns=field_names)\n",
    "        return df"
   ]
  },
  {
   "cell_type": "markdown",
   "metadata": {},
   "source": [
    "## II. Adaptation pipeline"
   ]
  },
  {
   "cell_type": "code",
   "execution_count": 3,
   "metadata": {},
   "outputs": [],
   "source": [
    "# Taking data from  station 9034 - Madeleine\n",
    "\n",
    "request = sql_query(\"../../aws_mariadb_crendentials.csv\")\n",
    "\n",
    "query = \"\"\"\n",
    "SELECT DISTINCT * FROM velib_realtime\n",
    "WHERE station_id = 9034\n",
    "AND date_of_update > DATE(\"2020-05-05\")\n",
    "ORDER BY date_of_update ASC\n",
    "\"\"\"\n",
    "\n",
    "df_full = request(query)"
   ]
  },
  {
   "cell_type": "code",
   "execution_count": 4,
   "metadata": {},
   "outputs": [
    {
     "data": {
      "text/html": [
       "<div>\n",
       "<style scoped>\n",
       "    .dataframe tbody tr th:only-of-type {\n",
       "        vertical-align: middle;\n",
       "    }\n",
       "\n",
       "    .dataframe tbody tr th {\n",
       "        vertical-align: top;\n",
       "    }\n",
       "\n",
       "    .dataframe thead th {\n",
       "        text-align: right;\n",
       "    }\n",
       "</style>\n",
       "<table border=\"1\" class=\"dataframe\">\n",
       "  <thead>\n",
       "    <tr style=\"text-align: right;\">\n",
       "      <th></th>\n",
       "      <th>station_id</th>\n",
       "      <th>operational_station</th>\n",
       "      <th>nb_free_docks</th>\n",
       "      <th>nb_total_free_bikes</th>\n",
       "      <th>nb_free_mechanical_bikes</th>\n",
       "      <th>nb_free_electrical_bikes</th>\n",
       "      <th>payment_totem</th>\n",
       "      <th>bike_return_possible</th>\n",
       "      <th>data_actualisation</th>\n",
       "      <th>date_of_update</th>\n",
       "    </tr>\n",
       "  </thead>\n",
       "  <tbody>\n",
       "    <tr>\n",
       "      <th>0</th>\n",
       "      <td>9034</td>\n",
       "      <td>OUI</td>\n",
       "      <td>20</td>\n",
       "      <td>2</td>\n",
       "      <td>1</td>\n",
       "      <td>1</td>\n",
       "      <td>OUI</td>\n",
       "      <td>OUI</td>\n",
       "      <td>2020-05-04 23:26:49</td>\n",
       "      <td>2020-05-05 00:01:00</td>\n",
       "    </tr>\n",
       "    <tr>\n",
       "      <th>1</th>\n",
       "      <td>9034</td>\n",
       "      <td>OUI</td>\n",
       "      <td>20</td>\n",
       "      <td>2</td>\n",
       "      <td>1</td>\n",
       "      <td>1</td>\n",
       "      <td>OUI</td>\n",
       "      <td>OUI</td>\n",
       "      <td>2020-05-04 23:26:49</td>\n",
       "      <td>2020-05-05 00:02:00</td>\n",
       "    </tr>\n",
       "    <tr>\n",
       "      <th>2</th>\n",
       "      <td>9034</td>\n",
       "      <td>OUI</td>\n",
       "      <td>20</td>\n",
       "      <td>2</td>\n",
       "      <td>1</td>\n",
       "      <td>1</td>\n",
       "      <td>OUI</td>\n",
       "      <td>OUI</td>\n",
       "      <td>2020-05-04 23:26:49</td>\n",
       "      <td>2020-05-05 00:03:00</td>\n",
       "    </tr>\n",
       "    <tr>\n",
       "      <th>3</th>\n",
       "      <td>9034</td>\n",
       "      <td>OUI</td>\n",
       "      <td>20</td>\n",
       "      <td>2</td>\n",
       "      <td>1</td>\n",
       "      <td>1</td>\n",
       "      <td>OUI</td>\n",
       "      <td>OUI</td>\n",
       "      <td>2020-05-04 23:26:49</td>\n",
       "      <td>2020-05-05 00:04:00</td>\n",
       "    </tr>\n",
       "    <tr>\n",
       "      <th>4</th>\n",
       "      <td>9034</td>\n",
       "      <td>OUI</td>\n",
       "      <td>20</td>\n",
       "      <td>2</td>\n",
       "      <td>1</td>\n",
       "      <td>1</td>\n",
       "      <td>OUI</td>\n",
       "      <td>OUI</td>\n",
       "      <td>2020-05-04 23:26:49</td>\n",
       "      <td>2020-05-05 00:05:00</td>\n",
       "    </tr>\n",
       "  </tbody>\n",
       "</table>\n",
       "</div>"
      ],
      "text/plain": [
       "   station_id operational_station  nb_free_docks  nb_total_free_bikes  \\\n",
       "0        9034                 OUI             20                    2   \n",
       "1        9034                 OUI             20                    2   \n",
       "2        9034                 OUI             20                    2   \n",
       "3        9034                 OUI             20                    2   \n",
       "4        9034                 OUI             20                    2   \n",
       "\n",
       "   nb_free_mechanical_bikes  nb_free_electrical_bikes payment_totem  \\\n",
       "0                         1                         1           OUI   \n",
       "1                         1                         1           OUI   \n",
       "2                         1                         1           OUI   \n",
       "3                         1                         1           OUI   \n",
       "4                         1                         1           OUI   \n",
       "\n",
       "  bike_return_possible  data_actualisation      date_of_update  \n",
       "0                  OUI 2020-05-04 23:26:49 2020-05-05 00:01:00  \n",
       "1                  OUI 2020-05-04 23:26:49 2020-05-05 00:02:00  \n",
       "2                  OUI 2020-05-04 23:26:49 2020-05-05 00:03:00  \n",
       "3                  OUI 2020-05-04 23:26:49 2020-05-05 00:04:00  \n",
       "4                  OUI 2020-05-04 23:26:49 2020-05-05 00:05:00  "
      ]
     },
     "execution_count": 4,
     "metadata": {},
     "output_type": "execute_result"
    }
   ],
   "source": [
    "df_full.head()"
   ]
  },
  {
   "cell_type": "code",
   "execution_count": 5,
   "metadata": {
    "scrolled": true
   },
   "outputs": [
    {
     "data": {
      "text/html": [
       "<div>\n",
       "<style scoped>\n",
       "    .dataframe tbody tr th:only-of-type {\n",
       "        vertical-align: middle;\n",
       "    }\n",
       "\n",
       "    .dataframe tbody tr th {\n",
       "        vertical-align: top;\n",
       "    }\n",
       "\n",
       "    .dataframe thead th {\n",
       "        text-align: right;\n",
       "    }\n",
       "</style>\n",
       "<table border=\"1\" class=\"dataframe\">\n",
       "  <thead>\n",
       "    <tr style=\"text-align: right;\">\n",
       "      <th></th>\n",
       "      <th>ds</th>\n",
       "      <th>y</th>\n",
       "    </tr>\n",
       "  </thead>\n",
       "  <tbody>\n",
       "    <tr>\n",
       "      <th>0</th>\n",
       "      <td>2020-05-05 00:01:00</td>\n",
       "      <td>20</td>\n",
       "    </tr>\n",
       "    <tr>\n",
       "      <th>1</th>\n",
       "      <td>2020-05-05 00:02:00</td>\n",
       "      <td>20</td>\n",
       "    </tr>\n",
       "    <tr>\n",
       "      <th>2</th>\n",
       "      <td>2020-05-05 00:03:00</td>\n",
       "      <td>20</td>\n",
       "    </tr>\n",
       "    <tr>\n",
       "      <th>3</th>\n",
       "      <td>2020-05-05 00:04:00</td>\n",
       "      <td>20</td>\n",
       "    </tr>\n",
       "    <tr>\n",
       "      <th>4</th>\n",
       "      <td>2020-05-05 00:05:00</td>\n",
       "      <td>20</td>\n",
       "    </tr>\n",
       "  </tbody>\n",
       "</table>\n",
       "</div>"
      ],
      "text/plain": [
       "                   ds   y\n",
       "0 2020-05-05 00:01:00  20\n",
       "1 2020-05-05 00:02:00  20\n",
       "2 2020-05-05 00:03:00  20\n",
       "3 2020-05-05 00:04:00  20\n",
       "4 2020-05-05 00:05:00  20"
      ]
     },
     "execution_count": 5,
     "metadata": {},
     "output_type": "execute_result"
    }
   ],
   "source": [
    "df = df_full[['date_of_update','nb_free_docks']]\n",
    "\n",
    "# Adopting FB Prophet terminology for easier use\n",
    "df.columns = ['ds','y']\n",
    "df.head()"
   ]
  },
  {
   "cell_type": "code",
   "execution_count": 6,
   "metadata": {},
   "outputs": [],
   "source": [
    "import seaborn as sns"
   ]
  },
  {
   "cell_type": "code",
   "execution_count": 7,
   "metadata": {},
   "outputs": [
    {
     "data": {
      "image/png": "[encoded data removed]",
      "text/plain": [
       "<Figure size 432x288 with 1 Axes>"
      ]
     },
     "metadata": {
      "needs_background": "light"
     },
     "output_type": "display_data"
    }
   ],
   "source": [
    "_ = sns.lineplot(x=\"ds\", y=\"y\", data=df)"
   ]
  },
  {
   "cell_type": "code",
   "execution_count": 8,
   "metadata": {},
   "outputs": [
    {
     "name": "stderr",
     "output_type": "stream",
     "text": [
      "INFO:numexpr.utils:Note: NumExpr detected 16 cores but \"NUMEXPR_MAX_THREADS\" not set, so enforcing safe limit of 8.\n",
      "INFO:numexpr.utils:NumExpr defaulting to 8 threads.\n",
      "INFO:fbprophet:Disabling yearly seasonality. Run prophet with yearly_seasonality=True to override this.\n",
      "INFO:fbprophet:Disabling weekly seasonality. Run prophet with weekly_seasonality=True to override this.\n",
      "INFO:fbprophet:Disabling daily seasonality. Run prophet with daily_seasonality=True to override this.\n"
     ]
    },
    {
     "data": {
      "text/plain": [
       "<bound method NDFrame.tail of                       ds\n",
       "0    2020-05-05 00:01:00\n",
       "1    2020-05-05 00:02:00\n",
       "2    2020-05-05 00:03:00\n",
       "3    2020-05-05 00:04:00\n",
       "4    2020-05-05 00:05:00\n",
       "...                  ...\n",
       "2395 2020-05-06 15:59:00\n",
       "2396 2020-05-06 16:00:00\n",
       "2397 2020-05-06 16:01:00\n",
       "2398 2020-05-06 16:02:00\n",
       "2399 2020-05-06 16:03:00\n",
       "\n",
       "[2400 rows x 1 columns]>"
      ]
     },
     "execution_count": 8,
     "metadata": {},
     "output_type": "execute_result"
    }
   ],
   "source": [
    "m = Prophet()\n",
    "m.fit(df)\n",
    "future = m.make_future_dataframe(periods=180, freq='min')\n",
    "future.tail"
   ]
  },
  {
   "cell_type": "code",
   "execution_count": 9,
   "metadata": {
    "scrolled": true
   },
   "outputs": [
    {
     "data": {
      "text/html": [
       "<div>\n",
       "<style scoped>\n",
       "    .dataframe tbody tr th:only-of-type {\n",
       "        vertical-align: middle;\n",
       "    }\n",
       "\n",
       "    .dataframe tbody tr th {\n",
       "        vertical-align: top;\n",
       "    }\n",
       "\n",
       "    .dataframe thead th {\n",
       "        text-align: right;\n",
       "    }\n",
       "</style>\n",
       "<table border=\"1\" class=\"dataframe\">\n",
       "  <thead>\n",
       "    <tr style=\"text-align: right;\">\n",
       "      <th></th>\n",
       "      <th>ds</th>\n",
       "      <th>yhat</th>\n",
       "      <th>yhat_lower</th>\n",
       "      <th>yhat_upper</th>\n",
       "    </tr>\n",
       "  </thead>\n",
       "  <tbody>\n",
       "    <tr>\n",
       "      <th>2395</th>\n",
       "      <td>2020-05-06 15:59:00</td>\n",
       "      <td>5.707346</td>\n",
       "      <td>3.528238</td>\n",
       "      <td>7.796294</td>\n",
       "    </tr>\n",
       "    <tr>\n",
       "      <th>2396</th>\n",
       "      <td>2020-05-06 16:00:00</td>\n",
       "      <td>5.680637</td>\n",
       "      <td>3.579868</td>\n",
       "      <td>7.810637</td>\n",
       "    </tr>\n",
       "    <tr>\n",
       "      <th>2397</th>\n",
       "      <td>2020-05-06 16:01:00</td>\n",
       "      <td>5.653928</td>\n",
       "      <td>3.506693</td>\n",
       "      <td>7.702583</td>\n",
       "    </tr>\n",
       "    <tr>\n",
       "      <th>2398</th>\n",
       "      <td>2020-05-06 16:02:00</td>\n",
       "      <td>5.627219</td>\n",
       "      <td>3.596158</td>\n",
       "      <td>7.791802</td>\n",
       "    </tr>\n",
       "    <tr>\n",
       "      <th>2399</th>\n",
       "      <td>2020-05-06 16:03:00</td>\n",
       "      <td>5.600509</td>\n",
       "      <td>3.492394</td>\n",
       "      <td>7.697392</td>\n",
       "    </tr>\n",
       "  </tbody>\n",
       "</table>\n",
       "</div>"
      ],
      "text/plain": [
       "                      ds      yhat  yhat_lower  yhat_upper\n",
       "2395 2020-05-06 15:59:00  5.707346    3.528238    7.796294\n",
       "2396 2020-05-06 16:00:00  5.680637    3.579868    7.810637\n",
       "2397 2020-05-06 16:01:00  5.653928    3.506693    7.702583\n",
       "2398 2020-05-06 16:02:00  5.627219    3.596158    7.791802\n",
       "2399 2020-05-06 16:03:00  5.600509    3.492394    7.697392"
      ]
     },
     "execution_count": 9,
     "metadata": {},
     "output_type": "execute_result"
    }
   ],
   "source": [
    "forecast = m.predict(future)\n",
    "forecast[['ds', 'yhat', 'yhat_lower', 'yhat_upper']].tail()"
   ]
  },
  {
   "cell_type": "code",
   "execution_count": 10,
   "metadata": {},
   "outputs": [],
   "source": [
    "forecast_full = forecast\n",
    "forecast_full['y'] = df['y']\n",
    "# Replacing y Nan values with last values known\n",
    "# forecast_full['y'].iloc[df.shape[0]:] = forecast_full['y'].iloc[df.shape[0]-1]\n",
    "forecast_full['yhat_round'] = forecast_full['yhat'].apply(lambda x: round(x))"
   ]
  },
  {
   "cell_type": "code",
   "execution_count": 11,
   "metadata": {},
   "outputs": [
    {
     "data": {
      "text/html": [
       "<div>\n",
       "<style scoped>\n",
       "    .dataframe tbody tr th:only-of-type {\n",
       "        vertical-align: middle;\n",
       "    }\n",
       "\n",
       "    .dataframe tbody tr th {\n",
       "        vertical-align: top;\n",
       "    }\n",
       "\n",
       "    .dataframe thead th {\n",
       "        text-align: right;\n",
       "    }\n",
       "</style>\n",
       "<table border=\"1\" class=\"dataframe\">\n",
       "  <thead>\n",
       "    <tr style=\"text-align: right;\">\n",
       "      <th></th>\n",
       "      <th>ds</th>\n",
       "      <th>trend</th>\n",
       "      <th>yhat_lower</th>\n",
       "      <th>yhat_upper</th>\n",
       "      <th>trend_lower</th>\n",
       "      <th>trend_upper</th>\n",
       "      <th>additive_terms</th>\n",
       "      <th>additive_terms_lower</th>\n",
       "      <th>additive_terms_upper</th>\n",
       "      <th>multiplicative_terms</th>\n",
       "      <th>multiplicative_terms_lower</th>\n",
       "      <th>multiplicative_terms_upper</th>\n",
       "      <th>yhat</th>\n",
       "      <th>y</th>\n",
       "      <th>yhat_round</th>\n",
       "    </tr>\n",
       "  </thead>\n",
       "  <tbody>\n",
       "    <tr>\n",
       "      <th>0</th>\n",
       "      <td>2020-05-05 00:01:00</td>\n",
       "      <td>20.017054</td>\n",
       "      <td>18.892783</td>\n",
       "      <td>21.113750</td>\n",
       "      <td>20.017054</td>\n",
       "      <td>20.017054</td>\n",
       "      <td>0.0</td>\n",
       "      <td>0.0</td>\n",
       "      <td>0.0</td>\n",
       "      <td>0.0</td>\n",
       "      <td>0.0</td>\n",
       "      <td>0.0</td>\n",
       "      <td>20.017054</td>\n",
       "      <td>20.0</td>\n",
       "      <td>20</td>\n",
       "    </tr>\n",
       "    <tr>\n",
       "      <th>1</th>\n",
       "      <td>2020-05-05 00:02:00</td>\n",
       "      <td>20.017068</td>\n",
       "      <td>18.852491</td>\n",
       "      <td>21.112064</td>\n",
       "      <td>20.017068</td>\n",
       "      <td>20.017068</td>\n",
       "      <td>0.0</td>\n",
       "      <td>0.0</td>\n",
       "      <td>0.0</td>\n",
       "      <td>0.0</td>\n",
       "      <td>0.0</td>\n",
       "      <td>0.0</td>\n",
       "      <td>20.017068</td>\n",
       "      <td>20.0</td>\n",
       "      <td>20</td>\n",
       "    </tr>\n",
       "    <tr>\n",
       "      <th>2</th>\n",
       "      <td>2020-05-05 00:03:00</td>\n",
       "      <td>20.017081</td>\n",
       "      <td>18.924457</td>\n",
       "      <td>21.028664</td>\n",
       "      <td>20.017081</td>\n",
       "      <td>20.017081</td>\n",
       "      <td>0.0</td>\n",
       "      <td>0.0</td>\n",
       "      <td>0.0</td>\n",
       "      <td>0.0</td>\n",
       "      <td>0.0</td>\n",
       "      <td>0.0</td>\n",
       "      <td>20.017081</td>\n",
       "      <td>20.0</td>\n",
       "      <td>20</td>\n",
       "    </tr>\n",
       "    <tr>\n",
       "      <th>3</th>\n",
       "      <td>2020-05-05 00:04:00</td>\n",
       "      <td>20.017094</td>\n",
       "      <td>18.910382</td>\n",
       "      <td>21.106344</td>\n",
       "      <td>20.017094</td>\n",
       "      <td>20.017094</td>\n",
       "      <td>0.0</td>\n",
       "      <td>0.0</td>\n",
       "      <td>0.0</td>\n",
       "      <td>0.0</td>\n",
       "      <td>0.0</td>\n",
       "      <td>0.0</td>\n",
       "      <td>20.017094</td>\n",
       "      <td>20.0</td>\n",
       "      <td>20</td>\n",
       "    </tr>\n",
       "    <tr>\n",
       "      <th>4</th>\n",
       "      <td>2020-05-05 00:05:00</td>\n",
       "      <td>20.017108</td>\n",
       "      <td>18.900916</td>\n",
       "      <td>21.114717</td>\n",
       "      <td>20.017108</td>\n",
       "      <td>20.017108</td>\n",
       "      <td>0.0</td>\n",
       "      <td>0.0</td>\n",
       "      <td>0.0</td>\n",
       "      <td>0.0</td>\n",
       "      <td>0.0</td>\n",
       "      <td>0.0</td>\n",
       "      <td>20.017108</td>\n",
       "      <td>20.0</td>\n",
       "      <td>20</td>\n",
       "    </tr>\n",
       "  </tbody>\n",
       "</table>\n",
       "</div>"
      ],
      "text/plain": [
       "                   ds      trend  yhat_lower  yhat_upper  trend_lower  \\\n",
       "0 2020-05-05 00:01:00  20.017054   18.892783   21.113750    20.017054   \n",
       "1 2020-05-05 00:02:00  20.017068   18.852491   21.112064    20.017068   \n",
       "2 2020-05-05 00:03:00  20.017081   18.924457   21.028664    20.017081   \n",
       "3 2020-05-05 00:04:00  20.017094   18.910382   21.106344    20.017094   \n",
       "4 2020-05-05 00:05:00  20.017108   18.900916   21.114717    20.017108   \n",
       "\n",
       "   trend_upper  additive_terms  additive_terms_lower  additive_terms_upper  \\\n",
       "0    20.017054             0.0                   0.0                   0.0   \n",
       "1    20.017068             0.0                   0.0                   0.0   \n",
       "2    20.017081             0.0                   0.0                   0.0   \n",
       "3    20.017094             0.0                   0.0                   0.0   \n",
       "4    20.017108             0.0                   0.0                   0.0   \n",
       "\n",
       "   multiplicative_terms  multiplicative_terms_lower  \\\n",
       "0                   0.0                         0.0   \n",
       "1                   0.0                         0.0   \n",
       "2                   0.0                         0.0   \n",
       "3                   0.0                         0.0   \n",
       "4                   0.0                         0.0   \n",
       "\n",
       "   multiplicative_terms_upper       yhat     y  yhat_round  \n",
       "0                         0.0  20.017054  20.0          20  \n",
       "1                         0.0  20.017068  20.0          20  \n",
       "2                         0.0  20.017081  20.0          20  \n",
       "3                         0.0  20.017094  20.0          20  \n",
       "4                         0.0  20.017108  20.0          20  "
      ]
     },
     "execution_count": 11,
     "metadata": {},
     "output_type": "execute_result"
    }
   ],
   "source": [
    "forecast_full.head()"
   ]
  },
  {
   "cell_type": "code",
   "execution_count": 12,
   "metadata": {},
   "outputs": [
    {
     "data": {
      "image/png": "[encoded data removed]",
      "text/plain": [
       "<Figure size 720x432 with 1 Axes>"
      ]
     },
     "metadata": {},
     "output_type": "display_data"
    }
   ],
   "source": [
    "fig1 = m.plot(forecast)"
   ]
  },
  {
   "cell_type": "code",
   "execution_count": 13,
   "metadata": {},
   "outputs": [
    {
     "data": {
      "image/png": "[encoded data removed]",
      "text/plain": [
       "<Figure size 1080x360 with 1 Axes>"
      ]
     },
     "metadata": {
      "needs_background": "light"
     },
     "output_type": "display_data"
    }
   ],
   "source": [
    "fig, axis = plt.subplots(figsize=(15,5))\n",
    "sns.lineplot(x=\"ds\", y=\"y\",data=forecast_full, color=\"blue\")\n",
    "sns.lineplot(x=\"ds\", y=\"yhat_round\",data=forecast_full, color=\"red\")\n",
    "sns.lineplot(x=\"ds\", y=\"yhat_lower\",data=forecast_full, color=\"orange\")\n",
    "sns.lineplot(x=\"ds\", y=\"yhat_upper\",data=forecast_full, color=\"orange\")\n",
    "plt.show()\n"
   ]
  }
 ],
 "metadata": {
  "kernelspec": {
   "display_name": "Python 3",
   "language": "python",
   "name": "python3"
  },
  "language_info": {
   "codemirror_mode": {
    "name": "ipython",
    "version": 3
   },
   "file_extension": ".py",
   "mimetype": "text/x-python",
   "name": "python",
   "nbconvert_exporter": "python",
   "pygments_lexer": "ipython3",
   "version": "3.7.7"
  }
 },
 "nbformat": 4,
 "nbformat_minor": 4
}
