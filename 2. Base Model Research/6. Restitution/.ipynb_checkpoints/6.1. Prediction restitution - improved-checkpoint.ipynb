{
 "cells": [
  {
   "cell_type": "markdown",
   "metadata": {},
   "source": [
    "# 2. Tensorflow Prophet Testing"
   ]
  },
  {
   "cell_type": "markdown",
   "metadata": {},
   "source": [
    "## I - Setup"
   ]
  },
  {
   "cell_type": "code",
   "execution_count": 1,
   "metadata": {},
   "outputs": [],
   "source": [
    "# Import of librairies\n",
    "import pandas as pd\n",
    "import matplotlib.pyplot as plt\n",
    "import seaborn as sns\n",
    "import numpy as np\n",
    "import datetime\n",
    "from tqdm import tqdm\n",
    "from datetime import timedelta\n",
    "import time \n",
    "\n",
    "class sql_query:\n",
    "    def __init__(self, credentials_path):\n",
    "        self.db_credentials = pd.read_csv(credentials_path, index_col=\"Field\")\n",
    "      \n",
    "    \n",
    "    def __call__(self, query):\n",
    "        \n",
    "        mariadb_connection = mariadb.connect(\n",
    "            user=self.db_credentials.loc[\"user\"][0],\n",
    "            password=self.db_credentials.loc[\"password\"][0],\n",
    "            host=self.db_credentials.loc[\"host\"][0],\n",
    "            port=3306,\n",
    "            db = \"db_velib\")\n",
    "        \n",
    "        self.cursor = mariadb_connection.cursor()\n",
    "        cursor = self.cursor\n",
    "        cursor.execute(\"SET  time_zone = 'Europe/Paris'\")\n",
    "        cursor.execute(query)\n",
    "        field_names = [i[0] for i in cursor.description]\n",
    "        df = pd.DataFrame(cursor, columns=field_names)\n",
    "        return df\n",
    "    \n",
    "# Modify later query to have last value and df\n",
    "\n",
    "def retrieve_results():\n",
    "\n",
    "    request = sql_query(\"../../aws_mariadb_crendentials.csv\")\n",
    "    query = \"\"\"\n",
    "    SELECT * FROM velib_results\n",
    "    WHERE date_of_prediction =\n",
    "    (select max(date_of_prediction) FROM velib_results)\n",
    "    \"\"\"\n",
    "    df = request(query)\n",
    "\n",
    "    # Limiting data temporarily\n",
    "    #df = df[:20]\n",
    "\n",
    "    # Modifications\n",
    "\n",
    "    df.last_observations = df.last_observations.apply(lambda x: list(map(float, x[1:-1].split())))\n",
    "    df.model_A = df.model_A.apply(lambda x: list(map(float, x[1:-1].split())))\n",
    "    df.model_B = df.model_B.apply(lambda x: list(map(float, x[1:-1].split())))\n",
    "\n",
    "    return df\n",
    "\n",
    "def dataframe_restition(station_id, df):\n",
    "    \n",
    "    try:\n",
    "        \n",
    "        # Creating proper data\n",
    "        \n",
    "        graph_data = df[df['station_id'] == station_id]\n",
    "\n",
    "        df_restitution = pd.DataFrame(columns=['last_observations','model_A','model_B'],\n",
    "                     index=range(43))\n",
    "\n",
    "        df_restitution['last_observations'][0:37] = graph_data.last_observations[graph_data.index[0]]\n",
    "        df_restitution['model_A'][0:37] = graph_data.last_observations[graph_data.index[0]]\n",
    "        df_restitution['model_B'][0:37] = graph_data.last_observations[graph_data.index[0]]\n",
    "        df_restitution['model_A'][37:43] = graph_data.model_A[graph_data.index[0]]\n",
    "        df_restitution['model_B'][37:43] = graph_data.model_B[graph_data.index[0]]\n",
    "        df_restitution.index=pd.date_range((df.date_of_prediction[graph_data.index[0]] - timedelta(minutes=36*5)), periods=43, freq='5Min')\n",
    "        \n",
    "\n",
    "        df_restitution = df_restitution.fillna(0)\n",
    "\n",
    "        df_restitution['last_observations'] = df_restitution['last_observations'].apply(lambda x: int(x))\n",
    "        df_restitution['model_A'] = df_restitution['model_A'].apply(lambda x: int(round(x)))\n",
    "        df_restitution['model_B'] = df_restitution['model_B'].apply(lambda x: int(round(x)))\n",
    "        \n",
    "        # Creating graphs\n",
    "\n",
    "        f, ax = plt.subplots(figsize=(10,5))\n",
    "\n",
    "        ax.set_ylim(0, max(df_restitution[max(df_restitution)])+5)\n",
    "        #x1, y1 = [30, 31], [20, 20]\n",
    "        #ax = plt.plot(x1, y1, linestyle=\"dashdot\", color=\"red\")\n",
    "\n",
    "        histo_start_index = 30\n",
    "        histo_end_index = 36\n",
    "        _ = sns.lineplot(x=df_restitution.index[histo_start_index:], y=df_restitution['model_A'][histo_start_index:].values, color='cyan', label='Forecast A')\n",
    "        _ = sns.lineplot(x=df_restitution.index[histo_start_index:], y=df_restitution['model_B'][histo_start_index:].values, color='blue', label='Forecast B')\n",
    "        _ = sns.lineplot(x=df_restitution.index[histo_start_index:histo_end_index+1], y=df_restitution.iloc[histo_start_index:histo_end_index+1]['last_observations'].values, color='green', label=\"Historical Values\")\n",
    "\n",
    "        plt.axvline(x=df_restitution.index[histo_end_index],color='green', linestyle=\"dashdot\")\n",
    "                \n",
    "        plt.title('Velib availiability at {} for station {}'.format(str(df_restitution.index[36]),station_id))\n",
    "        plt.savefig('../9. Flask app/static/images/{}.png'.format(station_id), dpi=f.dpi)\n",
    "        plt.close(f)\n",
    "        #print(station_id)\n",
    "        #plt.show()\n",
    "        \n",
    "    except:\n",
    "        print('Data currently not availiable')"
   ]
  },
  {
   "cell_type": "markdown",
   "metadata": {},
   "source": [
    "## I - Initialization"
   ]
  },
  {
   "cell_type": "code",
   "execution_count": 2,
   "metadata": {},
   "outputs": [
    {
     "name": "stderr",
     "output_type": "stream",
     "text": [
      "100%|██████████| 1391/1391 [03:16<00:00,  7.07it/s]"
     ]
    },
    {
     "name": "stdout",
     "output_type": "stream",
     "text": [
      "Data currently not availiable\n",
      "CPU times: user 3min 14s, sys: 3.37 s, total: 3min 17s\n",
      "Wall time: 3min 17s\n"
     ]
    },
    {
     "name": "stderr",
     "output_type": "stream",
     "text": [
      "\n"
     ]
    }
   ],
   "source": [
    "%%time\n",
    "# Retrieving last results\n",
    "df = retrieve_results()\n",
    "#df = df[:20]\n",
    "\n",
    "# retrieving date_of update\n",
    "for station_id in tqdm(df.station_id):\n",
    "    dataframe_restition(station_id, df)"
   ]
  },
  {
   "cell_type": "code",
   "execution_count": null,
   "metadata": {},
   "outputs": [],
   "source": []
  }
 ],
 "metadata": {
  "kernelspec": {
   "display_name": "Python 3",
   "language": "python",
   "name": "python3"
  },
  "language_info": {
   "codemirror_mode": {
    "name": "ipython",
    "version": 3
   },
   "file_extension": ".py",
   "mimetype": "text/x-python",
   "name": "python",
   "nbconvert_exporter": "python",
   "pygments_lexer": "ipython3",
   "version": "3.7.7"
  }
 },
 "nbformat": 4,
 "nbformat_minor": 4
}
