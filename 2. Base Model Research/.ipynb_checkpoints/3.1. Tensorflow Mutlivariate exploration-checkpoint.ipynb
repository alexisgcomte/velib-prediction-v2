{
 "cells": [
  {
   "cell_type": "markdown",
   "metadata": {},
   "source": [
    "# 3.1. Tensorflow Mutlivariate exploration"
   ]
  },
  {
   "cell_type": "markdown",
   "metadata": {},
   "source": [
    "## I - Setup"
   ]
  },
  {
   "cell_type": "code",
   "execution_count": 50,
   "metadata": {},
   "outputs": [],
   "source": [
    "# Import of librairies\n",
    "import tensorflow as tf\n",
    "from tensorflow import keras\n",
    "import mysql.connector as mariadb\n",
    "import pandas as pd\n",
    "import matplotlib.pyplot as plt\n",
    "import seaborn as sns\n",
    "import numpy as np\n",
    "from sklearn.preprocessing import OneHotEncoder, StandardScaler\n",
    "from sklearn.compose import ColumnTransformer\n",
    "from sklearn.model_selection import train_test_split\n",
    "import datetime as dt\n",
    "\n",
    "physical_devices = tf.config.list_physical_devices('GPU')\n",
    "tf.config.experimental.set_memory_growth(physical_devices[0], enable=True)"
   ]
  },
  {
   "cell_type": "code",
   "execution_count": 51,
   "metadata": {},
   "outputs": [],
   "source": [
    "class sql_query:\n",
    "    def __init__(self, credentials_path):\n",
    "        self.db_credentials = pd.read_csv(credentials_path, index_col=\"Field\")\n",
    "      \n",
    "    \n",
    "    def __call__(self, query):\n",
    "        \n",
    "        mariadb_connection = mariadb.connect(\n",
    "            user=self.db_credentials.loc[\"user\"][0],\n",
    "            password=self.db_credentials.loc[\"password\"][0],\n",
    "            host=self.db_credentials.loc[\"host\"][0],\n",
    "            port=3306,\n",
    "            db = \"db_velib\")\n",
    "        \n",
    "        self.cursor = mariadb_connection.cursor()\n",
    "    \n",
    "        cursor = self.cursor\n",
    "        cursor.execute(query)\n",
    "        field_names = [i[0] for i in cursor.description]\n",
    "        df = pd.DataFrame(cursor, columns=field_names)\n",
    "        return df"
   ]
  },
  {
   "cell_type": "markdown",
   "metadata": {},
   "source": [
    "## II. Adaptation pipeline"
   ]
  },
  {
   "cell_type": "code",
   "execution_count": 52,
   "metadata": {},
   "outputs": [],
   "source": [
    "station_id = 9034\n",
    "day_of_testing = '2020-05-11'"
   ]
  },
  {
   "cell_type": "code",
   "execution_count": 53,
   "metadata": {},
   "outputs": [],
   "source": [
    "request = sql_query(\"../../aws_mariadb_crendentials.csv\")"
   ]
  },
  {
   "cell_type": "code",
   "execution_count": 54,
   "metadata": {},
   "outputs": [],
   "source": [
    "# Taking data from  station 9034 - Madeleine\n",
    "query = \"\"\"\n",
    "SELECT * FROM velib_realtime\n",
    "WHERE station_id = {}\n",
    "AND date_of_update > DATE('2020-05-05')\n",
    "AND date_of_update <= DATE_ADD(DATE('{}'), INTERVAL 1 DAY)\n",
    "ORDER BY date_of_update ASC\n",
    "\"\"\".format(station_id, day_of_testing)\n",
    "\n",
    "df = request(query)\n",
    "df.index = df['date_of_update']"
   ]
  },
  {
   "cell_type": "code",
   "execution_count": 55,
   "metadata": {},
   "outputs": [
    {
     "data": {
      "text/html": [
       "<div>\n",
       "<style scoped>\n",
       "    .dataframe tbody tr th:only-of-type {\n",
       "        vertical-align: middle;\n",
       "    }\n",
       "\n",
       "    .dataframe tbody tr th {\n",
       "        vertical-align: top;\n",
       "    }\n",
       "\n",
       "    .dataframe thead th {\n",
       "        text-align: right;\n",
       "    }\n",
       "</style>\n",
       "<table border=\"1\" class=\"dataframe\">\n",
       "  <thead>\n",
       "    <tr style=\"text-align: right;\">\n",
       "      <th></th>\n",
       "      <th>station_id</th>\n",
       "      <th>operational_station</th>\n",
       "      <th>nb_free_docks</th>\n",
       "      <th>nb_total_free_bikes</th>\n",
       "      <th>nb_free_mechanical_bikes</th>\n",
       "      <th>nb_free_electrical_bikes</th>\n",
       "      <th>payment_totem</th>\n",
       "      <th>bike_return_possible</th>\n",
       "      <th>data_actualisation</th>\n",
       "      <th>date_of_update</th>\n",
       "    </tr>\n",
       "    <tr>\n",
       "      <th>date_of_update</th>\n",
       "      <th></th>\n",
       "      <th></th>\n",
       "      <th></th>\n",
       "      <th></th>\n",
       "      <th></th>\n",
       "      <th></th>\n",
       "      <th></th>\n",
       "      <th></th>\n",
       "      <th></th>\n",
       "      <th></th>\n",
       "    </tr>\n",
       "  </thead>\n",
       "  <tbody>\n",
       "    <tr>\n",
       "      <th>2020-05-05 00:01:00</th>\n",
       "      <td>9034</td>\n",
       "      <td>OUI</td>\n",
       "      <td>20</td>\n",
       "      <td>2</td>\n",
       "      <td>1</td>\n",
       "      <td>1</td>\n",
       "      <td>OUI</td>\n",
       "      <td>OUI</td>\n",
       "      <td>2020-05-04 23:26:49</td>\n",
       "      <td>2020-05-05 00:01:00</td>\n",
       "    </tr>\n",
       "    <tr>\n",
       "      <th>2020-05-05 00:02:00</th>\n",
       "      <td>9034</td>\n",
       "      <td>OUI</td>\n",
       "      <td>20</td>\n",
       "      <td>2</td>\n",
       "      <td>1</td>\n",
       "      <td>1</td>\n",
       "      <td>OUI</td>\n",
       "      <td>OUI</td>\n",
       "      <td>2020-05-04 23:26:49</td>\n",
       "      <td>2020-05-05 00:02:00</td>\n",
       "    </tr>\n",
       "    <tr>\n",
       "      <th>2020-05-05 00:03:00</th>\n",
       "      <td>9034</td>\n",
       "      <td>OUI</td>\n",
       "      <td>20</td>\n",
       "      <td>2</td>\n",
       "      <td>1</td>\n",
       "      <td>1</td>\n",
       "      <td>OUI</td>\n",
       "      <td>OUI</td>\n",
       "      <td>2020-05-04 23:26:49</td>\n",
       "      <td>2020-05-05 00:03:00</td>\n",
       "    </tr>\n",
       "    <tr>\n",
       "      <th>2020-05-05 00:04:00</th>\n",
       "      <td>9034</td>\n",
       "      <td>OUI</td>\n",
       "      <td>20</td>\n",
       "      <td>2</td>\n",
       "      <td>1</td>\n",
       "      <td>1</td>\n",
       "      <td>OUI</td>\n",
       "      <td>OUI</td>\n",
       "      <td>2020-05-04 23:26:49</td>\n",
       "      <td>2020-05-05 00:04:00</td>\n",
       "    </tr>\n",
       "    <tr>\n",
       "      <th>2020-05-05 00:05:00</th>\n",
       "      <td>9034</td>\n",
       "      <td>OUI</td>\n",
       "      <td>20</td>\n",
       "      <td>2</td>\n",
       "      <td>1</td>\n",
       "      <td>1</td>\n",
       "      <td>OUI</td>\n",
       "      <td>OUI</td>\n",
       "      <td>2020-05-04 23:26:49</td>\n",
       "      <td>2020-05-05 00:05:00</td>\n",
       "    </tr>\n",
       "  </tbody>\n",
       "</table>\n",
       "</div>"
      ],
      "text/plain": [
       "                     station_id operational_station  nb_free_docks  \\\n",
       "date_of_update                                                       \n",
       "2020-05-05 00:01:00        9034                 OUI             20   \n",
       "2020-05-05 00:02:00        9034                 OUI             20   \n",
       "2020-05-05 00:03:00        9034                 OUI             20   \n",
       "2020-05-05 00:04:00        9034                 OUI             20   \n",
       "2020-05-05 00:05:00        9034                 OUI             20   \n",
       "\n",
       "                     nb_total_free_bikes  nb_free_mechanical_bikes  \\\n",
       "date_of_update                                                       \n",
       "2020-05-05 00:01:00                    2                         1   \n",
       "2020-05-05 00:02:00                    2                         1   \n",
       "2020-05-05 00:03:00                    2                         1   \n",
       "2020-05-05 00:04:00                    2                         1   \n",
       "2020-05-05 00:05:00                    2                         1   \n",
       "\n",
       "                     nb_free_electrical_bikes payment_totem  \\\n",
       "date_of_update                                                \n",
       "2020-05-05 00:01:00                         1           OUI   \n",
       "2020-05-05 00:02:00                         1           OUI   \n",
       "2020-05-05 00:03:00                         1           OUI   \n",
       "2020-05-05 00:04:00                         1           OUI   \n",
       "2020-05-05 00:05:00                         1           OUI   \n",
       "\n",
       "                    bike_return_possible  data_actualisation  \\\n",
       "date_of_update                                                 \n",
       "2020-05-05 00:01:00                  OUI 2020-05-04 23:26:49   \n",
       "2020-05-05 00:02:00                  OUI 2020-05-04 23:26:49   \n",
       "2020-05-05 00:03:00                  OUI 2020-05-04 23:26:49   \n",
       "2020-05-05 00:04:00                  OUI 2020-05-04 23:26:49   \n",
       "2020-05-05 00:05:00                  OUI 2020-05-04 23:26:49   \n",
       "\n",
       "                         date_of_update  \n",
       "date_of_update                           \n",
       "2020-05-05 00:01:00 2020-05-05 00:01:00  \n",
       "2020-05-05 00:02:00 2020-05-05 00:02:00  \n",
       "2020-05-05 00:03:00 2020-05-05 00:03:00  \n",
       "2020-05-05 00:04:00 2020-05-05 00:04:00  \n",
       "2020-05-05 00:05:00 2020-05-05 00:05:00  "
      ]
     },
     "execution_count": 55,
     "metadata": {},
     "output_type": "execute_result"
    }
   ],
   "source": [
    "df.head()"
   ]
  },
  {
   "cell_type": "markdown",
   "metadata": {},
   "source": [
    "## A - Multilabel data exploration and cleaning"
   ]
  },
  {
   "cell_type": "code",
   "execution_count": 56,
   "metadata": {},
   "outputs": [
    {
     "name": "stdout",
     "output_type": "stream",
     "text": [
      "['station_id', 'operational_station', 'nb_free_docks', 'nb_total_free_bikes', 'nb_free_mechanical_bikes', 'nb_free_electrical_bikes', 'payment_totem', 'bike_return_possible', 'data_actualisation', 'date_of_update']\n"
     ]
    }
   ],
   "source": [
    "print(list(df.columns))"
   ]
  },
  {
   "cell_type": "markdown",
   "metadata": {},
   "source": [
    "### Labels to remove:\n",
    "- station_id: the id is unique by each station\n",
    "- data_actualisation: not working properly and no interesting information\n",
    "- date_of_update: already in the index\n",
    "- nb_free_mechanical_bikes / nb_free_electrical_bikes : it could be interesting to keep becvause it shows a small subtility, but for the moment it only makes the data more complex\n",
    "- payment_totem: we don't need it to know availiability\n",
    "- station_id: the id is unique by each station\n",
    "\n",
    "### Labels to keep:\n",
    "\n",
    "- nb_total_free_bikes: secondary indicator \n",
    "\n",
    "### Labels to use differently:\n",
    "- operational_station: if no, no prediction can be done in finale version\n",
    "- bike_return_possible: if no, we cannot return to the station, so it is useless!\n",
    "\n",
    "\n",
    "### Target :\n",
    "- nb_free_docks\n",
    "\n",
    "### Data addition :\n",
    "- day of the week\n",
    "\n",
    "\n",
    "## Other idea:\n",
    "Other version not for one station but for the whole database with station id in order the make calculation on whole data and link it with distance"
   ]
  },
  {
   "cell_type": "code",
   "execution_count": 57,
   "metadata": {},
   "outputs": [
    {
     "data": {
      "text/html": [
       "<div>\n",
       "<style scoped>\n",
       "    .dataframe tbody tr th:only-of-type {\n",
       "        vertical-align: middle;\n",
       "    }\n",
       "\n",
       "    .dataframe tbody tr th {\n",
       "        vertical-align: top;\n",
       "    }\n",
       "\n",
       "    .dataframe thead th {\n",
       "        text-align: right;\n",
       "    }\n",
       "</style>\n",
       "<table border=\"1\" class=\"dataframe\">\n",
       "  <thead>\n",
       "    <tr style=\"text-align: right;\">\n",
       "      <th></th>\n",
       "      <th>nb_total_free_bikes</th>\n",
       "      <th>nb_free_docks</th>\n",
       "    </tr>\n",
       "    <tr>\n",
       "      <th>date_of_update</th>\n",
       "      <th></th>\n",
       "      <th></th>\n",
       "    </tr>\n",
       "  </thead>\n",
       "  <tbody>\n",
       "    <tr>\n",
       "      <th>2020-05-05 00:01:00</th>\n",
       "      <td>2</td>\n",
       "      <td>20</td>\n",
       "    </tr>\n",
       "    <tr>\n",
       "      <th>2020-05-05 00:02:00</th>\n",
       "      <td>2</td>\n",
       "      <td>20</td>\n",
       "    </tr>\n",
       "    <tr>\n",
       "      <th>2020-05-05 00:03:00</th>\n",
       "      <td>2</td>\n",
       "      <td>20</td>\n",
       "    </tr>\n",
       "    <tr>\n",
       "      <th>2020-05-05 00:04:00</th>\n",
       "      <td>2</td>\n",
       "      <td>20</td>\n",
       "    </tr>\n",
       "    <tr>\n",
       "      <th>2020-05-05 00:05:00</th>\n",
       "      <td>2</td>\n",
       "      <td>20</td>\n",
       "    </tr>\n",
       "  </tbody>\n",
       "</table>\n",
       "</div>"
      ],
      "text/plain": [
       "                     nb_total_free_bikes  nb_free_docks\n",
       "date_of_update                                         \n",
       "2020-05-05 00:01:00                    2             20\n",
       "2020-05-05 00:02:00                    2             20\n",
       "2020-05-05 00:03:00                    2             20\n",
       "2020-05-05 00:04:00                    2             20\n",
       "2020-05-05 00:05:00                    2             20"
      ]
     },
     "execution_count": 57,
     "metadata": {},
     "output_type": "execute_result"
    }
   ],
   "source": [
    "# Selecting only interesting columns\n",
    "\n",
    "df = df[['nb_total_free_bikes','nb_free_docks']]\n",
    "df.head()"
   ]
  },
  {
   "cell_type": "code",
   "execution_count": 58,
   "metadata": {},
   "outputs": [
    {
     "data": {
      "text/html": [
       "<div>\n",
       "<style scoped>\n",
       "    .dataframe tbody tr th:only-of-type {\n",
       "        vertical-align: middle;\n",
       "    }\n",
       "\n",
       "    .dataframe tbody tr th {\n",
       "        vertical-align: top;\n",
       "    }\n",
       "\n",
       "    .dataframe thead th {\n",
       "        text-align: right;\n",
       "    }\n",
       "</style>\n",
       "<table border=\"1\" class=\"dataframe\">\n",
       "  <thead>\n",
       "    <tr style=\"text-align: right;\">\n",
       "      <th></th>\n",
       "      <th>weekday</th>\n",
       "      <th>nb_total_free_bikes</th>\n",
       "      <th>nb_free_docks</th>\n",
       "    </tr>\n",
       "    <tr>\n",
       "      <th>date_of_update</th>\n",
       "      <th></th>\n",
       "      <th></th>\n",
       "      <th></th>\n",
       "    </tr>\n",
       "  </thead>\n",
       "  <tbody>\n",
       "    <tr>\n",
       "      <th>2020-05-05 00:01:00</th>\n",
       "      <td>1</td>\n",
       "      <td>2</td>\n",
       "      <td>20</td>\n",
       "    </tr>\n",
       "    <tr>\n",
       "      <th>2020-05-05 00:02:00</th>\n",
       "      <td>1</td>\n",
       "      <td>2</td>\n",
       "      <td>20</td>\n",
       "    </tr>\n",
       "    <tr>\n",
       "      <th>2020-05-05 00:03:00</th>\n",
       "      <td>1</td>\n",
       "      <td>2</td>\n",
       "      <td>20</td>\n",
       "    </tr>\n",
       "    <tr>\n",
       "      <th>2020-05-05 00:04:00</th>\n",
       "      <td>1</td>\n",
       "      <td>2</td>\n",
       "      <td>20</td>\n",
       "    </tr>\n",
       "    <tr>\n",
       "      <th>2020-05-05 00:05:00</th>\n",
       "      <td>1</td>\n",
       "      <td>2</td>\n",
       "      <td>20</td>\n",
       "    </tr>\n",
       "  </tbody>\n",
       "</table>\n",
       "</div>"
      ],
      "text/plain": [
       "                    weekday  nb_total_free_bikes  nb_free_docks\n",
       "date_of_update                                                 \n",
       "2020-05-05 00:01:00       1                    2             20\n",
       "2020-05-05 00:02:00       1                    2             20\n",
       "2020-05-05 00:03:00       1                    2             20\n",
       "2020-05-05 00:04:00       1                    2             20\n",
       "2020-05-05 00:05:00       1                    2             20"
      ]
     },
     "execution_count": 58,
     "metadata": {},
     "output_type": "execute_result"
    }
   ],
   "source": [
    "# Adding weekday\n",
    "\n",
    "df['weekday'] = df.index.weekday\n",
    "df.weekday = df.weekday.apply(lambda x: str(x)) # For later use in pre-processing, weekday have to be string\n",
    "df = df[['weekday','nb_total_free_bikes','nb_free_docks']] # putting target at the end of the dataset\n",
    "df.head()"
   ]
  },
  {
   "cell_type": "markdown",
   "metadata": {},
   "source": [
    "# A Pré-processing"
   ]
  },
  {
   "cell_type": "code",
   "execution_count": 59,
   "metadata": {},
   "outputs": [],
   "source": [
    "# Setting the train_split value for later use (around 70%)\n",
    "TRAIN_SPLIT = round(df.shape[0]*0.9)\n",
    "tf.random.set_seed(13)\n",
    "past_history = 180\n",
    "future_target = 30\n",
    "STEP = 1\n",
    "BATCH_SIZE = 32\n",
    "BUFFER_SIZE = 10000"
   ]
  },
  {
   "cell_type": "code",
   "execution_count": 60,
   "metadata": {},
   "outputs": [
    {
     "name": "stdout",
     "output_type": "stream",
     "text": [
      "categorical columns: [0]\n",
      "numeric columns: [1, 2]\n",
      "Shape of X_train before feature encoder: (9062, 3)\n",
      "Shape of X_train after feature encoder: (9062, 8)\n",
      "Shape of X_val  feature encoder: (1007, 8)\n",
      "Shape of X after feature encoder: (10069, 8)\n"
     ]
    }
   ],
   "source": [
    "# Declaration fo target and features_list\n",
    "\n",
    "features_list = df.columns\n",
    "\n",
    "X = df.loc[:, features_list]\n",
    "\n",
    "\n",
    "# Distinction of categorical features\n",
    "# (string values, columns index for numpy use)\n",
    "\n",
    "categorical_features_str = (X.select_dtypes(include=['object']).columns)\n",
    "categorical_features = [X.columns.get_loc(i) for i in categorical_features_str]\n",
    "print('categorical columns:',categorical_features)\n",
    "\n",
    "# Distinction of numeric features \n",
    "\n",
    "numeric_features_str = X.columns.drop(categorical_features_str)\n",
    "numeric_features = [X.columns.get_loc(i) for i in numeric_features_str]\n",
    "\n",
    "print('numeric columns:',numeric_features)\n",
    "\n",
    "# Division of dataset Train set & Test set \n",
    "\n",
    "X_train  = X[:TRAIN_SPLIT]\n",
    "X_val  = X[TRAIN_SPLIT:]\n",
    "\n",
    "# Convertion of pandas DataFrames to numpy arrays before using scikit-learn\n",
    "\n",
    "X_train = X_train.values\n",
    "X_val = X_val.values\n",
    "\n",
    "# Declaration of the categorical and numeric transfomers\n",
    "\n",
    "categorical_transformer = OneHotEncoder(drop='first')\n",
    "numeric_transformer = StandardScaler()\n",
    "\n",
    "# Declaration of the feature encoder\n",
    "\n",
    "feature_encoder = ColumnTransformer(\n",
    "transformers=[\n",
    "    ('cat', categorical_transformer, categorical_features),\n",
    "    ('num', numeric_transformer, numeric_features)\n",
    "    \n",
    "]\n",
    ")\n",
    "\n",
    "# Fit of the encoder on X_train and transform of X_train\n",
    "\n",
    "# Fit on X\n",
    "\n",
    "feature_encoder.fit(X_train)\n",
    "\n",
    "print('Shape of X_train before feature encoder:', X_train.shape)\n",
    "X_train = feature_encoder.transform(X_train)\n",
    "print('Shape of X_train after feature encoder:', X_train.shape)\n",
    "\n",
    "# Transformation of X_test\n",
    "X_val = feature_encoder.transform(X_val)\n",
    "print('Shape of X_val  feature encoder:', X_val.shape)\n",
    "\n",
    "# Concatenation for full Dataset\n",
    "\n",
    "X = np.concatenate((X_train, X_val), axis=0)\n",
    "print('Shape of X after feature encoder:', X.shape)"
   ]
  },
  {
   "cell_type": "code",
   "execution_count": 61,
   "metadata": {},
   "outputs": [],
   "source": [
    "# Transforming the input data in the proper format \n",
    "\n",
    "def data_preparation(dataset, target, start_index, end_index, history_size,\n",
    "                      target_size, step, single_step=False):\n",
    "    data = []\n",
    "    labels = []\n",
    "\n",
    "    start_index = start_index + history_size\n",
    "    if end_index is None:\n",
    "        end_index = len(dataset) - target_size\n",
    "\n",
    "    for i in range(start_index, end_index):\n",
    "        indices = range(i-history_size, i, step)\n",
    "        data.append(dataset[indices])\n",
    "\n",
    "        if single_step:\n",
    "            labels.append(target[i+target_size])\n",
    "        else:\n",
    "            labels.append(target[i:i+target_size])\n",
    "\n",
    "    return np.array(data), np.array(labels)"
   ]
  },
  {
   "cell_type": "markdown",
   "metadata": {},
   "source": [
    "x_train, y_train = data_preparation(X, X[:,1], 0, TRAIN_SPLIT,\n",
    "                                           past_history,\n",
    "                                           future_target, STEP)\n",
    "x_val, y_val = data_preparation(X, X[:,1], TRAIN_SPLIT, None,\n",
    "                                       past_history,\n",
    "                                       future_target, STEP)"
   ]
  },
  {
   "cell_type": "code",
   "execution_count": 62,
   "metadata": {},
   "outputs": [
    {
     "name": "stdout",
     "output_type": "stream",
     "text": [
      "shape of x_train: (8882, 180, 8)\n",
      "shape of y_train: (8882, 30)\n",
      "shape of x_val, (797, 180, 8)\n",
      "shape of y_val: (797, 30)\n"
     ]
    }
   ],
   "source": [
    "# StandardScaler transformation of the dataset\n",
    "\n",
    "\n",
    "# Creating proper format data\n",
    "\n",
    "x_train, y_train = data_preparation(X, X[:,1], 0, TRAIN_SPLIT,\n",
    "                                           past_history,\n",
    "                                           future_target, STEP)\n",
    "x_val, y_val = data_preparation(X, X[:,1], TRAIN_SPLIT, None,\n",
    "                                       past_history,\n",
    "                                       future_target, STEP)\n",
    "\n",
    "# Creating format for NN intput\n",
    "\n",
    "x_train = x_train.reshape(x_train.shape[0], x_train.shape[1], x_train.shape[2])\n",
    "x_val = x_val.reshape(x_val.shape[0], x_val.shape[1], x_val.shape[2])\n",
    "\n",
    "# Creating batches for tensorflow use\n",
    "\n",
    "train_data = tf.data.Dataset.from_tensor_slices((x_train, y_train))\n",
    "train_data = train_data.cache().shuffle(BUFFER_SIZE).batch(BATCH_SIZE).repeat()\n",
    "\n",
    "val_data = tf.data.Dataset.from_tensor_slices((x_val, y_val))\n",
    "val_data = val_data.batch(BATCH_SIZE).repeat()\n",
    "\n",
    "print('shape of x_train:', x_train.shape)\n",
    "print('shape of y_train:', y_train.shape)\n",
    "print('shape of x_val,', x_val.shape)\n",
    "print('shape of y_val:', y_val.shape)"
   ]
  },
  {
   "cell_type": "code",
   "execution_count": 80,
   "metadata": {},
   "outputs": [
    {
     "data": {
      "text/plain": [
       "array([ 1.        ,  0.        ,  0.        ,  0.        ,  0.        ,\n",
       "        0.        , -1.00763408,  1.00763408])"
      ]
     },
     "execution_count": 80,
     "metadata": {},
     "output_type": "execute_result"
    }
   ],
   "source": [
    "X[0]"
   ]
  },
  {
   "cell_type": "code",
   "execution_count": 63,
   "metadata": {},
   "outputs": [
    {
     "name": "stdout",
     "output_type": "stream",
     "text": [
      "Shape of input train data\n",
      "(32, 180, 8)\n",
      "\n",
      " Shape of test train data\n",
      "(32, 30)\n",
      "\n",
      "Shape of input val data\n",
      "(32, 180, 8)\n",
      "\n",
      " Shape of test val data\n",
      "(32, 30)\n"
     ]
    }
   ],
   "source": [
    "for x, y in train_data.take(1):\n",
    "    print ('Shape of input train data')\n",
    "    print (x.shape)\n",
    "    print ('\\n Shape of test train data')\n",
    "    print (y.shape)   \n",
    "    print()\n",
    "    \n",
    "for x, y in val_data.take(1):\n",
    "    print ('Shape of input val data')\n",
    "    print (x.shape)\n",
    "    print ('\\n Shape of test val data')\n",
    "    print (y.shape)    "
   ]
  },
  {
   "cell_type": "markdown",
   "metadata": {},
   "source": [
    "# Modeling"
   ]
  },
  {
   "cell_type": "markdown",
   "metadata": {},
   "source": [
    "multi_step_model = tf.keras.models.Sequential()\n",
    "multi_step_model.add(tf.keras.layers.LSTM(32,\n",
    "                                          return_sequences=True,\n",
    "                                          input_shape=x_train.shape[-2:]))\n",
    "multi_step_model.add(tf.keras.layers.LSTM(32, activation='relu'))\n",
    "multi_step_model.add(tf.keras.layers.Dense(30))\n",
    "\n",
    "multi_step_model.compile(optimizer=tf.keras.optimizers.RMSprop(clipvalue=1.0), loss='mae')"
   ]
  },
  {
   "cell_type": "code",
   "execution_count": 64,
   "metadata": {},
   "outputs": [
    {
     "name": "stdout",
     "output_type": "stream",
     "text": [
      "Model: \"sequential_1\"\n",
      "_________________________________________________________________\n",
      "Layer (type)                 Output Shape              Param #   \n",
      "=================================================================\n",
      "lstm_2 (LSTM)                (None, 180, 32)           5248      \n",
      "_________________________________________________________________\n",
      "lstm_3 (LSTM)                (None, 8)                 1312      \n",
      "_________________________________________________________________\n",
      "dense_1 (Dense)              (None, 30)                270       \n",
      "=================================================================\n",
      "Total params: 6,830\n",
      "Trainable params: 6,830\n",
      "Non-trainable params: 0\n",
      "_________________________________________________________________\n",
      "\n",
      "Shape of input train data\n",
      "(8882, 180, 8)\n",
      "\n",
      " Shape of test train data\n",
      "(8882, 30)\n",
      "\n",
      " Shape of test train data\n",
      "(32, 30)\n"
     ]
    }
   ],
   "source": [
    "multivariate_lstm_model = tf.keras.models.Sequential([\n",
    "    tf.keras.layers.LSTM(BATCH_SIZE, return_sequences=True,input_shape=x_train.shape[-2:]),\n",
    "    tf.keras.layers.LSTM(8, activation='relu'),\n",
    "    tf.keras.layers.Dense(future_target)\n",
    "])\n",
    "\n",
    "multivariate_lstm_model.compile(optimizer='adam', loss='mae')\n",
    "\n",
    "multivariate_lstm_model.summary()\n",
    "\n",
    "print()\n",
    "\n",
    "for x, y in train_data.take(1):\n",
    "    print ('Shape of input train data')\n",
    "    print (x_train.shape)\n",
    "    print ('\\n Shape of test train data')\n",
    "    print (y_train.shape)   \n",
    "    print ('\\n Shape of test train data')\n",
    "    print (multivariate_lstm_model.predict(x).shape)"
   ]
  },
  {
   "cell_type": "markdown",
   "metadata": {},
   "source": [
    "multi_step_model.summary()"
   ]
  },
  {
   "cell_type": "markdown",
   "metadata": {},
   "source": [
    "EPOCHS = 1\n",
    "EVALUATION_INTERVAL = 200\n",
    "\n",
    "multi_step_model = multi_step_model.fit(train_data, epochs=EPOCHS,\n",
    "                                            steps_per_epoch=EVALUATION_INTERVAL,\n",
    "                                            validation_data=val_data,\n",
    "                                            validation_steps=2)"
   ]
  },
  {
   "cell_type": "code",
   "execution_count": 71,
   "metadata": {
    "scrolled": true
   },
   "outputs": [
    {
     "name": "stdout",
     "output_type": "stream",
     "text": [
      "Train for 200 steps, validate for 200 steps\n",
      "Epoch 1/3\n",
      "200/200 [==============================] - 29s 146ms/step - loss: 0.0059 - val_loss: 0.0477\n",
      "Epoch 2/3\n",
      "200/200 [==============================] - 28s 142ms/step - loss: 0.0060 - val_loss: 0.0459\n",
      "Epoch 3/3\n",
      "200/200 [==============================] - 28s 142ms/step - loss: 0.0064 - val_loss: 0.0496\n"
     ]
    }
   ],
   "source": [
    "EPOCHS =3\n",
    "EVALUATION_INTERVAL = 200\n",
    "\n",
    "multivariate_lstm_model_history = multivariate_lstm_model.fit(train_data, epochs=EPOCHS,\n",
    "                                            steps_per_epoch=EVALUATION_INTERVAL,\n",
    "                                            validation_data=val_data,\n",
    "                                            validation_steps=200)\n"
   ]
  },
  {
   "cell_type": "markdown",
   "metadata": {},
   "source": [
    "# C - Visualization"
   ]
  },
  {
   "cell_type": "code",
   "execution_count": 72,
   "metadata": {},
   "outputs": [],
   "source": [
    "def plot_train_history(history, title):\n",
    "    loss = history.history['loss']\n",
    "    val_loss = history.history['val_loss']\n",
    "\n",
    "    epochs = range(len(loss))\n",
    "\n",
    "    plt.figure()\n",
    "\n",
    "    plt.plot(epochs, loss, 'b', label='Training loss')\n",
    "    plt.plot(epochs, val_loss, 'r', label='Validation loss')\n",
    "    plt.title(title)\n",
    "    plt.legend()\n",
    "\n",
    "    plt.show()"
   ]
  },
  {
   "cell_type": "code",
   "execution_count": 73,
   "metadata": {},
   "outputs": [
    {
     "data": {
      "image/png": "[encoded data removed]",
      "text/plain": [
       "<Figure size 432x288 with 1 Axes>"
      ]
     },
     "metadata": {
      "needs_background": "light"
     },
     "output_type": "display_data"
    }
   ],
   "source": [
    "plot_train_history(multivariate_lstm_model_history, 'Multi-Step Training and validation loss')"
   ]
  },
  {
   "cell_type": "code",
   "execution_count": 74,
   "metadata": {},
   "outputs": [],
   "source": [
    "def create_time_steps(length):\n",
    "    return list(range(-length, 0))"
   ]
  },
  {
   "cell_type": "code",
   "execution_count": 75,
   "metadata": {},
   "outputs": [],
   "source": [
    "def multi_step_plot(history, true_future, prediction):\n",
    "    plt.figure(figsize=(15, 5))\n",
    "    num_in = create_time_steps(len(history))\n",
    "    num_out = len(true_future)\n",
    "    plt.plot(num_in, feature_encoder.transformers_[1][1].inverse_transform(history[:,-2:])[:,-1:], label='History')\n",
    "    \n",
    "    temp_true_future = np.concatenate((np.array(true_future).reshape(30,1), np.array(true_future).reshape(30,1)),axis=1)\n",
    "    plt.plot(np.arange(num_out)/STEP, feature_encoder.transformers_[1][1].inverse_transform(temp_true_future)[:,-1:], \n",
    "             label='True Future')\n",
    "    \n",
    "    if prediction.any():\n",
    "        temp_prediction = np.concatenate((np.array(prediction).reshape(30,1), np.array(prediction).reshape(30,1)),axis=1)\n",
    "        plt.plot(np.arange(num_out)/STEP, feature_encoder.transformers_[1][1].inverse_transform(temp_prediction)[:,-1:], \n",
    "               label='Predicted Future')\n",
    "    plt.legend(loc='upper left')\n",
    "\n",
    "    \n",
    "    x1, y1 = [0,0], [0, 25]\n",
    "    ax = plt.plot(x1, y1, linestyle=\"dashdot\", color=\"black\")\n",
    "    plt.show()"
   ]
  },
  {
   "cell_type": "code",
   "execution_count": null,
   "metadata": {},
   "outputs": [],
   "source": []
  },
  {
   "cell_type": "code",
   "execution_count": null,
   "metadata": {},
   "outputs": [],
   "source": []
  },
  {
   "cell_type": "code",
   "execution_count": 76,
   "metadata": {},
   "outputs": [],
   "source": [
    "for x, y in val_data.take(1):\n",
    "    history = x[0]"
   ]
  },
  {
   "cell_type": "code",
   "execution_count": 77,
   "metadata": {},
   "outputs": [
    {
     "data": {
      "text/html": [
       "<div>\n",
       "<style scoped>\n",
       "    .dataframe tbody tr th:only-of-type {\n",
       "        vertical-align: middle;\n",
       "    }\n",
       "\n",
       "    .dataframe tbody tr th {\n",
       "        vertical-align: top;\n",
       "    }\n",
       "\n",
       "    .dataframe thead th {\n",
       "        text-align: right;\n",
       "    }\n",
       "</style>\n",
       "<table border=\"1\" class=\"dataframe\">\n",
       "  <thead>\n",
       "    <tr style=\"text-align: right;\">\n",
       "      <th></th>\n",
       "      <th>weekday</th>\n",
       "      <th>nb_total_free_bikes</th>\n",
       "      <th>nb_free_docks</th>\n",
       "    </tr>\n",
       "    <tr>\n",
       "      <th>date_of_update</th>\n",
       "      <th></th>\n",
       "      <th></th>\n",
       "      <th></th>\n",
       "    </tr>\n",
       "  </thead>\n",
       "  <tbody>\n",
       "    <tr>\n",
       "      <th>2020-05-05 00:01:00</th>\n",
       "      <td>1</td>\n",
       "      <td>2</td>\n",
       "      <td>20</td>\n",
       "    </tr>\n",
       "    <tr>\n",
       "      <th>2020-05-05 00:02:00</th>\n",
       "      <td>1</td>\n",
       "      <td>2</td>\n",
       "      <td>20</td>\n",
       "    </tr>\n",
       "    <tr>\n",
       "      <th>2020-05-05 00:03:00</th>\n",
       "      <td>1</td>\n",
       "      <td>2</td>\n",
       "      <td>20</td>\n",
       "    </tr>\n",
       "    <tr>\n",
       "      <th>2020-05-05 00:04:00</th>\n",
       "      <td>1</td>\n",
       "      <td>2</td>\n",
       "      <td>20</td>\n",
       "    </tr>\n",
       "    <tr>\n",
       "      <th>2020-05-05 00:05:00</th>\n",
       "      <td>1</td>\n",
       "      <td>2</td>\n",
       "      <td>20</td>\n",
       "    </tr>\n",
       "    <tr>\n",
       "      <th>...</th>\n",
       "      <td>...</td>\n",
       "      <td>...</td>\n",
       "      <td>...</td>\n",
       "    </tr>\n",
       "    <tr>\n",
       "      <th>2020-05-11 23:56:00</th>\n",
       "      <td>0</td>\n",
       "      <td>0</td>\n",
       "      <td>22</td>\n",
       "    </tr>\n",
       "    <tr>\n",
       "      <th>2020-05-11 23:57:00</th>\n",
       "      <td>0</td>\n",
       "      <td>0</td>\n",
       "      <td>22</td>\n",
       "    </tr>\n",
       "    <tr>\n",
       "      <th>2020-05-11 23:58:00</th>\n",
       "      <td>0</td>\n",
       "      <td>0</td>\n",
       "      <td>22</td>\n",
       "    </tr>\n",
       "    <tr>\n",
       "      <th>2020-05-11 23:59:00</th>\n",
       "      <td>0</td>\n",
       "      <td>0</td>\n",
       "      <td>22</td>\n",
       "    </tr>\n",
       "    <tr>\n",
       "      <th>2020-05-12 00:00:00</th>\n",
       "      <td>1</td>\n",
       "      <td>0</td>\n",
       "      <td>22</td>\n",
       "    </tr>\n",
       "  </tbody>\n",
       "</table>\n",
       "<p>10069 rows × 3 columns</p>\n",
       "</div>"
      ],
      "text/plain": [
       "                    weekday  nb_total_free_bikes  nb_free_docks\n",
       "date_of_update                                                 \n",
       "2020-05-05 00:01:00       1                    2             20\n",
       "2020-05-05 00:02:00       1                    2             20\n",
       "2020-05-05 00:03:00       1                    2             20\n",
       "2020-05-05 00:04:00       1                    2             20\n",
       "2020-05-05 00:05:00       1                    2             20\n",
       "...                     ...                  ...            ...\n",
       "2020-05-11 23:56:00       0                    0             22\n",
       "2020-05-11 23:57:00       0                    0             22\n",
       "2020-05-11 23:58:00       0                    0             22\n",
       "2020-05-11 23:59:00       0                    0             22\n",
       "2020-05-12 00:00:00       1                    0             22\n",
       "\n",
       "[10069 rows x 3 columns]"
      ]
     },
     "execution_count": 77,
     "metadata": {},
     "output_type": "execute_result"
    }
   ],
   "source": [
    "df"
   ]
  },
  {
   "cell_type": "code",
   "execution_count": 78,
   "metadata": {},
   "outputs": [
    {
     "data": {
      "text/plain": [
       "<tf.Tensor: shape=(180, 2), dtype=float64, numpy=\n",
       "array([[ 0.40450597, -0.40450597],\n",
       "       [ 0.40450597, -0.40450597],\n",
       "       [ 0.40450597, -0.40450597],\n",
       "       [ 0.40450597, -0.40450597],\n",
       "       [ 0.40450597, -0.40450597],\n",
       "       [ 0.40450597, -0.40450597],\n",
       "       [ 0.40450597, -0.40450597],\n",
       "       [ 0.40450597, -0.40450597],\n",
       "       [ 0.40450597, -0.40450597],\n",
       "       [ 0.40450597, -0.40450597],\n",
       "       [ 0.40450597, -0.40450597],\n",
       "       [ 0.40450597, -0.40450597],\n",
       "       [ 0.40450597, -0.40450597],\n",
       "       [ 0.40450597, -0.40450597],\n",
       "       [ 0.40450597, -0.40450597],\n",
       "       [ 0.40450597, -0.40450597],\n",
       "       [ 0.40450597, -0.40450597],\n",
       "       [ 0.40450597, -0.40450597],\n",
       "       [ 0.40450597, -0.40450597],\n",
       "       [ 0.40450597, -0.40450597],\n",
       "       [ 0.40450597, -0.40450597],\n",
       "       [ 0.40450597, -0.40450597],\n",
       "       [ 0.40450597, -0.40450597],\n",
       "       [ 0.40450597, -0.40450597],\n",
       "       [ 0.40450597, -0.40450597],\n",
       "       [ 0.40450597, -0.40450597],\n",
       "       [ 0.40450597, -0.40450597],\n",
       "       [ 0.40450597, -0.40450597],\n",
       "       [ 0.40450597, -0.40450597],\n",
       "       [ 0.40450597, -0.40450597],\n",
       "       [ 0.68693399, -0.68693399],\n",
       "       [ 0.68693399, -0.68693399],\n",
       "       [ 0.68693399, -0.68693399],\n",
       "       [ 0.68693399, -0.68693399],\n",
       "       [ 0.68693399, -0.68693399],\n",
       "       [ 0.68693399, -0.68693399],\n",
       "       [ 0.68693399, -0.68693399],\n",
       "       [ 0.68693399, -0.68693399],\n",
       "       [ 0.68693399, -0.68693399],\n",
       "       [ 0.68693399, -0.68693399],\n",
       "       [ 0.68693399, -0.68693399],\n",
       "       [ 0.68693399, -0.68693399],\n",
       "       [ 0.68693399, -0.68693399],\n",
       "       [ 0.68693399, -0.68693399],\n",
       "       [ 0.68693399, -0.68693399],\n",
       "       [ 0.68693399, -0.68693399],\n",
       "       [ 0.68693399, -0.68693399],\n",
       "       [ 0.68693399, -0.68693399],\n",
       "       [ 0.68693399, -0.68693399],\n",
       "       [ 0.68693399, -0.68693399],\n",
       "       [ 0.68693399, -0.68693399],\n",
       "       [ 0.68693399, -0.68693399],\n",
       "       [ 0.68693399, -0.68693399],\n",
       "       [ 0.68693399, -0.68693399],\n",
       "       [ 0.68693399, -0.68693399],\n",
       "       [ 0.68693399, -0.68693399],\n",
       "       [ 0.68693399, -0.68693399],\n",
       "       [ 0.68693399, -0.68693399],\n",
       "       [ 0.68693399, -0.68693399],\n",
       "       [ 0.68693399, -0.68693399],\n",
       "       [ 0.68693399, -0.68693399],\n",
       "       [ 0.68693399, -0.68693399],\n",
       "       [ 0.68693399, -0.68693399],\n",
       "       [ 0.68693399, -0.68693399],\n",
       "       [ 0.68693399, -0.68693399],\n",
       "       [ 0.68693399, -0.68693399],\n",
       "       [ 0.68693399, -0.68693399],\n",
       "       [ 0.68693399, -0.68693399],\n",
       "       [ 0.68693399, -0.68693399],\n",
       "       [ 0.68693399, -0.68693399],\n",
       "       [ 0.68693399, -0.68693399],\n",
       "       [ 0.68693399, -0.68693399],\n",
       "       [ 0.969362  , -0.969362  ],\n",
       "       [ 0.969362  , -0.969362  ],\n",
       "       [ 1.25179001, -1.25179001],\n",
       "       [ 1.25179001, -1.25179001],\n",
       "       [ 1.25179001, -1.25179001],\n",
       "       [ 1.25179001, -1.25179001],\n",
       "       [ 1.25179001, -1.25179001],\n",
       "       [ 1.25179001, -1.25179001],\n",
       "       [ 1.25179001, -1.25179001],\n",
       "       [ 1.25179001, -1.25179001],\n",
       "       [ 1.25179001, -1.25179001],\n",
       "       [ 0.969362  , -0.969362  ],\n",
       "       [ 0.969362  , -0.969362  ],\n",
       "       [ 0.969362  , -0.969362  ],\n",
       "       [ 0.969362  , -0.969362  ],\n",
       "       [ 0.969362  , -0.969362  ],\n",
       "       [ 0.969362  , -0.969362  ],\n",
       "       [ 0.969362  , -0.969362  ],\n",
       "       [ 0.969362  , -0.969362  ],\n",
       "       [ 0.969362  , -0.969362  ],\n",
       "       [ 0.969362  , -0.969362  ],\n",
       "       [ 1.25179001, -1.25179001],\n",
       "       [ 1.25179001, -1.25179001],\n",
       "       [ 1.25179001, -1.25179001],\n",
       "       [ 1.53421802, -1.53421802],\n",
       "       [ 1.53421802, -1.53421802],\n",
       "       [ 1.53421802, -1.53421802],\n",
       "       [ 1.81664603, -1.81664603],\n",
       "       [ 1.81664603, -1.81664603],\n",
       "       [ 1.81664603, -1.81664603],\n",
       "       [ 1.81664603, -1.81664603],\n",
       "       [ 1.81664603, -1.81664603],\n",
       "       [ 1.53421802, -1.53421802],\n",
       "       [ 1.81664603, -1.81664603],\n",
       "       [ 1.81664603, -1.81664603],\n",
       "       [ 1.81664603, -1.81664603],\n",
       "       [ 1.81664603, -1.81664603],\n",
       "       [ 2.09907404, -2.09907404],\n",
       "       [ 2.09907404, -2.09907404],\n",
       "       [ 2.09907404, -2.09907404],\n",
       "       [ 2.09907404, -2.09907404],\n",
       "       [ 2.09907404, -2.09907404],\n",
       "       [ 2.09907404, -2.09907404],\n",
       "       [ 2.09907404, -2.09907404],\n",
       "       [ 2.09907404, -2.09907404],\n",
       "       [ 2.09907404, -2.09907404],\n",
       "       [ 2.09907404, -2.09907404],\n",
       "       [ 2.09907404, -2.09907404],\n",
       "       [ 2.09907404, -2.09907404],\n",
       "       [ 2.09907404, -2.09907404],\n",
       "       [ 2.09907404, -2.09907404],\n",
       "       [ 2.09907404, -2.09907404],\n",
       "       [ 2.09907404, -2.09907404],\n",
       "       [ 2.09907404, -2.09907404],\n",
       "       [ 2.09907404, -2.09907404],\n",
       "       [ 2.09907404, -2.09907404],\n",
       "       [ 2.09907404, -2.09907404],\n",
       "       [ 2.09907404, -2.09907404],\n",
       "       [ 2.09907404, -2.09907404],\n",
       "       [ 2.38150205, -2.38150205],\n",
       "       [ 2.09907404, -2.09907404],\n",
       "       [ 2.38150205, -2.38150205],\n",
       "       [ 2.38150205, -2.38150205],\n",
       "       [ 2.38150205, -2.38150205],\n",
       "       [ 2.38150205, -2.38150205],\n",
       "       [ 2.38150205, -2.38150205],\n",
       "       [ 2.38150205, -2.38150205],\n",
       "       [ 2.38150205, -2.38150205],\n",
       "       [ 2.38150205, -2.38150205],\n",
       "       [ 2.38150205, -2.38150205],\n",
       "       [ 2.38150205, -2.38150205],\n",
       "       [ 2.38150205, -2.38150205],\n",
       "       [ 2.38150205, -2.38150205],\n",
       "       [ 2.38150205, -2.38150205],\n",
       "       [ 2.38150205, -2.38150205],\n",
       "       [ 2.38150205, -2.38150205],\n",
       "       [ 2.38150205, -2.38150205],\n",
       "       [ 2.38150205, -2.38150205],\n",
       "       [ 2.38150205, -2.38150205],\n",
       "       [ 2.66393006, -2.66393006],\n",
       "       [ 2.66393006, -2.66393006],\n",
       "       [ 2.66393006, -2.66393006],\n",
       "       [ 2.66393006, -2.66393006],\n",
       "       [ 2.66393006, -2.66393006],\n",
       "       [ 2.66393006, -2.66393006],\n",
       "       [ 2.66393006, -2.66393006],\n",
       "       [ 2.66393006, -2.66393006],\n",
       "       [ 2.66393006, -2.66393006],\n",
       "       [ 2.66393006, -2.66393006],\n",
       "       [ 2.94635807, -2.94635807],\n",
       "       [ 2.94635807, -2.94635807],\n",
       "       [ 3.22878608, -3.22878608],\n",
       "       [ 3.22878608, -3.22878608],\n",
       "       [ 3.22878608, -3.22878608],\n",
       "       [ 3.22878608, -3.22878608],\n",
       "       [ 3.22878608, -3.22878608],\n",
       "       [ 3.22878608, -3.22878608],\n",
       "       [ 3.22878608, -3.22878608],\n",
       "       [ 3.22878608, -3.22878608],\n",
       "       [ 3.22878608, -3.22878608],\n",
       "       [ 3.51121409, -3.51121409],\n",
       "       [ 3.51121409, -3.51121409],\n",
       "       [ 3.51121409, -3.51121409],\n",
       "       [ 3.51121409, -3.51121409],\n",
       "       [ 3.51121409, -3.51121409],\n",
       "       [ 3.51121409, -3.51121409],\n",
       "       [ 3.51121409, -3.51121409],\n",
       "       [ 3.51121409, -3.51121409]])>"
      ]
     },
     "execution_count": 78,
     "metadata": {},
     "output_type": "execute_result"
    }
   ],
   "source": [
    "history[:,-2:]"
   ]
  },
  {
   "cell_type": "code",
   "execution_count": 43,
   "metadata": {},
   "outputs": [
    {
     "data": {
      "text/plain": [
       "array([[15.],\n",
       "       [15.],\n",
       "       [15.],\n",
       "       [15.],\n",
       "       [15.],\n",
       "       [15.],\n",
       "       [15.],\n",
       "       [15.],\n",
       "       [15.],\n",
       "       [15.],\n",
       "       [15.],\n",
       "       [15.],\n",
       "       [15.],\n",
       "       [15.],\n",
       "       [15.],\n",
       "       [15.],\n",
       "       [15.],\n",
       "       [15.],\n",
       "       [15.],\n",
       "       [15.],\n",
       "       [15.],\n",
       "       [15.],\n",
       "       [15.],\n",
       "       [15.],\n",
       "       [15.],\n",
       "       [15.],\n",
       "       [15.],\n",
       "       [15.],\n",
       "       [15.],\n",
       "       [15.],\n",
       "       [14.],\n",
       "       [14.],\n",
       "       [14.],\n",
       "       [14.],\n",
       "       [14.],\n",
       "       [14.],\n",
       "       [14.],\n",
       "       [14.],\n",
       "       [14.],\n",
       "       [14.],\n",
       "       [14.],\n",
       "       [14.],\n",
       "       [14.],\n",
       "       [14.],\n",
       "       [14.],\n",
       "       [14.],\n",
       "       [14.],\n",
       "       [14.],\n",
       "       [14.],\n",
       "       [14.],\n",
       "       [14.],\n",
       "       [14.],\n",
       "       [14.],\n",
       "       [14.],\n",
       "       [14.],\n",
       "       [14.],\n",
       "       [14.],\n",
       "       [14.],\n",
       "       [14.],\n",
       "       [14.],\n",
       "       [14.],\n",
       "       [14.],\n",
       "       [14.],\n",
       "       [14.],\n",
       "       [14.],\n",
       "       [14.],\n",
       "       [14.],\n",
       "       [14.],\n",
       "       [14.],\n",
       "       [14.],\n",
       "       [14.],\n",
       "       [14.],\n",
       "       [13.],\n",
       "       [13.],\n",
       "       [12.],\n",
       "       [12.],\n",
       "       [12.],\n",
       "       [12.],\n",
       "       [12.],\n",
       "       [12.],\n",
       "       [12.],\n",
       "       [12.],\n",
       "       [12.],\n",
       "       [13.],\n",
       "       [13.],\n",
       "       [13.],\n",
       "       [13.],\n",
       "       [13.],\n",
       "       [13.],\n",
       "       [13.],\n",
       "       [13.],\n",
       "       [13.],\n",
       "       [13.],\n",
       "       [12.],\n",
       "       [12.],\n",
       "       [12.],\n",
       "       [11.],\n",
       "       [11.],\n",
       "       [11.],\n",
       "       [10.],\n",
       "       [10.],\n",
       "       [10.],\n",
       "       [10.],\n",
       "       [10.],\n",
       "       [11.],\n",
       "       [10.],\n",
       "       [10.],\n",
       "       [10.],\n",
       "       [10.],\n",
       "       [ 9.],\n",
       "       [ 9.],\n",
       "       [ 9.],\n",
       "       [ 9.],\n",
       "       [ 9.],\n",
       "       [ 9.],\n",
       "       [ 9.],\n",
       "       [ 9.],\n",
       "       [ 9.],\n",
       "       [ 9.],\n",
       "       [ 9.],\n",
       "       [ 9.],\n",
       "       [ 9.],\n",
       "       [ 9.],\n",
       "       [ 9.],\n",
       "       [ 9.],\n",
       "       [ 9.],\n",
       "       [ 9.],\n",
       "       [ 9.],\n",
       "       [ 9.],\n",
       "       [ 9.],\n",
       "       [ 9.],\n",
       "       [ 8.],\n",
       "       [ 9.],\n",
       "       [ 8.],\n",
       "       [ 8.],\n",
       "       [ 8.],\n",
       "       [ 8.],\n",
       "       [ 8.],\n",
       "       [ 8.],\n",
       "       [ 8.],\n",
       "       [ 8.],\n",
       "       [ 8.],\n",
       "       [ 8.],\n",
       "       [ 8.],\n",
       "       [ 8.],\n",
       "       [ 8.],\n",
       "       [ 8.],\n",
       "       [ 8.],\n",
       "       [ 8.],\n",
       "       [ 8.],\n",
       "       [ 8.],\n",
       "       [ 7.],\n",
       "       [ 7.],\n",
       "       [ 7.],\n",
       "       [ 7.],\n",
       "       [ 7.],\n",
       "       [ 7.],\n",
       "       [ 7.],\n",
       "       [ 7.],\n",
       "       [ 7.],\n",
       "       [ 7.],\n",
       "       [ 6.],\n",
       "       [ 6.],\n",
       "       [ 5.],\n",
       "       [ 5.],\n",
       "       [ 5.],\n",
       "       [ 5.],\n",
       "       [ 5.],\n",
       "       [ 5.],\n",
       "       [ 5.],\n",
       "       [ 5.],\n",
       "       [ 5.],\n",
       "       [ 4.],\n",
       "       [ 4.],\n",
       "       [ 4.],\n",
       "       [ 4.],\n",
       "       [ 4.],\n",
       "       [ 4.],\n",
       "       [ 4.],\n",
       "       [ 4.]])"
      ]
     },
     "execution_count": 43,
     "metadata": {},
     "output_type": "execute_result"
    }
   ],
   "source": [
    "feature_encoder.transformers_[1][1].inverse_transform(history[:,-2:])[:,-1:]"
   ]
  },
  {
   "cell_type": "markdown",
   "metadata": {},
   "source": [
    "## III . Results"
   ]
  },
  {
   "cell_type": "code",
   "execution_count": 30,
   "metadata": {
    "scrolled": true
   },
   "outputs": [
    {
     "ename": "ValueError",
     "evalue": "non-broadcastable output operand with shape (180,1) doesn't match the broadcast shape (180,2)",
     "output_type": "error",
     "traceback": [
      "\u001b[0;31m---------------------------------------------------------------------------\u001b[0m",
      "\u001b[0;31mValueError\u001b[0m                                Traceback (most recent call last)",
      "\u001b[0;32m<ipython-input-30-a5a50ed4b171>\u001b[0m in \u001b[0;36m<module>\u001b[0;34m\u001b[0m\n\u001b[1;32m      1\u001b[0m \u001b[0;32mfor\u001b[0m \u001b[0mx\u001b[0m\u001b[0;34m,\u001b[0m \u001b[0my\u001b[0m \u001b[0;32min\u001b[0m \u001b[0mval_data\u001b[0m\u001b[0;34m.\u001b[0m\u001b[0mtake\u001b[0m\u001b[0;34m(\u001b[0m\u001b[0;36m1\u001b[0m\u001b[0;34m)\u001b[0m\u001b[0;34m:\u001b[0m\u001b[0;34m\u001b[0m\u001b[0;34m\u001b[0m\u001b[0m\n\u001b[0;32m----> 2\u001b[0;31m     \u001b[0mmulti_step_plot\u001b[0m\u001b[0;34m(\u001b[0m\u001b[0mx\u001b[0m\u001b[0;34m[\u001b[0m\u001b[0;36m0\u001b[0m\u001b[0;34m]\u001b[0m\u001b[0;34m,\u001b[0m \u001b[0my\u001b[0m\u001b[0;34m[\u001b[0m\u001b[0;36m0\u001b[0m\u001b[0;34m]\u001b[0m\u001b[0;34m,\u001b[0m \u001b[0mmultivariate_lstm_model\u001b[0m\u001b[0;34m.\u001b[0m\u001b[0mpredict\u001b[0m\u001b[0;34m(\u001b[0m\u001b[0mx\u001b[0m\u001b[0;34m)\u001b[0m\u001b[0;34m[\u001b[0m\u001b[0;36m0\u001b[0m\u001b[0;34m]\u001b[0m\u001b[0;34m)\u001b[0m\u001b[0;34m\u001b[0m\u001b[0;34m\u001b[0m\u001b[0m\n\u001b[0m",
      "\u001b[0;32m<ipython-input-29-eb1df4cdfda0>\u001b[0m in \u001b[0;36mmulti_step_plot\u001b[0;34m(history, true_future, prediction)\u001b[0m\n\u001b[1;32m      3\u001b[0m     \u001b[0mnum_in\u001b[0m \u001b[0;34m=\u001b[0m \u001b[0mcreate_time_steps\u001b[0m\u001b[0;34m(\u001b[0m\u001b[0mlen\u001b[0m\u001b[0;34m(\u001b[0m\u001b[0mhistory\u001b[0m\u001b[0;34m)\u001b[0m\u001b[0;34m)\u001b[0m\u001b[0;34m\u001b[0m\u001b[0;34m\u001b[0m\u001b[0m\n\u001b[1;32m      4\u001b[0m     \u001b[0mnum_out\u001b[0m \u001b[0;34m=\u001b[0m \u001b[0mlen\u001b[0m\u001b[0;34m(\u001b[0m\u001b[0mtrue_future\u001b[0m\u001b[0;34m)\u001b[0m\u001b[0;34m\u001b[0m\u001b[0;34m\u001b[0m\u001b[0m\n\u001b[0;32m----> 5\u001b[0;31m     \u001b[0mplt\u001b[0m\u001b[0;34m.\u001b[0m\u001b[0mplot\u001b[0m\u001b[0;34m(\u001b[0m\u001b[0mnum_in\u001b[0m\u001b[0;34m,\u001b[0m \u001b[0mfeature_encoder\u001b[0m\u001b[0;34m.\u001b[0m\u001b[0mtransformers_\u001b[0m\u001b[0;34m[\u001b[0m\u001b[0;36m1\u001b[0m\u001b[0;34m]\u001b[0m\u001b[0;34m[\u001b[0m\u001b[0;36m1\u001b[0m\u001b[0;34m]\u001b[0m\u001b[0;34m.\u001b[0m\u001b[0minverse_transform\u001b[0m\u001b[0;34m(\u001b[0m\u001b[0mhistory\u001b[0m\u001b[0;34m[\u001b[0m\u001b[0;34m:\u001b[0m\u001b[0;34m,\u001b[0m\u001b[0;34m-\u001b[0m\u001b[0;36m1\u001b[0m\u001b[0;34m:\u001b[0m\u001b[0;34m]\u001b[0m\u001b[0;34m)\u001b[0m\u001b[0;34m[\u001b[0m\u001b[0;34m:\u001b[0m\u001b[0;34m,\u001b[0m\u001b[0;34m-\u001b[0m\u001b[0;36m1\u001b[0m\u001b[0;34m:\u001b[0m\u001b[0;34m]\u001b[0m\u001b[0;34m,\u001b[0m \u001b[0mlabel\u001b[0m\u001b[0;34m=\u001b[0m\u001b[0;34m'History'\u001b[0m\u001b[0;34m)\u001b[0m\u001b[0;34m\u001b[0m\u001b[0;34m\u001b[0m\u001b[0m\n\u001b[0m\u001b[1;32m      6\u001b[0m \u001b[0;34m\u001b[0m\u001b[0m\n\u001b[1;32m      7\u001b[0m     \u001b[0mtemp_true_future\u001b[0m \u001b[0;34m=\u001b[0m \u001b[0mnp\u001b[0m\u001b[0;34m.\u001b[0m\u001b[0mconcatenate\u001b[0m\u001b[0;34m(\u001b[0m\u001b[0;34m(\u001b[0m\u001b[0mnp\u001b[0m\u001b[0;34m.\u001b[0m\u001b[0marray\u001b[0m\u001b[0;34m(\u001b[0m\u001b[0mtrue_future\u001b[0m\u001b[0;34m)\u001b[0m\u001b[0;34m.\u001b[0m\u001b[0mreshape\u001b[0m\u001b[0;34m(\u001b[0m\u001b[0;36m30\u001b[0m\u001b[0;34m,\u001b[0m\u001b[0;36m1\u001b[0m\u001b[0;34m)\u001b[0m\u001b[0;34m,\u001b[0m \u001b[0mnp\u001b[0m\u001b[0;34m.\u001b[0m\u001b[0marray\u001b[0m\u001b[0;34m(\u001b[0m\u001b[0mtrue_future\u001b[0m\u001b[0;34m)\u001b[0m\u001b[0;34m.\u001b[0m\u001b[0mreshape\u001b[0m\u001b[0;34m(\u001b[0m\u001b[0;36m30\u001b[0m\u001b[0;34m,\u001b[0m\u001b[0;36m1\u001b[0m\u001b[0;34m)\u001b[0m\u001b[0;34m)\u001b[0m\u001b[0;34m,\u001b[0m\u001b[0maxis\u001b[0m\u001b[0;34m=\u001b[0m\u001b[0;36m1\u001b[0m\u001b[0;34m)\u001b[0m\u001b[0;34m\u001b[0m\u001b[0;34m\u001b[0m\u001b[0m\n",
      "\u001b[0;32m~/anaconda3/envs/tensorflowenv/lib/python3.7/site-packages/sklearn/preprocessing/_data.py\u001b[0m in \u001b[0;36minverse_transform\u001b[0;34m(self, X, copy)\u001b[0m\n\u001b[1;32m    844\u001b[0m                 \u001b[0mX\u001b[0m \u001b[0;34m=\u001b[0m \u001b[0mX\u001b[0m\u001b[0;34m.\u001b[0m\u001b[0mcopy\u001b[0m\u001b[0;34m(\u001b[0m\u001b[0;34m)\u001b[0m\u001b[0;34m\u001b[0m\u001b[0;34m\u001b[0m\u001b[0m\n\u001b[1;32m    845\u001b[0m             \u001b[0;32mif\u001b[0m \u001b[0mself\u001b[0m\u001b[0;34m.\u001b[0m\u001b[0mwith_std\u001b[0m\u001b[0;34m:\u001b[0m\u001b[0;34m\u001b[0m\u001b[0;34m\u001b[0m\u001b[0m\n\u001b[0;32m--> 846\u001b[0;31m                 \u001b[0mX\u001b[0m \u001b[0;34m*=\u001b[0m \u001b[0mself\u001b[0m\u001b[0;34m.\u001b[0m\u001b[0mscale_\u001b[0m\u001b[0;34m\u001b[0m\u001b[0;34m\u001b[0m\u001b[0m\n\u001b[0m\u001b[1;32m    847\u001b[0m             \u001b[0;32mif\u001b[0m \u001b[0mself\u001b[0m\u001b[0;34m.\u001b[0m\u001b[0mwith_mean\u001b[0m\u001b[0;34m:\u001b[0m\u001b[0;34m\u001b[0m\u001b[0;34m\u001b[0m\u001b[0m\n\u001b[1;32m    848\u001b[0m                 \u001b[0mX\u001b[0m \u001b[0;34m+=\u001b[0m \u001b[0mself\u001b[0m\u001b[0;34m.\u001b[0m\u001b[0mmean_\u001b[0m\u001b[0;34m\u001b[0m\u001b[0;34m\u001b[0m\u001b[0m\n",
      "\u001b[0;31mValueError\u001b[0m: non-broadcastable output operand with shape (180,1) doesn't match the broadcast shape (180,2)"
     ]
    },
    {
     "data": {
      "text/plain": [
       "<Figure size 1080x360 with 0 Axes>"
      ]
     },
     "metadata": {},
     "output_type": "display_data"
    }
   ],
   "source": [
    "for x, y in val_data.take(1):\n",
    "    multi_step_plot(x[0], y[0], multivariate_lstm_model.predict(x)[0])"
   ]
  },
  {
   "cell_type": "markdown",
   "metadata": {},
   "source": [
    "## IV. Test with Last Availiable Data"
   ]
  },
  {
   "cell_type": "code",
   "execution_count": null,
   "metadata": {},
   "outputs": [],
   "source": [
    "def last_availiable_data(dataset, past_size, future_size, model):\n",
    "    last_data = dataset[-past_size-future_size:]\n",
    "    past = last_data[:past_size]\n",
    "    future = last_data[-future_size:]\n",
    "    print(past.shape)\n",
    "    print(future[:,-1:].shape)\n",
    "    past = past.reshape(1, past_size, 8)\n",
    "    future = future[:,-1:].reshape(1, future_size)\n",
    "    prediction = model.predict(past)\n",
    "    return past, future, prediction"
   ]
  },
  {
   "cell_type": "code",
   "execution_count": null,
   "metadata": {},
   "outputs": [],
   "source": [
    "history, true_future, prediction = last_availiable_data(df, past_history, future_target, simple_lstm_model)"
   ]
  },
  {
   "cell_type": "code",
   "execution_count": null,
   "metadata": {},
   "outputs": [],
   "source": []
  },
  {
   "cell_type": "code",
   "execution_count": null,
   "metadata": {},
   "outputs": [],
   "source": [
    "feature_encoder?"
   ]
  },
  {
   "cell_type": "code",
   "execution_count": null,
   "metadata": {},
   "outputs": [],
   "source": [
    "prediction_list = np.concatenate((prediction.reshape(-1, 1), prediction.reshape(-1, 1)),axis=1)"
   ]
  },
  {
   "cell_type": "code",
   "execution_count": null,
   "metadata": {},
   "outputs": [],
   "source": [
    "feature_encoder.transformers_[1][1]"
   ]
  },
  {
   "cell_type": "code",
   "execution_count": null,
   "metadata": {},
   "outputs": [],
   "source": [
    "+++++\n",
    "\n",
    "feature_encoder.transformers_[1][1].inverse_transform(prediction_list)[:,-1]"
   ]
  },
  {
   "cell_type": "code",
   "execution_count": null,
   "metadata": {
    "scrolled": true
   },
   "outputs": [],
   "source": [
    "multi_step_plot(history[:,-1:], true_future, prediction)"
   ]
  },
  {
   "cell_type": "markdown",
   "metadata": {},
   "source": [
    "## IV. Prediction future data"
   ]
  },
  {
   "cell_type": "code",
   "execution_count": null,
   "metadata": {},
   "outputs": [],
   "source": [
    "def future_data(dataset, past_size, future_size, model):\n",
    "    last_data = dataset[-past_size:]\n",
    "    past = last_data[:past_size]\n",
    "    past = past.reshape(1, past_size, 1)\n",
    "    prediction = model.predict(past)\n",
    "    # Reshaping of output\n",
    "    past = past.reshape(past_size)\n",
    "    future = np.zeros(future_size)+past[-1:]\n",
    "    prediction = prediction.reshape(future_size)\n",
    "    \n",
    "    return (past, future, prediction)"
   ]
  },
  {
   "cell_type": "code",
   "execution_count": null,
   "metadata": {
    "scrolled": true
   },
   "outputs": [],
   "source": [
    "history, future, prediction = future_data(df, past_history, future_target, simple_lstm_model)"
   ]
  },
  {
   "cell_type": "code",
   "execution_count": null,
   "metadata": {},
   "outputs": [],
   "source": [
    "multi_step_plot(history, future, prediction)"
   ]
  },
  {
   "cell_type": "code",
   "execution_count": null,
   "metadata": {},
   "outputs": [],
   "source": []
  }
 ],
 "metadata": {
  "kernelspec": {
   "display_name": "Python 3",
   "language": "python",
   "name": "python3"
  },
  "language_info": {
   "codemirror_mode": {
    "name": "ipython",
    "version": 3
   },
   "file_extension": ".py",
   "mimetype": "text/x-python",
   "name": "python",
   "nbconvert_exporter": "python",
   "pygments_lexer": "ipython3",
   "version": "3.7.7"
  }
 },
 "nbformat": 4,
 "nbformat_minor": 4
}
