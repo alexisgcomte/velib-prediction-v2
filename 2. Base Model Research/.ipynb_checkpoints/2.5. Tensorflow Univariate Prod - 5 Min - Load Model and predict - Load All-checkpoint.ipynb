{
 "cells": [
  {
   "cell_type": "markdown",
   "metadata": {},
   "source": [
    "# 2. Tensorflow Prophet Testing"
   ]
  },
  {
   "cell_type": "markdown",
   "metadata": {},
   "source": [
    "## I - Setup"
   ]
  },
  {
   "cell_type": "code",
   "execution_count": 72,
   "metadata": {},
   "outputs": [],
   "source": [
    "# Import of librairies\n",
    "import tensorflow as tf\n",
    "import mysql.connector as mariadb\n",
    "import pandas as pd\n",
    "import matplotlib.pyplot as plt\n",
    "import seaborn as sns\n",
    "import numpy as np\n",
    "import datetime\n",
    "import math\n",
    "from sklearn.metrics import mean_squared_error\n",
    "from sklearn.preprocessing import StandardScaler\n",
    "from tensorflow import keras\n",
    "from tqdm import tqdm\n",
    "from joblib import load\n",
    "\n",
    "class sql_query:\n",
    "    def __init__(self, credentials_path):\n",
    "        self.db_credentials = pd.read_csv(credentials_path, index_col=\"Field\")\n",
    "      \n",
    "    \n",
    "    def __call__(self, query):\n",
    "        \n",
    "        mariadb_connection = mariadb.connect(\n",
    "            user=self.db_credentials.loc[\"user\"][0],\n",
    "            password=self.db_credentials.loc[\"password\"][0],\n",
    "            host=self.db_credentials.loc[\"host\"][0],\n",
    "            port=3306,\n",
    "            db = \"db_velib\")\n",
    "        \n",
    "        self.cursor = mariadb_connection.cursor()\n",
    "        cursor = self.cursor\n",
    "        cursor.execute(\"SET  time_zone = 'Europe/Paris'\")\n",
    "        cursor.execute(query)\n",
    "        field_names = [i[0] for i in cursor.description]\n",
    "        df = pd.DataFrame(cursor, columns=field_names)\n",
    "        return df\n",
    "    \n",
    "# Transforming the input data in the proper format \n",
    "\n",
    "\n",
    "def measure_rmse(actual, predicted):\n",
    "    return math.sqrt(mean_squared_error(actual, predicted))\n",
    "\n",
    "def list_stations():\n",
    "    request = sql_query(\"../../aws_mariadb_crendentials.csv\")\n",
    "    query = \"\"\"\n",
    "    SELECT DISTINCT station_id FROM velib_realtime\n",
    "    \"\"\"\n",
    "    df= request(query)\n",
    "    # Removing bad values\n",
    "    df= df.drop(0)\n",
    "    df = df.drop(1391)\n",
    "    list_of_stations = list(df.station_id)\n",
    "    return list_of_stations\n",
    "\n",
    "def loading_models(list_of_stations):\n",
    "    LSTM_A_list = []\n",
    "    LSTM_B_list = []\n",
    "    std_list = []\n",
    "\n",
    "    for i in list_of_stations:\n",
    "        LSTM_A_list.append(\"LSTM A - {} - {}\".format(i, day_of_testing))\n",
    "        LSTM_B_list.append(\"LSTM B - {} - {}\".format(i, day_of_testing))\n",
    "        std_list.append(\"std - {} - {}\".format(i, day_of_testing))\n",
    "\n",
    "    for i in tqdm(range(len(list_of_stations))):\n",
    "        LSTM_A_list[i] = tf.keras.models.load_model('/home/exalis/Github/velib-prediction-v2/4. Models/Tensorflow Univariate - {} - {} - LSTM_A.h5'.format(day_of_testing, list_of_stations[i]))\n",
    "        LSTM_B_list[i] = tf.keras.models.load_model('/home/exalis/Github/velib-prediction-v2/4. Models/Tensorflow Univariate - {} - {} - LSTM_B.h5'.format(day_of_testing, list_of_stations[i]))\n",
    "        std_list[i] = load('/home/exalis/Github/velib-prediction-v2/4. Models/Tensorflow Univariate - {} - {} - std.joblib'.format(day_of_testing, list_of_stations[i]))\n",
    "\n",
    "\n",
    "    return LSTM_A_list, LSTM_B_list, std_list\n",
    "\n",
    "\n",
    "def create_result_df():\n",
    "    # Extracting base for prediction \n",
    "\n",
    "    request = sql_query(\"../../aws_mariadb_crendentials.csv\")\n",
    "\n",
    "    query = \"\"\"\n",
    "    SELECT station_id, date_of_update, nb_total_free_bikes FROM db_velib.velib_realtime\n",
    "    WHERE date_of_update >= DATE_SUB(NOW(), INTERVAL 185 Minute) AND MINUTE(date_of_update)%5 = 0\n",
    "    ORDER BY station_id, date_of_update ASC;\n",
    "    \"\"\"\n",
    "    df= request(query)\n",
    "    df.index = df.date_of_update\n",
    "    df = df[['station_id','nb_total_free_bikes']]\n",
    "    df = df.pivot_table(df, index= 'station_id', columns=df.index)\n",
    "\n",
    "    # Creating dataframe for proper predction\n",
    "\n",
    "    df_prediction = pd.DataFrame(index=df.index, columns=['last_observations','Model_A', 'Model_B'])\n",
    "\n",
    "    for i in df_prediction.index:\n",
    "        df_prediction[\"last_observations\"].loc[i] = np.array(df.loc[i])\n",
    "        \n",
    "    return df_prediction"
   ]
  },
  {
   "cell_type": "markdown",
   "metadata": {},
   "source": [
    "## I - Initialization"
   ]
  },
  {
   "cell_type": "code",
   "execution_count": 73,
   "metadata": {},
   "outputs": [
    {
     "name": "stderr",
     "output_type": "stream",
     "text": [
      "\r",
      "  0%|          | 0/1390 [00:00<?, ?it/s]"
     ]
    },
    {
     "name": "stdout",
     "output_type": "stream",
     "text": [
      "WARNING:tensorflow:Sequential models without an `input_shape` passed to the first layer cannot reload their optimizer state. As a result, your model isstarting with a freshly initialized optimizer.\n"
     ]
    },
    {
     "name": "stderr",
     "output_type": "stream",
     "text": [
      "\r",
      "  0%|          | 1/1390 [00:00<21:46,  1.06it/s]"
     ]
    },
    {
     "name": "stdout",
     "output_type": "stream",
     "text": [
      "WARNING:tensorflow:Sequential models without an `input_shape` passed to the first layer cannot reload their optimizer state. As a result, your model isstarting with a freshly initialized optimizer.\n"
     ]
    },
    {
     "name": "stderr",
     "output_type": "stream",
     "text": [
      "\r",
      "  0%|          | 2/1390 [00:01<21:42,  1.07it/s]"
     ]
    },
    {
     "name": "stdout",
     "output_type": "stream",
     "text": [
      "WARNING:tensorflow:Sequential models without an `input_shape` passed to the first layer cannot reload their optimizer state. As a result, your model isstarting with a freshly initialized optimizer.\n"
     ]
    },
    {
     "name": "stderr",
     "output_type": "stream",
     "text": [
      "\r",
      "  0%|          | 3/1390 [00:02<21:40,  1.07it/s]"
     ]
    },
    {
     "name": "stdout",
     "output_type": "stream",
     "text": [
      "WARNING:tensorflow:Sequential models without an `input_shape` passed to the first layer cannot reload their optimizer state. As a result, your model isstarting with a freshly initialized optimizer.\n"
     ]
    },
    {
     "name": "stderr",
     "output_type": "stream",
     "text": [
      "\r",
      "  0%|          | 4/1390 [00:03<21:38,  1.07it/s]"
     ]
    },
    {
     "name": "stdout",
     "output_type": "stream",
     "text": [
      "WARNING:tensorflow:Sequential models without an `input_shape` passed to the first layer cannot reload their optimizer state. As a result, your model isstarting with a freshly initialized optimizer.\n"
     ]
    },
    {
     "name": "stderr",
     "output_type": "stream",
     "text": [
      "\r",
      "  0%|          | 5/1390 [00:04<21:28,  1.07it/s]"
     ]
    },
    {
     "name": "stdout",
     "output_type": "stream",
     "text": [
      "WARNING:tensorflow:Sequential models without an `input_shape` passed to the first layer cannot reload their optimizer state. As a result, your model isstarting with a freshly initialized optimizer.\n"
     ]
    },
    {
     "name": "stderr",
     "output_type": "stream",
     "text": [
      "\r",
      "  0%|          | 6/1390 [00:05<21:22,  1.08it/s]"
     ]
    },
    {
     "name": "stdout",
     "output_type": "stream",
     "text": [
      "WARNING:tensorflow:Sequential models without an `input_shape` passed to the first layer cannot reload their optimizer state. As a result, your model isstarting with a freshly initialized optimizer.\n"
     ]
    },
    {
     "name": "stderr",
     "output_type": "stream",
     "text": [
      "\r",
      "  1%|          | 7/1390 [00:06<21:26,  1.08it/s]"
     ]
    },
    {
     "name": "stdout",
     "output_type": "stream",
     "text": [
      "WARNING:tensorflow:Sequential models without an `input_shape` passed to the first layer cannot reload their optimizer state. As a result, your model isstarting with a freshly initialized optimizer.\n"
     ]
    },
    {
     "name": "stderr",
     "output_type": "stream",
     "text": [
      "\r",
      "  1%|          | 8/1390 [00:07<21:26,  1.07it/s]"
     ]
    },
    {
     "name": "stdout",
     "output_type": "stream",
     "text": [
      "WARNING:tensorflow:Sequential models without an `input_shape` passed to the first layer cannot reload their optimizer state. As a result, your model isstarting with a freshly initialized optimizer.\n"
     ]
    },
    {
     "name": "stderr",
     "output_type": "stream",
     "text": [
      "\r",
      "  1%|          | 9/1390 [00:08<21:28,  1.07it/s]"
     ]
    },
    {
     "name": "stdout",
     "output_type": "stream",
     "text": [
      "WARNING:tensorflow:Sequential models without an `input_shape` passed to the first layer cannot reload their optimizer state. As a result, your model isstarting with a freshly initialized optimizer.\n"
     ]
    },
    {
     "name": "stderr",
     "output_type": "stream",
     "text": [
      "\r",
      "  1%|          | 10/1390 [00:09<21:29,  1.07it/s]"
     ]
    },
    {
     "name": "stdout",
     "output_type": "stream",
     "text": [
      "WARNING:tensorflow:Sequential models without an `input_shape` passed to the first layer cannot reload their optimizer state. As a result, your model isstarting with a freshly initialized optimizer.\n"
     ]
    },
    {
     "name": "stderr",
     "output_type": "stream",
     "text": [
      "\r",
      "  1%|          | 11/1390 [00:10<21:29,  1.07it/s]"
     ]
    },
    {
     "name": "stdout",
     "output_type": "stream",
     "text": [
      "WARNING:tensorflow:Sequential models without an `input_shape` passed to the first layer cannot reload their optimizer state. As a result, your model isstarting with a freshly initialized optimizer.\n"
     ]
    },
    {
     "name": "stderr",
     "output_type": "stream",
     "text": [
      "\r",
      "  1%|          | 12/1390 [00:11<21:29,  1.07it/s]"
     ]
    },
    {
     "name": "stdout",
     "output_type": "stream",
     "text": [
      "WARNING:tensorflow:Sequential models without an `input_shape` passed to the first layer cannot reload their optimizer state. As a result, your model isstarting with a freshly initialized optimizer.\n"
     ]
    },
    {
     "name": "stderr",
     "output_type": "stream",
     "text": [
      "\r",
      "  1%|          | 13/1390 [00:12<21:29,  1.07it/s]"
     ]
    },
    {
     "name": "stdout",
     "output_type": "stream",
     "text": [
      "WARNING:tensorflow:Sequential models without an `input_shape` passed to the first layer cannot reload their optimizer state. As a result, your model isstarting with a freshly initialized optimizer.\n"
     ]
    },
    {
     "name": "stderr",
     "output_type": "stream",
     "text": [
      "\r",
      "  1%|          | 14/1390 [00:13<21:23,  1.07it/s]"
     ]
    },
    {
     "name": "stdout",
     "output_type": "stream",
     "text": [
      "WARNING:tensorflow:Sequential models without an `input_shape` passed to the first layer cannot reload their optimizer state. As a result, your model isstarting with a freshly initialized optimizer.\n"
     ]
    },
    {
     "name": "stderr",
     "output_type": "stream",
     "text": [
      "\r",
      "  1%|          | 15/1390 [00:13<21:19,  1.07it/s]"
     ]
    },
    {
     "name": "stdout",
     "output_type": "stream",
     "text": [
      "WARNING:tensorflow:Sequential models without an `input_shape` passed to the first layer cannot reload their optimizer state. As a result, your model isstarting with a freshly initialized optimizer.\n"
     ]
    },
    {
     "name": "stderr",
     "output_type": "stream",
     "text": [
      "\r",
      "  1%|          | 16/1390 [00:14<21:19,  1.07it/s]"
     ]
    },
    {
     "name": "stdout",
     "output_type": "stream",
     "text": [
      "WARNING:tensorflow:Sequential models without an `input_shape` passed to the first layer cannot reload their optimizer state. As a result, your model isstarting with a freshly initialized optimizer.\n"
     ]
    },
    {
     "name": "stderr",
     "output_type": "stream",
     "text": [
      "\r",
      "  1%|          | 17/1390 [00:15<21:17,  1.08it/s]"
     ]
    },
    {
     "name": "stdout",
     "output_type": "stream",
     "text": [
      "WARNING:tensorflow:Sequential models without an `input_shape` passed to the first layer cannot reload their optimizer state. As a result, your model isstarting with a freshly initialized optimizer.\n"
     ]
    },
    {
     "name": "stderr",
     "output_type": "stream",
     "text": [
      "\r",
      "  1%|▏         | 18/1390 [00:16<21:18,  1.07it/s]"
     ]
    },
    {
     "name": "stdout",
     "output_type": "stream",
     "text": [
      "WARNING:tensorflow:Sequential models without an `input_shape` passed to the first layer cannot reload their optimizer state. As a result, your model isstarting with a freshly initialized optimizer.\n"
     ]
    },
    {
     "name": "stderr",
     "output_type": "stream",
     "text": [
      "\r",
      "  1%|▏         | 19/1390 [00:20<39:05,  1.71s/it]"
     ]
    },
    {
     "name": "stdout",
     "output_type": "stream",
     "text": [
      "WARNING:tensorflow:Sequential models without an `input_shape` passed to the first layer cannot reload their optimizer state. As a result, your model isstarting with a freshly initialized optimizer.\n"
     ]
    },
    {
     "name": "stderr",
     "output_type": "stream",
     "text": [
      "\r",
      "  1%|▏         | 20/1390 [00:21<33:51,  1.48s/it]"
     ]
    },
    {
     "name": "stdout",
     "output_type": "stream",
     "text": [
      "WARNING:tensorflow:Sequential models without an `input_shape` passed to the first layer cannot reload their optimizer state. As a result, your model isstarting with a freshly initialized optimizer.\n"
     ]
    },
    {
     "name": "stderr",
     "output_type": "stream",
     "text": [
      "\r",
      "  2%|▏         | 21/1390 [00:22<30:03,  1.32s/it]"
     ]
    },
    {
     "name": "stdout",
     "output_type": "stream",
     "text": [
      "WARNING:tensorflow:Sequential models without an `input_shape` passed to the first layer cannot reload their optimizer state. As a result, your model isstarting with a freshly initialized optimizer.\n"
     ]
    },
    {
     "name": "stderr",
     "output_type": "stream",
     "text": [
      "\r",
      "  2%|▏         | 22/1390 [00:23<27:24,  1.20s/it]"
     ]
    },
    {
     "name": "stdout",
     "output_type": "stream",
     "text": [
      "WARNING:tensorflow:Sequential models without an `input_shape` passed to the first layer cannot reload their optimizer state. As a result, your model isstarting with a freshly initialized optimizer.\n"
     ]
    },
    {
     "name": "stderr",
     "output_type": "stream",
     "text": [
      "\r",
      "  2%|▏         | 23/1390 [00:24<25:37,  1.12s/it]"
     ]
    },
    {
     "name": "stdout",
     "output_type": "stream",
     "text": [
      "WARNING:tensorflow:Sequential models without an `input_shape` passed to the first layer cannot reload their optimizer state. As a result, your model isstarting with a freshly initialized optimizer.\n"
     ]
    },
    {
     "name": "stderr",
     "output_type": "stream",
     "text": [
      "\r",
      "  2%|▏         | 24/1390 [00:24<24:16,  1.07s/it]"
     ]
    },
    {
     "name": "stdout",
     "output_type": "stream",
     "text": [
      "WARNING:tensorflow:Sequential models without an `input_shape` passed to the first layer cannot reload their optimizer state. As a result, your model isstarting with a freshly initialized optimizer.\n"
     ]
    },
    {
     "name": "stderr",
     "output_type": "stream",
     "text": [
      "\r",
      "  2%|▏         | 25/1390 [00:25<23:22,  1.03s/it]"
     ]
    },
    {
     "name": "stdout",
     "output_type": "stream",
     "text": [
      "WARNING:tensorflow:Sequential models without an `input_shape` passed to the first layer cannot reload their optimizer state. As a result, your model isstarting with a freshly initialized optimizer.\n"
     ]
    },
    {
     "name": "stderr",
     "output_type": "stream",
     "text": [
      "\r",
      "  2%|▏         | 26/1390 [00:26<22:39,  1.00it/s]"
     ]
    },
    {
     "name": "stdout",
     "output_type": "stream",
     "text": [
      "WARNING:tensorflow:Sequential models without an `input_shape` passed to the first layer cannot reload their optimizer state. As a result, your model isstarting with a freshly initialized optimizer.\n"
     ]
    },
    {
     "name": "stderr",
     "output_type": "stream",
     "text": [
      "\r",
      "  2%|▏         | 27/1390 [00:27<22:12,  1.02it/s]"
     ]
    },
    {
     "name": "stdout",
     "output_type": "stream",
     "text": [
      "WARNING:tensorflow:Sequential models without an `input_shape` passed to the first layer cannot reload their optimizer state. As a result, your model isstarting with a freshly initialized optimizer.\n"
     ]
    },
    {
     "name": "stderr",
     "output_type": "stream",
     "text": [
      "\r",
      "  2%|▏         | 28/1390 [00:28<21:53,  1.04it/s]"
     ]
    },
    {
     "name": "stdout",
     "output_type": "stream",
     "text": [
      "WARNING:tensorflow:Sequential models without an `input_shape` passed to the first layer cannot reload their optimizer state. As a result, your model isstarting with a freshly initialized optimizer.\n"
     ]
    },
    {
     "name": "stderr",
     "output_type": "stream",
     "text": [
      "\r",
      "  2%|▏         | 29/1390 [00:29<21:58,  1.03it/s]"
     ]
    },
    {
     "name": "stdout",
     "output_type": "stream",
     "text": [
      "WARNING:tensorflow:Sequential models without an `input_shape` passed to the first layer cannot reload their optimizer state. As a result, your model isstarting with a freshly initialized optimizer.\n"
     ]
    },
    {
     "name": "stderr",
     "output_type": "stream",
     "text": [
      "\r",
      "  2%|▏         | 30/1390 [00:30<21:58,  1.03it/s]"
     ]
    },
    {
     "name": "stdout",
     "output_type": "stream",
     "text": [
      "WARNING:tensorflow:Sequential models without an `input_shape` passed to the first layer cannot reload their optimizer state. As a result, your model isstarting with a freshly initialized optimizer.\n"
     ]
    },
    {
     "name": "stderr",
     "output_type": "stream",
     "text": [
      "\r",
      "  2%|▏         | 31/1390 [00:31<21:52,  1.04it/s]"
     ]
    },
    {
     "name": "stdout",
     "output_type": "stream",
     "text": [
      "WARNING:tensorflow:Sequential models without an `input_shape` passed to the first layer cannot reload their optimizer state. As a result, your model isstarting with a freshly initialized optimizer.\n"
     ]
    },
    {
     "name": "stderr",
     "output_type": "stream",
     "text": [
      "\r",
      "  2%|▏         | 32/1390 [00:32<21:53,  1.03it/s]"
     ]
    },
    {
     "name": "stdout",
     "output_type": "stream",
     "text": [
      "WARNING:tensorflow:Sequential models without an `input_shape` passed to the first layer cannot reload their optimizer state. As a result, your model isstarting with a freshly initialized optimizer.\n"
     ]
    },
    {
     "name": "stderr",
     "output_type": "stream",
     "text": [
      "\r",
      "  2%|▏         | 33/1390 [00:33<21:48,  1.04it/s]"
     ]
    },
    {
     "name": "stdout",
     "output_type": "stream",
     "text": [
      "WARNING:tensorflow:Sequential models without an `input_shape` passed to the first layer cannot reload their optimizer state. As a result, your model isstarting with a freshly initialized optimizer.\n"
     ]
    },
    {
     "name": "stderr",
     "output_type": "stream",
     "text": [
      "\r",
      "  2%|▏         | 34/1390 [00:34<21:55,  1.03it/s]"
     ]
    },
    {
     "name": "stdout",
     "output_type": "stream",
     "text": [
      "WARNING:tensorflow:Sequential models without an `input_shape` passed to the first layer cannot reload their optimizer state. As a result, your model isstarting with a freshly initialized optimizer.\n"
     ]
    },
    {
     "name": "stderr",
     "output_type": "stream",
     "text": [
      "\r",
      "  3%|▎         | 35/1390 [00:35<21:50,  1.03it/s]"
     ]
    },
    {
     "name": "stdout",
     "output_type": "stream",
     "text": [
      "WARNING:tensorflow:Sequential models without an `input_shape` passed to the first layer cannot reload their optimizer state. As a result, your model isstarting with a freshly initialized optimizer.\n"
     ]
    },
    {
     "name": "stderr",
     "output_type": "stream",
     "text": [
      "\r",
      "  3%|▎         | 36/1390 [00:36<21:49,  1.03it/s]"
     ]
    },
    {
     "name": "stdout",
     "output_type": "stream",
     "text": [
      "WARNING:tensorflow:Sequential models without an `input_shape` passed to the first layer cannot reload their optimizer state. As a result, your model isstarting with a freshly initialized optimizer.\n"
     ]
    },
    {
     "name": "stderr",
     "output_type": "stream",
     "text": [
      "\r",
      "  3%|▎         | 37/1390 [00:37<21:45,  1.04it/s]"
     ]
    },
    {
     "name": "stdout",
     "output_type": "stream",
     "text": [
      "WARNING:tensorflow:Sequential models without an `input_shape` passed to the first layer cannot reload their optimizer state. As a result, your model isstarting with a freshly initialized optimizer.\n"
     ]
    },
    {
     "name": "stderr",
     "output_type": "stream",
     "text": [
      "\r",
      "  3%|▎         | 38/1390 [00:38<21:37,  1.04it/s]"
     ]
    },
    {
     "name": "stdout",
     "output_type": "stream",
     "text": [
      "WARNING:tensorflow:Sequential models without an `input_shape` passed to the first layer cannot reload their optimizer state. As a result, your model isstarting with a freshly initialized optimizer.\n"
     ]
    },
    {
     "name": "stderr",
     "output_type": "stream",
     "text": [
      "\r",
      "  3%|▎         | 39/1390 [00:39<21:35,  1.04it/s]"
     ]
    },
    {
     "name": "stdout",
     "output_type": "stream",
     "text": [
      "WARNING:tensorflow:Sequential models without an `input_shape` passed to the first layer cannot reload their optimizer state. As a result, your model isstarting with a freshly initialized optimizer.\n"
     ]
    },
    {
     "name": "stderr",
     "output_type": "stream",
     "text": [
      "\r",
      "  3%|▎         | 40/1390 [00:40<21:32,  1.04it/s]"
     ]
    },
    {
     "name": "stdout",
     "output_type": "stream",
     "text": [
      "WARNING:tensorflow:Sequential models without an `input_shape` passed to the first layer cannot reload their optimizer state. As a result, your model isstarting with a freshly initialized optimizer.\n"
     ]
    },
    {
     "name": "stderr",
     "output_type": "stream",
     "text": [
      "\r",
      "  3%|▎         | 41/1390 [00:41<21:31,  1.04it/s]"
     ]
    },
    {
     "name": "stdout",
     "output_type": "stream",
     "text": [
      "WARNING:tensorflow:Sequential models without an `input_shape` passed to the first layer cannot reload their optimizer state. As a result, your model isstarting with a freshly initialized optimizer.\n"
     ]
    },
    {
     "name": "stderr",
     "output_type": "stream",
     "text": [
      "\r",
      "  3%|▎         | 42/1390 [00:42<21:27,  1.05it/s]"
     ]
    },
    {
     "name": "stdout",
     "output_type": "stream",
     "text": [
      "WARNING:tensorflow:Sequential models without an `input_shape` passed to the first layer cannot reload their optimizer state. As a result, your model isstarting with a freshly initialized optimizer.\n"
     ]
    },
    {
     "name": "stderr",
     "output_type": "stream",
     "text": [
      "\r",
      "  3%|▎         | 43/1390 [00:43<21:45,  1.03it/s]"
     ]
    },
    {
     "name": "stdout",
     "output_type": "stream",
     "text": [
      "WARNING:tensorflow:Sequential models without an `input_shape` passed to the first layer cannot reload their optimizer state. As a result, your model isstarting with a freshly initialized optimizer.\n"
     ]
    },
    {
     "name": "stderr",
     "output_type": "stream",
     "text": [
      "\r",
      "  3%|▎         | 44/1390 [00:44<21:54,  1.02it/s]"
     ]
    },
    {
     "name": "stdout",
     "output_type": "stream",
     "text": [
      "WARNING:tensorflow:Sequential models without an `input_shape` passed to the first layer cannot reload their optimizer state. As a result, your model isstarting with a freshly initialized optimizer.\n"
     ]
    },
    {
     "name": "stderr",
     "output_type": "stream",
     "text": [
      "\r",
      "  3%|▎         | 45/1390 [00:45<22:02,  1.02it/s]"
     ]
    },
    {
     "name": "stdout",
     "output_type": "stream",
     "text": [
      "WARNING:tensorflow:Sequential models without an `input_shape` passed to the first layer cannot reload their optimizer state. As a result, your model isstarting with a freshly initialized optimizer.\n"
     ]
    },
    {
     "name": "stderr",
     "output_type": "stream",
     "text": [
      "\r",
      "  3%|▎         | 46/1390 [00:46<22:05,  1.01it/s]"
     ]
    },
    {
     "name": "stdout",
     "output_type": "stream",
     "text": [
      "WARNING:tensorflow:Sequential models without an `input_shape` passed to the first layer cannot reload their optimizer state. As a result, your model isstarting with a freshly initialized optimizer.\n"
     ]
    },
    {
     "name": "stderr",
     "output_type": "stream",
     "text": [
      "\r",
      "  3%|▎         | 47/1390 [00:47<22:04,  1.01it/s]"
     ]
    },
    {
     "name": "stdout",
     "output_type": "stream",
     "text": [
      "WARNING:tensorflow:Sequential models without an `input_shape` passed to the first layer cannot reload their optimizer state. As a result, your model isstarting with a freshly initialized optimizer.\n"
     ]
    },
    {
     "name": "stderr",
     "output_type": "stream",
     "text": [
      "\r",
      "  3%|▎         | 48/1390 [00:48<22:05,  1.01it/s]"
     ]
    },
    {
     "name": "stdout",
     "output_type": "stream",
     "text": [
      "WARNING:tensorflow:Sequential models without an `input_shape` passed to the first layer cannot reload their optimizer state. As a result, your model isstarting with a freshly initialized optimizer.\n"
     ]
    },
    {
     "name": "stderr",
     "output_type": "stream",
     "text": [
      "\r",
      "  4%|▎         | 49/1390 [00:49<22:04,  1.01it/s]"
     ]
    },
    {
     "name": "stdout",
     "output_type": "stream",
     "text": [
      "WARNING:tensorflow:Sequential models without an `input_shape` passed to the first layer cannot reload their optimizer state. As a result, your model isstarting with a freshly initialized optimizer.\n"
     ]
    },
    {
     "name": "stderr",
     "output_type": "stream",
     "text": [
      "\r",
      "  4%|▎         | 50/1390 [00:50<22:04,  1.01it/s]"
     ]
    },
    {
     "name": "stdout",
     "output_type": "stream",
     "text": [
      "WARNING:tensorflow:Sequential models without an `input_shape` passed to the first layer cannot reload their optimizer state. As a result, your model isstarting with a freshly initialized optimizer.\n"
     ]
    },
    {
     "name": "stderr",
     "output_type": "stream",
     "text": [
      "\r",
      "  4%|▎         | 51/1390 [00:51<22:04,  1.01it/s]"
     ]
    },
    {
     "name": "stdout",
     "output_type": "stream",
     "text": [
      "WARNING:tensorflow:Sequential models without an `input_shape` passed to the first layer cannot reload their optimizer state. As a result, your model isstarting with a freshly initialized optimizer.\n"
     ]
    },
    {
     "name": "stderr",
     "output_type": "stream",
     "text": [
      "\r",
      "  4%|▎         | 52/1390 [00:52<22:03,  1.01it/s]"
     ]
    },
    {
     "name": "stdout",
     "output_type": "stream",
     "text": [
      "WARNING:tensorflow:Sequential models without an `input_shape` passed to the first layer cannot reload their optimizer state. As a result, your model isstarting with a freshly initialized optimizer.\n"
     ]
    },
    {
     "name": "stderr",
     "output_type": "stream",
     "text": [
      "\r",
      "  4%|▍         | 53/1390 [00:53<22:00,  1.01it/s]"
     ]
    },
    {
     "name": "stdout",
     "output_type": "stream",
     "text": [
      "WARNING:tensorflow:Sequential models without an `input_shape` passed to the first layer cannot reload their optimizer state. As a result, your model isstarting with a freshly initialized optimizer.\n"
     ]
    },
    {
     "name": "stderr",
     "output_type": "stream",
     "text": [
      "\r",
      "  4%|▍         | 54/1390 [00:54<22:00,  1.01it/s]"
     ]
    },
    {
     "name": "stdout",
     "output_type": "stream",
     "text": [
      "WARNING:tensorflow:Sequential models without an `input_shape` passed to the first layer cannot reload their optimizer state. As a result, your model isstarting with a freshly initialized optimizer.\n"
     ]
    },
    {
     "name": "stderr",
     "output_type": "stream",
     "text": [
      "\r",
      "  4%|▍         | 55/1390 [00:55<22:02,  1.01it/s]"
     ]
    },
    {
     "name": "stdout",
     "output_type": "stream",
     "text": [
      "WARNING:tensorflow:Sequential models without an `input_shape` passed to the first layer cannot reload their optimizer state. As a result, your model isstarting with a freshly initialized optimizer.\n"
     ]
    },
    {
     "name": "stderr",
     "output_type": "stream",
     "text": [
      "\r",
      "  4%|▍         | 56/1390 [00:56<21:56,  1.01it/s]"
     ]
    },
    {
     "name": "stdout",
     "output_type": "stream",
     "text": [
      "WARNING:tensorflow:Sequential models without an `input_shape` passed to the first layer cannot reload their optimizer state. As a result, your model isstarting with a freshly initialized optimizer.\n"
     ]
    },
    {
     "name": "stderr",
     "output_type": "stream",
     "text": [
      "\r",
      "  4%|▍         | 57/1390 [00:57<21:51,  1.02it/s]"
     ]
    },
    {
     "name": "stdout",
     "output_type": "stream",
     "text": [
      "WARNING:tensorflow:Sequential models without an `input_shape` passed to the first layer cannot reload their optimizer state. As a result, your model isstarting with a freshly initialized optimizer.\n"
     ]
    },
    {
     "name": "stderr",
     "output_type": "stream",
     "text": [
      "\r",
      "  4%|▍         | 58/1390 [00:58<21:49,  1.02it/s]"
     ]
    },
    {
     "name": "stdout",
     "output_type": "stream",
     "text": [
      "WARNING:tensorflow:Sequential models without an `input_shape` passed to the first layer cannot reload their optimizer state. As a result, your model isstarting with a freshly initialized optimizer.\n"
     ]
    },
    {
     "name": "stderr",
     "output_type": "stream",
     "text": [
      "\r",
      "  4%|▍         | 59/1390 [00:59<21:47,  1.02it/s]"
     ]
    },
    {
     "name": "stdout",
     "output_type": "stream",
     "text": [
      "WARNING:tensorflow:Sequential models without an `input_shape` passed to the first layer cannot reload their optimizer state. As a result, your model isstarting with a freshly initialized optimizer.\n"
     ]
    },
    {
     "name": "stderr",
     "output_type": "stream",
     "text": [
      "\r",
      "  4%|▍         | 60/1390 [00:59<21:45,  1.02it/s]"
     ]
    },
    {
     "name": "stdout",
     "output_type": "stream",
     "text": [
      "WARNING:tensorflow:Sequential models without an `input_shape` passed to the first layer cannot reload their optimizer state. As a result, your model isstarting with a freshly initialized optimizer.\n"
     ]
    },
    {
     "name": "stderr",
     "output_type": "stream",
     "text": [
      "\r",
      "  4%|▍         | 61/1390 [01:00<21:42,  1.02it/s]"
     ]
    },
    {
     "name": "stdout",
     "output_type": "stream",
     "text": [
      "WARNING:tensorflow:Sequential models without an `input_shape` passed to the first layer cannot reload their optimizer state. As a result, your model isstarting with a freshly initialized optimizer.\n"
     ]
    },
    {
     "name": "stderr",
     "output_type": "stream",
     "text": [
      "\r",
      "  4%|▍         | 62/1390 [01:01<21:37,  1.02it/s]"
     ]
    },
    {
     "name": "stdout",
     "output_type": "stream",
     "text": [
      "WARNING:tensorflow:Sequential models without an `input_shape` passed to the first layer cannot reload their optimizer state. As a result, your model isstarting with a freshly initialized optimizer.\n"
     ]
    },
    {
     "name": "stderr",
     "output_type": "stream",
     "text": [
      "\r",
      "  5%|▍         | 63/1390 [01:02<21:32,  1.03it/s]"
     ]
    },
    {
     "name": "stdout",
     "output_type": "stream",
     "text": [
      "WARNING:tensorflow:Sequential models without an `input_shape` passed to the first layer cannot reload their optimizer state. As a result, your model isstarting with a freshly initialized optimizer.\n"
     ]
    },
    {
     "name": "stderr",
     "output_type": "stream",
     "text": [
      "\r",
      "  5%|▍         | 64/1390 [01:03<21:34,  1.02it/s]"
     ]
    },
    {
     "name": "stdout",
     "output_type": "stream",
     "text": [
      "WARNING:tensorflow:Sequential models without an `input_shape` passed to the first layer cannot reload their optimizer state. As a result, your model isstarting with a freshly initialized optimizer.\n"
     ]
    },
    {
     "name": "stderr",
     "output_type": "stream",
     "text": [
      "\r",
      "  5%|▍         | 65/1390 [01:04<21:40,  1.02it/s]"
     ]
    },
    {
     "name": "stdout",
     "output_type": "stream",
     "text": [
      "WARNING:tensorflow:Sequential models without an `input_shape` passed to the first layer cannot reload their optimizer state. As a result, your model isstarting with a freshly initialized optimizer.\n"
     ]
    },
    {
     "name": "stderr",
     "output_type": "stream",
     "text": [
      "\r",
      "  5%|▍         | 66/1390 [01:05<21:37,  1.02it/s]"
     ]
    },
    {
     "name": "stdout",
     "output_type": "stream",
     "text": [
      "WARNING:tensorflow:Sequential models without an `input_shape` passed to the first layer cannot reload their optimizer state. As a result, your model isstarting with a freshly initialized optimizer.\n"
     ]
    },
    {
     "name": "stderr",
     "output_type": "stream",
     "text": [
      "\r",
      "  5%|▍         | 67/1390 [01:06<21:38,  1.02it/s]"
     ]
    },
    {
     "name": "stdout",
     "output_type": "stream",
     "text": [
      "WARNING:tensorflow:Sequential models without an `input_shape` passed to the first layer cannot reload their optimizer state. As a result, your model isstarting with a freshly initialized optimizer.\n"
     ]
    },
    {
     "name": "stderr",
     "output_type": "stream",
     "text": [
      "\r",
      "  5%|▍         | 68/1390 [01:07<21:41,  1.02it/s]"
     ]
    },
    {
     "name": "stdout",
     "output_type": "stream",
     "text": [
      "WARNING:tensorflow:Sequential models without an `input_shape` passed to the first layer cannot reload their optimizer state. As a result, your model isstarting with a freshly initialized optimizer.\n"
     ]
    },
    {
     "name": "stderr",
     "output_type": "stream",
     "text": [
      "\r",
      "  5%|▍         | 69/1390 [01:08<21:43,  1.01it/s]"
     ]
    },
    {
     "name": "stdout",
     "output_type": "stream",
     "text": [
      "WARNING:tensorflow:Sequential models without an `input_shape` passed to the first layer cannot reload their optimizer state. As a result, your model isstarting with a freshly initialized optimizer.\n"
     ]
    },
    {
     "name": "stderr",
     "output_type": "stream",
     "text": [
      "\r",
      "  5%|▌         | 70/1390 [01:09<21:38,  1.02it/s]"
     ]
    },
    {
     "name": "stdout",
     "output_type": "stream",
     "text": [
      "WARNING:tensorflow:Sequential models without an `input_shape` passed to the first layer cannot reload their optimizer state. As a result, your model isstarting with a freshly initialized optimizer.\n"
     ]
    },
    {
     "name": "stderr",
     "output_type": "stream",
     "text": [
      "\r",
      "  5%|▌         | 71/1390 [01:10<21:40,  1.01it/s]"
     ]
    },
    {
     "name": "stdout",
     "output_type": "stream",
     "text": [
      "WARNING:tensorflow:Sequential models without an `input_shape` passed to the first layer cannot reload their optimizer state. As a result, your model isstarting with a freshly initialized optimizer.\n"
     ]
    },
    {
     "name": "stderr",
     "output_type": "stream",
     "text": [
      "\r",
      "  5%|▌         | 72/1390 [01:11<21:44,  1.01it/s]"
     ]
    },
    {
     "name": "stdout",
     "output_type": "stream",
     "text": [
      "WARNING:tensorflow:Sequential models without an `input_shape` passed to the first layer cannot reload their optimizer state. As a result, your model isstarting with a freshly initialized optimizer.\n"
     ]
    },
    {
     "name": "stderr",
     "output_type": "stream",
     "text": [
      "\r",
      "  5%|▌         | 73/1390 [01:12<21:44,  1.01it/s]"
     ]
    },
    {
     "name": "stdout",
     "output_type": "stream",
     "text": [
      "WARNING:tensorflow:Sequential models without an `input_shape` passed to the first layer cannot reload their optimizer state. As a result, your model isstarting with a freshly initialized optimizer.\n"
     ]
    },
    {
     "name": "stderr",
     "output_type": "stream",
     "text": [
      "\r",
      "  5%|▌         | 74/1390 [01:13<21:46,  1.01it/s]"
     ]
    },
    {
     "name": "stdout",
     "output_type": "stream",
     "text": [
      "WARNING:tensorflow:Sequential models without an `input_shape` passed to the first layer cannot reload their optimizer state. As a result, your model isstarting with a freshly initialized optimizer.\n"
     ]
    },
    {
     "name": "stderr",
     "output_type": "stream",
     "text": [
      "\r",
      "  5%|▌         | 75/1390 [01:14<21:44,  1.01it/s]"
     ]
    },
    {
     "name": "stdout",
     "output_type": "stream",
     "text": [
      "WARNING:tensorflow:Sequential models without an `input_shape` passed to the first layer cannot reload their optimizer state. As a result, your model isstarting with a freshly initialized optimizer.\n"
     ]
    },
    {
     "name": "stderr",
     "output_type": "stream",
     "text": [
      "\r",
      "  5%|▌         | 76/1390 [01:15<21:42,  1.01it/s]"
     ]
    },
    {
     "name": "stdout",
     "output_type": "stream",
     "text": [
      "WARNING:tensorflow:Sequential models without an `input_shape` passed to the first layer cannot reload their optimizer state. As a result, your model isstarting with a freshly initialized optimizer.\n"
     ]
    },
    {
     "name": "stderr",
     "output_type": "stream",
     "text": [
      "\r",
      "  6%|▌         | 77/1390 [01:16<21:41,  1.01it/s]"
     ]
    },
    {
     "name": "stdout",
     "output_type": "stream",
     "text": [
      "WARNING:tensorflow:Sequential models without an `input_shape` passed to the first layer cannot reload their optimizer state. As a result, your model isstarting with a freshly initialized optimizer.\n"
     ]
    },
    {
     "name": "stderr",
     "output_type": "stream",
     "text": [
      "\r",
      "  6%|▌         | 78/1390 [01:17<21:41,  1.01it/s]"
     ]
    },
    {
     "name": "stdout",
     "output_type": "stream",
     "text": [
      "WARNING:tensorflow:Sequential models without an `input_shape` passed to the first layer cannot reload their optimizer state. As a result, your model isstarting with a freshly initialized optimizer.\n"
     ]
    },
    {
     "name": "stderr",
     "output_type": "stream",
     "text": [
      "\r",
      "  6%|▌         | 79/1390 [01:18<21:40,  1.01it/s]"
     ]
    },
    {
     "name": "stdout",
     "output_type": "stream",
     "text": [
      "WARNING:tensorflow:Sequential models without an `input_shape` passed to the first layer cannot reload their optimizer state. As a result, your model isstarting with a freshly initialized optimizer.\n"
     ]
    },
    {
     "name": "stderr",
     "output_type": "stream",
     "text": [
      "\r",
      "  6%|▌         | 80/1390 [01:19<21:38,  1.01it/s]"
     ]
    },
    {
     "name": "stdout",
     "output_type": "stream",
     "text": [
      "WARNING:tensorflow:Sequential models without an `input_shape` passed to the first layer cannot reload their optimizer state. As a result, your model isstarting with a freshly initialized optimizer.\n"
     ]
    },
    {
     "name": "stderr",
     "output_type": "stream",
     "text": [
      "\r",
      "  6%|▌         | 81/1390 [01:20<21:42,  1.01it/s]"
     ]
    },
    {
     "name": "stdout",
     "output_type": "stream",
     "text": [
      "WARNING:tensorflow:Sequential models without an `input_shape` passed to the first layer cannot reload their optimizer state. As a result, your model isstarting with a freshly initialized optimizer.\n"
     ]
    },
    {
     "name": "stderr",
     "output_type": "stream",
     "text": [
      "\r",
      "  6%|▌         | 82/1390 [01:21<21:41,  1.01it/s]"
     ]
    },
    {
     "name": "stdout",
     "output_type": "stream",
     "text": [
      "WARNING:tensorflow:Sequential models without an `input_shape` passed to the first layer cannot reload their optimizer state. As a result, your model isstarting with a freshly initialized optimizer.\n"
     ]
    },
    {
     "name": "stderr",
     "output_type": "stream",
     "text": [
      "\r",
      "  6%|▌         | 83/1390 [01:22<21:43,  1.00it/s]"
     ]
    },
    {
     "name": "stdout",
     "output_type": "stream",
     "text": [
      "WARNING:tensorflow:Sequential models without an `input_shape` passed to the first layer cannot reload their optimizer state. As a result, your model isstarting with a freshly initialized optimizer.\n"
     ]
    },
    {
     "name": "stderr",
     "output_type": "stream",
     "text": [
      "\r",
      "  6%|▌         | 84/1390 [01:23<21:44,  1.00it/s]"
     ]
    },
    {
     "name": "stdout",
     "output_type": "stream",
     "text": [
      "WARNING:tensorflow:Sequential models without an `input_shape` passed to the first layer cannot reload their optimizer state. As a result, your model isstarting with a freshly initialized optimizer.\n"
     ]
    },
    {
     "name": "stderr",
     "output_type": "stream",
     "text": [
      "\r",
      "  6%|▌         | 85/1390 [01:24<21:40,  1.00it/s]"
     ]
    },
    {
     "name": "stdout",
     "output_type": "stream",
     "text": [
      "WARNING:tensorflow:Sequential models without an `input_shape` passed to the first layer cannot reload their optimizer state. As a result, your model isstarting with a freshly initialized optimizer.\n"
     ]
    },
    {
     "name": "stderr",
     "output_type": "stream",
     "text": [
      "\r",
      "  6%|▌         | 86/1390 [01:25<21:38,  1.00it/s]"
     ]
    },
    {
     "name": "stdout",
     "output_type": "stream",
     "text": [
      "WARNING:tensorflow:Sequential models without an `input_shape` passed to the first layer cannot reload their optimizer state. As a result, your model isstarting with a freshly initialized optimizer.\n"
     ]
    },
    {
     "name": "stderr",
     "output_type": "stream",
     "text": [
      "\r",
      "  6%|▋         | 87/1390 [01:26<21:38,  1.00it/s]"
     ]
    },
    {
     "name": "stdout",
     "output_type": "stream",
     "text": [
      "WARNING:tensorflow:Sequential models without an `input_shape` passed to the first layer cannot reload their optimizer state. As a result, your model isstarting with a freshly initialized optimizer.\n"
     ]
    },
    {
     "name": "stderr",
     "output_type": "stream",
     "text": [
      "\r",
      "  6%|▋         | 88/1390 [01:27<21:36,  1.00it/s]"
     ]
    },
    {
     "name": "stdout",
     "output_type": "stream",
     "text": [
      "WARNING:tensorflow:Sequential models without an `input_shape` passed to the first layer cannot reload their optimizer state. As a result, your model isstarting with a freshly initialized optimizer.\n"
     ]
    },
    {
     "name": "stderr",
     "output_type": "stream",
     "text": [
      "\r",
      "  6%|▋         | 89/1390 [01:31<39:37,  1.83s/it]"
     ]
    },
    {
     "name": "stdout",
     "output_type": "stream",
     "text": [
      "WARNING:tensorflow:Sequential models without an `input_shape` passed to the first layer cannot reload their optimizer state. As a result, your model isstarting with a freshly initialized optimizer.\n"
     ]
    },
    {
     "name": "stderr",
     "output_type": "stream",
     "text": [
      "\r",
      "  6%|▋         | 90/1390 [01:32<34:13,  1.58s/it]"
     ]
    },
    {
     "name": "stdout",
     "output_type": "stream",
     "text": [
      "WARNING:tensorflow:Sequential models without an `input_shape` passed to the first layer cannot reload their optimizer state. As a result, your model isstarting with a freshly initialized optimizer.\n"
     ]
    },
    {
     "name": "stderr",
     "output_type": "stream",
     "text": [
      "\r",
      "  7%|▋         | 91/1390 [01:33<30:25,  1.41s/it]"
     ]
    },
    {
     "name": "stdout",
     "output_type": "stream",
     "text": [
      "WARNING:tensorflow:Sequential models without an `input_shape` passed to the first layer cannot reload their optimizer state. As a result, your model isstarting with a freshly initialized optimizer.\n"
     ]
    },
    {
     "name": "stderr",
     "output_type": "stream",
     "text": [
      "  7%|▋         | 92/1390 [01:34<22:17,  1.03s/it]\n"
     ]
    },
    {
     "ename": "KeyboardInterrupt",
     "evalue": "",
     "output_type": "error",
     "traceback": [
      "\u001b[0;31m---------------------------------------------------------------------------\u001b[0m",
      "\u001b[0;31mKeyboardInterrupt\u001b[0m                         Traceback (most recent call last)",
      "\u001b[0;32m<ipython-input-73-3ff637403f38>\u001b[0m in \u001b[0;36m<module>\u001b[0;34m\u001b[0m\n\u001b[1;32m      6\u001b[0m \u001b[0mfuture_target\u001b[0m \u001b[0;34m=\u001b[0m \u001b[0;36m6\u001b[0m\u001b[0;34m\u001b[0m\u001b[0;34m\u001b[0m\u001b[0m\n\u001b[1;32m      7\u001b[0m \u001b[0mlist_of_stations\u001b[0m \u001b[0;34m=\u001b[0m \u001b[0mlist_stations\u001b[0m\u001b[0;34m(\u001b[0m\u001b[0;34m)\u001b[0m\u001b[0;34m\u001b[0m\u001b[0;34m\u001b[0m\u001b[0m\n\u001b[0;32m----> 8\u001b[0;31m \u001b[0mLSTM_A_list\u001b[0m\u001b[0;34m,\u001b[0m \u001b[0mLSTM_B_list\u001b[0m\u001b[0;34m,\u001b[0m \u001b[0mstd_list\u001b[0m \u001b[0;34m=\u001b[0m \u001b[0mloading_models\u001b[0m\u001b[0;34m(\u001b[0m\u001b[0mlist_of_stations\u001b[0m\u001b[0;34m)\u001b[0m\u001b[0;34m\u001b[0m\u001b[0;34m\u001b[0m\u001b[0m\n\u001b[0m",
      "\u001b[0;32m<ipython-input-72-94ba7c3a93f1>\u001b[0m in \u001b[0;36mloading_models\u001b[0;34m(list_of_stations)\u001b[0m\n\u001b[1;32m     65\u001b[0m \u001b[0;34m\u001b[0m\u001b[0m\n\u001b[1;32m     66\u001b[0m     \u001b[0;32mfor\u001b[0m \u001b[0mi\u001b[0m \u001b[0;32min\u001b[0m \u001b[0mtqdm\u001b[0m\u001b[0;34m(\u001b[0m\u001b[0mrange\u001b[0m\u001b[0;34m(\u001b[0m\u001b[0mlen\u001b[0m\u001b[0;34m(\u001b[0m\u001b[0mlist_of_stations\u001b[0m\u001b[0;34m)\u001b[0m\u001b[0;34m)\u001b[0m\u001b[0;34m)\u001b[0m\u001b[0;34m:\u001b[0m\u001b[0;34m\u001b[0m\u001b[0;34m\u001b[0m\u001b[0m\n\u001b[0;32m---> 67\u001b[0;31m         \u001b[0mLSTM_A_list\u001b[0m\u001b[0;34m[\u001b[0m\u001b[0mi\u001b[0m\u001b[0;34m]\u001b[0m \u001b[0;34m=\u001b[0m \u001b[0mtf\u001b[0m\u001b[0;34m.\u001b[0m\u001b[0mkeras\u001b[0m\u001b[0;34m.\u001b[0m\u001b[0mmodels\u001b[0m\u001b[0;34m.\u001b[0m\u001b[0mload_model\u001b[0m\u001b[0;34m(\u001b[0m\u001b[0;34m'/home/exalis/Github/velib-prediction-v2/4. Models/Tensorflow Univariate - {} - {} - LSTM_A.h5'\u001b[0m\u001b[0;34m.\u001b[0m\u001b[0mformat\u001b[0m\u001b[0;34m(\u001b[0m\u001b[0mday_of_testing\u001b[0m\u001b[0;34m,\u001b[0m \u001b[0mlist_of_stations\u001b[0m\u001b[0;34m[\u001b[0m\u001b[0mi\u001b[0m\u001b[0;34m]\u001b[0m\u001b[0;34m)\u001b[0m\u001b[0;34m)\u001b[0m\u001b[0;34m\u001b[0m\u001b[0;34m\u001b[0m\u001b[0m\n\u001b[0m\u001b[1;32m     68\u001b[0m         \u001b[0mLSTM_B_list\u001b[0m\u001b[0;34m[\u001b[0m\u001b[0mi\u001b[0m\u001b[0;34m]\u001b[0m \u001b[0;34m=\u001b[0m \u001b[0mtf\u001b[0m\u001b[0;34m.\u001b[0m\u001b[0mkeras\u001b[0m\u001b[0;34m.\u001b[0m\u001b[0mmodels\u001b[0m\u001b[0;34m.\u001b[0m\u001b[0mload_model\u001b[0m\u001b[0;34m(\u001b[0m\u001b[0;34m'/home/exalis/Github/velib-prediction-v2/4. Models/Tensorflow Univariate - {} - {} - LSTM_B.h5'\u001b[0m\u001b[0;34m.\u001b[0m\u001b[0mformat\u001b[0m\u001b[0;34m(\u001b[0m\u001b[0mday_of_testing\u001b[0m\u001b[0;34m,\u001b[0m \u001b[0mlist_of_stations\u001b[0m\u001b[0;34m[\u001b[0m\u001b[0mi\u001b[0m\u001b[0;34m]\u001b[0m\u001b[0;34m)\u001b[0m\u001b[0;34m)\u001b[0m\u001b[0;34m\u001b[0m\u001b[0;34m\u001b[0m\u001b[0m\n\u001b[1;32m     69\u001b[0m         \u001b[0mstd_list\u001b[0m\u001b[0;34m[\u001b[0m\u001b[0mi\u001b[0m\u001b[0;34m]\u001b[0m \u001b[0;34m=\u001b[0m \u001b[0mload\u001b[0m\u001b[0;34m(\u001b[0m\u001b[0;34m'/home/exalis/Github/velib-prediction-v2/4. Models/Tensorflow Univariate - {} - {} - std.joblib'\u001b[0m\u001b[0;34m.\u001b[0m\u001b[0mformat\u001b[0m\u001b[0;34m(\u001b[0m\u001b[0mday_of_testing\u001b[0m\u001b[0;34m,\u001b[0m \u001b[0mlist_of_stations\u001b[0m\u001b[0;34m[\u001b[0m\u001b[0mi\u001b[0m\u001b[0;34m]\u001b[0m\u001b[0;34m)\u001b[0m\u001b[0;34m)\u001b[0m\u001b[0;34m\u001b[0m\u001b[0;34m\u001b[0m\u001b[0m\n",
      "\u001b[0;32m~/anaconda3/envs/tensorflowenv/lib/python3.7/site-packages/tensorflow_core/python/keras/saving/save.py\u001b[0m in \u001b[0;36mload_model\u001b[0;34m(filepath, custom_objects, compile)\u001b[0m\n\u001b[1;32m    144\u001b[0m   if (h5py is not None and (\n\u001b[1;32m    145\u001b[0m       isinstance(filepath, h5py.File) or h5py.is_hdf5(filepath))):\n\u001b[0;32m--> 146\u001b[0;31m     \u001b[0;32mreturn\u001b[0m \u001b[0mhdf5_format\u001b[0m\u001b[0;34m.\u001b[0m\u001b[0mload_model_from_hdf5\u001b[0m\u001b[0;34m(\u001b[0m\u001b[0mfilepath\u001b[0m\u001b[0;34m,\u001b[0m \u001b[0mcustom_objects\u001b[0m\u001b[0;34m,\u001b[0m \u001b[0mcompile\u001b[0m\u001b[0;34m)\u001b[0m\u001b[0;34m\u001b[0m\u001b[0;34m\u001b[0m\u001b[0m\n\u001b[0m\u001b[1;32m    147\u001b[0m \u001b[0;34m\u001b[0m\u001b[0m\n\u001b[1;32m    148\u001b[0m   \u001b[0;32mif\u001b[0m \u001b[0misinstance\u001b[0m\u001b[0;34m(\u001b[0m\u001b[0mfilepath\u001b[0m\u001b[0;34m,\u001b[0m \u001b[0msix\u001b[0m\u001b[0;34m.\u001b[0m\u001b[0mstring_types\u001b[0m\u001b[0;34m)\u001b[0m\u001b[0;34m:\u001b[0m\u001b[0;34m\u001b[0m\u001b[0;34m\u001b[0m\u001b[0m\n",
      "\u001b[0;32m~/anaconda3/envs/tensorflowenv/lib/python3.7/site-packages/tensorflow_core/python/keras/saving/hdf5_format.py\u001b[0m in \u001b[0;36mload_model_from_hdf5\u001b[0;34m(filepath, custom_objects, compile)\u001b[0m\n\u001b[1;32m    191\u001b[0m         \u001b[0;31m# weights.\u001b[0m\u001b[0;34m\u001b[0m\u001b[0;34m\u001b[0m\u001b[0;34m\u001b[0m\u001b[0m\n\u001b[1;32m    192\u001b[0m         \u001b[0;32mif\u001b[0m \u001b[0mmodel\u001b[0m\u001b[0;34m.\u001b[0m\u001b[0m_is_graph_network\u001b[0m\u001b[0;34m:\u001b[0m  \u001b[0;31m# pylint: disable=protected-access\u001b[0m\u001b[0;34m\u001b[0m\u001b[0;34m\u001b[0m\u001b[0m\n\u001b[0;32m--> 193\u001b[0;31m           \u001b[0mmodel\u001b[0m\u001b[0;34m.\u001b[0m\u001b[0m_make_train_function\u001b[0m\u001b[0;34m(\u001b[0m\u001b[0;34m)\u001b[0m\u001b[0;34m\u001b[0m\u001b[0;34m\u001b[0m\u001b[0m\n\u001b[0m\u001b[1;32m    194\u001b[0m           \u001b[0moptimizer_weight_values\u001b[0m \u001b[0;34m=\u001b[0m \u001b[0mload_optimizer_weights_from_hdf5_group\u001b[0m\u001b[0;34m(\u001b[0m\u001b[0mf\u001b[0m\u001b[0;34m)\u001b[0m\u001b[0;34m\u001b[0m\u001b[0;34m\u001b[0m\u001b[0m\n\u001b[1;32m    195\u001b[0m           \u001b[0;32mtry\u001b[0m\u001b[0;34m:\u001b[0m\u001b[0;34m\u001b[0m\u001b[0;34m\u001b[0m\u001b[0m\n",
      "\u001b[0;32m~/anaconda3/envs/tensorflowenv/lib/python3.7/site-packages/tensorflow_core/python/keras/engine/training.py\u001b[0m in \u001b[0;36m_make_train_function\u001b[0;34m(self)\u001b[0m\n\u001b[1;32m   2055\u001b[0m           \u001b[0;31m# Training updates\u001b[0m\u001b[0;34m\u001b[0m\u001b[0;34m\u001b[0m\u001b[0;34m\u001b[0m\u001b[0m\n\u001b[1;32m   2056\u001b[0m           updates = self.optimizer.get_updates(\n\u001b[0;32m-> 2057\u001b[0;31m               params=self._collected_trainable_weights, loss=self.total_loss)\n\u001b[0m\u001b[1;32m   2058\u001b[0m           \u001b[0;31m# Unconditional updates\u001b[0m\u001b[0;34m\u001b[0m\u001b[0;34m\u001b[0m\u001b[0;34m\u001b[0m\u001b[0m\n\u001b[1;32m   2059\u001b[0m           \u001b[0mupdates\u001b[0m \u001b[0;34m+=\u001b[0m \u001b[0mself\u001b[0m\u001b[0;34m.\u001b[0m\u001b[0mget_updates_for\u001b[0m\u001b[0;34m(\u001b[0m\u001b[0;32mNone\u001b[0m\u001b[0;34m)\u001b[0m\u001b[0;34m\u001b[0m\u001b[0;34m\u001b[0m\u001b[0m\n",
      "\u001b[0;32m~/anaconda3/envs/tensorflowenv/lib/python3.7/site-packages/tensorflow_core/python/keras/optimizer_v2/optimizer_v2.py\u001b[0m in \u001b[0;36mget_updates\u001b[0;34m(self, loss, params)\u001b[0m\n\u001b[1;32m    501\u001b[0m \u001b[0;34m\u001b[0m\u001b[0m\n\u001b[1;32m    502\u001b[0m   \u001b[0;32mdef\u001b[0m \u001b[0mget_updates\u001b[0m\u001b[0;34m(\u001b[0m\u001b[0mself\u001b[0m\u001b[0;34m,\u001b[0m \u001b[0mloss\u001b[0m\u001b[0;34m,\u001b[0m \u001b[0mparams\u001b[0m\u001b[0;34m)\u001b[0m\u001b[0;34m:\u001b[0m\u001b[0;34m\u001b[0m\u001b[0;34m\u001b[0m\u001b[0m\n\u001b[0;32m--> 503\u001b[0;31m     \u001b[0mgrads\u001b[0m \u001b[0;34m=\u001b[0m \u001b[0mself\u001b[0m\u001b[0;34m.\u001b[0m\u001b[0mget_gradients\u001b[0m\u001b[0;34m(\u001b[0m\u001b[0mloss\u001b[0m\u001b[0;34m,\u001b[0m \u001b[0mparams\u001b[0m\u001b[0;34m)\u001b[0m\u001b[0;34m\u001b[0m\u001b[0;34m\u001b[0m\u001b[0m\n\u001b[0m\u001b[1;32m    504\u001b[0m     \u001b[0mgrads_and_vars\u001b[0m \u001b[0;34m=\u001b[0m \u001b[0mlist\u001b[0m\u001b[0;34m(\u001b[0m\u001b[0mzip\u001b[0m\u001b[0;34m(\u001b[0m\u001b[0mgrads\u001b[0m\u001b[0;34m,\u001b[0m \u001b[0mparams\u001b[0m\u001b[0;34m)\u001b[0m\u001b[0;34m)\u001b[0m\u001b[0;34m\u001b[0m\u001b[0;34m\u001b[0m\u001b[0m\n\u001b[1;32m    505\u001b[0m     self._assert_valid_dtypes([\n",
      "\u001b[0;32m~/anaconda3/envs/tensorflowenv/lib/python3.7/site-packages/tensorflow_core/python/keras/optimizer_v2/optimizer_v2.py\u001b[0m in \u001b[0;36mget_gradients\u001b[0;34m(self, loss, params)\u001b[0m\n\u001b[1;32m    388\u001b[0m     with backend.get_graph().as_default(), backend.name_scope(self._name +\n\u001b[1;32m    389\u001b[0m                                                               \"/gradients\"):\n\u001b[0;32m--> 390\u001b[0;31m       \u001b[0mgrads\u001b[0m \u001b[0;34m=\u001b[0m \u001b[0mgradients\u001b[0m\u001b[0;34m.\u001b[0m\u001b[0mgradients\u001b[0m\u001b[0;34m(\u001b[0m\u001b[0mloss\u001b[0m\u001b[0;34m,\u001b[0m \u001b[0mparams\u001b[0m\u001b[0;34m)\u001b[0m\u001b[0;34m\u001b[0m\u001b[0;34m\u001b[0m\u001b[0m\n\u001b[0m\u001b[1;32m    391\u001b[0m       \u001b[0;32mfor\u001b[0m \u001b[0mgrad\u001b[0m\u001b[0;34m,\u001b[0m \u001b[0mparam\u001b[0m \u001b[0;32min\u001b[0m \u001b[0mzip\u001b[0m\u001b[0;34m(\u001b[0m\u001b[0mgrads\u001b[0m\u001b[0;34m,\u001b[0m \u001b[0mparams\u001b[0m\u001b[0;34m)\u001b[0m\u001b[0;34m:\u001b[0m\u001b[0;34m\u001b[0m\u001b[0;34m\u001b[0m\u001b[0m\n\u001b[1;32m    392\u001b[0m         \u001b[0;32mif\u001b[0m \u001b[0mgrad\u001b[0m \u001b[0;32mis\u001b[0m \u001b[0;32mNone\u001b[0m\u001b[0;34m:\u001b[0m\u001b[0;34m\u001b[0m\u001b[0;34m\u001b[0m\u001b[0m\n",
      "\u001b[0;32m~/anaconda3/envs/tensorflowenv/lib/python3.7/site-packages/tensorflow_core/python/ops/gradients_impl.py\u001b[0m in \u001b[0;36mgradients\u001b[0;34m(ys, xs, grad_ys, name, colocate_gradients_with_ops, gate_gradients, aggregation_method, stop_gradients, unconnected_gradients)\u001b[0m\n\u001b[1;32m    156\u001b[0m         \u001b[0mys\u001b[0m\u001b[0;34m,\u001b[0m \u001b[0mxs\u001b[0m\u001b[0;34m,\u001b[0m \u001b[0mgrad_ys\u001b[0m\u001b[0;34m,\u001b[0m \u001b[0mname\u001b[0m\u001b[0;34m,\u001b[0m \u001b[0mcolocate_gradients_with_ops\u001b[0m\u001b[0;34m,\u001b[0m\u001b[0;34m\u001b[0m\u001b[0;34m\u001b[0m\u001b[0m\n\u001b[1;32m    157\u001b[0m         \u001b[0mgate_gradients\u001b[0m\u001b[0;34m,\u001b[0m \u001b[0maggregation_method\u001b[0m\u001b[0;34m,\u001b[0m \u001b[0mstop_gradients\u001b[0m\u001b[0;34m,\u001b[0m\u001b[0;34m\u001b[0m\u001b[0;34m\u001b[0m\u001b[0m\n\u001b[0;32m--> 158\u001b[0;31m         unconnected_gradients)\n\u001b[0m\u001b[1;32m    159\u001b[0m   \u001b[0;31m# pylint: enable=protected-access\u001b[0m\u001b[0;34m\u001b[0m\u001b[0;34m\u001b[0m\u001b[0;34m\u001b[0m\u001b[0m\n\u001b[1;32m    160\u001b[0m \u001b[0;34m\u001b[0m\u001b[0m\n",
      "\u001b[0;32m~/anaconda3/envs/tensorflowenv/lib/python3.7/site-packages/tensorflow_core/python/ops/gradients_util.py\u001b[0m in \u001b[0;36m_GradientsHelper\u001b[0;34m(ys, xs, grad_ys, name, colocate_gradients_with_ops, gate_gradients, aggregation_method, stop_gradients, unconnected_gradients, src_graph)\u001b[0m\n\u001b[1;32m    549\u001b[0m     \u001b[0mstop_gradient_ops\u001b[0m \u001b[0;34m=\u001b[0m \u001b[0;34m[\u001b[0m\u001b[0mt\u001b[0m\u001b[0;34m.\u001b[0m\u001b[0mop\u001b[0m \u001b[0;32mfor\u001b[0m \u001b[0mt\u001b[0m \u001b[0;32min\u001b[0m \u001b[0mstop_gradients\u001b[0m\u001b[0;34m]\u001b[0m\u001b[0;34m\u001b[0m\u001b[0;34m\u001b[0m\u001b[0m\n\u001b[1;32m    550\u001b[0m     reachable_to_ops, pending_count, loop_state = _PendingCount(\n\u001b[0;32m--> 551\u001b[0;31m         to_ops, from_ops, colocate_gradients_with_ops, func_graphs, xs_set)\n\u001b[0m\u001b[1;32m    552\u001b[0m \u001b[0;34m\u001b[0m\u001b[0m\n\u001b[1;32m    553\u001b[0m     \u001b[0;31m# Iterate over the collected ops.\u001b[0m\u001b[0;34m\u001b[0m\u001b[0;34m\u001b[0m\u001b[0;34m\u001b[0m\u001b[0m\n",
      "\u001b[0;32m~/anaconda3/envs/tensorflowenv/lib/python3.7/site-packages/tensorflow_core/python/ops/gradients_util.py\u001b[0m in \u001b[0;36m_PendingCount\u001b[0;34m(to_ops, from_ops, colocate_gradients_with_ops, func_graphs, xs_set)\u001b[0m\n\u001b[1;32m     96\u001b[0m   \u001b[0;31m# Mark reachable ops from from_ops.\u001b[0m\u001b[0;34m\u001b[0m\u001b[0;34m\u001b[0m\u001b[0;34m\u001b[0m\u001b[0m\n\u001b[1;32m     97\u001b[0m   \u001b[0mreached_ops\u001b[0m \u001b[0;34m=\u001b[0m \u001b[0mset\u001b[0m\u001b[0;34m(\u001b[0m\u001b[0;34m)\u001b[0m\u001b[0;34m\u001b[0m\u001b[0;34m\u001b[0m\u001b[0m\n\u001b[0;32m---> 98\u001b[0;31m   \u001b[0m_MarkReachedOps\u001b[0m\u001b[0;34m(\u001b[0m\u001b[0mfrom_ops\u001b[0m\u001b[0;34m,\u001b[0m \u001b[0mreached_ops\u001b[0m\u001b[0;34m,\u001b[0m \u001b[0mfunc_graphs\u001b[0m\u001b[0;34m)\u001b[0m\u001b[0;34m\u001b[0m\u001b[0;34m\u001b[0m\u001b[0m\n\u001b[0m\u001b[1;32m     99\u001b[0m   \u001b[0;31m# X in reached_ops iff X is reachable from from_ops by a path of zero or more\u001b[0m\u001b[0;34m\u001b[0m\u001b[0;34m\u001b[0m\u001b[0;34m\u001b[0m\u001b[0m\n\u001b[1;32m    100\u001b[0m   \u001b[0;31m# backpropagatable tensors.\u001b[0m\u001b[0;34m\u001b[0m\u001b[0;34m\u001b[0m\u001b[0;34m\u001b[0m\u001b[0m\n",
      "\u001b[0;32m~/anaconda3/envs/tensorflowenv/lib/python3.7/site-packages/tensorflow_core/python/ops/gradients_util.py\u001b[0m in \u001b[0;36m_MarkReachedOps\u001b[0;34m(from_ops, reached_ops, func_graphs)\u001b[0m\n\u001b[1;32m     67\u001b[0m       \u001b[0;32mfor\u001b[0m \u001b[0moutput\u001b[0m \u001b[0;32min\u001b[0m \u001b[0mop\u001b[0m\u001b[0;34m.\u001b[0m\u001b[0moutputs\u001b[0m\u001b[0;34m:\u001b[0m\u001b[0;34m\u001b[0m\u001b[0;34m\u001b[0m\u001b[0m\n\u001b[1;32m     68\u001b[0m         \u001b[0;32mif\u001b[0m \u001b[0m_IsBackpropagatable\u001b[0m\u001b[0;34m(\u001b[0m\u001b[0moutput\u001b[0m\u001b[0;34m)\u001b[0m\u001b[0;34m:\u001b[0m\u001b[0;34m\u001b[0m\u001b[0;34m\u001b[0m\u001b[0m\n\u001b[0;32m---> 69\u001b[0;31m           \u001b[0mqueue\u001b[0m\u001b[0;34m.\u001b[0m\u001b[0mextend\u001b[0m\u001b[0;34m(\u001b[0m\u001b[0m_Consumers\u001b[0m\u001b[0;34m(\u001b[0m\u001b[0moutput\u001b[0m\u001b[0;34m,\u001b[0m \u001b[0mfunc_graphs\u001b[0m\u001b[0;34m)\u001b[0m\u001b[0;34m)\u001b[0m\u001b[0;34m\u001b[0m\u001b[0;34m\u001b[0m\u001b[0m\n\u001b[0m\u001b[1;32m     70\u001b[0m \u001b[0;34m\u001b[0m\u001b[0m\n\u001b[1;32m     71\u001b[0m \u001b[0;34m\u001b[0m\u001b[0m\n",
      "\u001b[0;32m~/anaconda3/envs/tensorflowenv/lib/python3.7/site-packages/tensorflow_core/python/ops/gradients_util.py\u001b[0m in \u001b[0;36m_Consumers\u001b[0;34m(t, func_graphs)\u001b[0m\n\u001b[1;32m    472\u001b[0m   \u001b[0;32mfor\u001b[0m \u001b[0mfunc\u001b[0m \u001b[0;32min\u001b[0m \u001b[0mfunc_graphs\u001b[0m\u001b[0;34m:\u001b[0m\u001b[0;34m\u001b[0m\u001b[0;34m\u001b[0m\u001b[0m\n\u001b[1;32m    473\u001b[0m     \u001b[0;32mfor\u001b[0m \u001b[0minput_t\u001b[0m\u001b[0;34m,\u001b[0m \u001b[0mplaceholder\u001b[0m \u001b[0;32min\u001b[0m \u001b[0m_Captures\u001b[0m\u001b[0;34m(\u001b[0m\u001b[0mfunc\u001b[0m\u001b[0;34m)\u001b[0m\u001b[0;34m:\u001b[0m\u001b[0;34m\u001b[0m\u001b[0;34m\u001b[0m\u001b[0m\n\u001b[0;32m--> 474\u001b[0;31m       \u001b[0;32mif\u001b[0m \u001b[0minput_t\u001b[0m \u001b[0;32mis\u001b[0m \u001b[0mt\u001b[0m\u001b[0;34m:\u001b[0m\u001b[0;34m\u001b[0m\u001b[0;34m\u001b[0m\u001b[0m\n\u001b[0m\u001b[1;32m    475\u001b[0m         \u001b[0mconsumers\u001b[0m\u001b[0;34m.\u001b[0m\u001b[0mextend\u001b[0m\u001b[0;34m(\u001b[0m\u001b[0m_Consumers\u001b[0m\u001b[0;34m(\u001b[0m\u001b[0mplaceholder\u001b[0m\u001b[0;34m,\u001b[0m \u001b[0mfunc_graphs\u001b[0m\u001b[0;34m)\u001b[0m\u001b[0;34m)\u001b[0m\u001b[0;34m\u001b[0m\u001b[0;34m\u001b[0m\u001b[0m\n\u001b[1;32m    476\u001b[0m   \u001b[0;32mreturn\u001b[0m \u001b[0mconsumers\u001b[0m\u001b[0;34m\u001b[0m\u001b[0;34m\u001b[0m\u001b[0m\n",
      "\u001b[0;31mKeyboardInterrupt\u001b[0m: "
     ]
    }
   ],
   "source": [
    "# Main pipelinhe\n",
    "\n",
    "# Variables\n",
    "day_of_testing = '2020-05-17'\n",
    "past_history = 36\n",
    "future_target = 6\n",
    "list_of_stations = list_stations()\n",
    "LSTM_A_list, LSTM_B_list, std_list = loading_models(list_of_stations)"
   ]
  },
  {
   "cell_type": "code",
   "execution_count": 74,
   "metadata": {},
   "outputs": [
    {
     "name": "stderr",
     "output_type": "stream",
     "text": [
      "100%|██████████| 1390/1390 [00:08<00:00, 168.45it/s]"
     ]
    },
    {
     "name": "stdout",
     "output_type": "stream",
     "text": [
      "error on  5005\n",
      "error on  5006\n",
      "error on  5007\n",
      "error on  5012\n",
      "error on  5014\n",
      "error on  5015\n",
      "error on  5016\n",
      "error on  5018\n",
      "error on  5019\n",
      "error on  5020\n",
      "error on  5021\n",
      "error on  5022\n",
      "error on  5024\n",
      "error on  5026\n",
      "error on  5027\n",
      "error on  5028\n",
      "error on  5029\n",
      "error on  5030\n",
      "error on  5031\n",
      "error on  5032\n",
      "error on  5033\n",
      "error on  5034\n",
      "error on  5105\n",
      "error on  5106\n",
      "error on  5107\n",
      "error on  5110\n",
      "error on  5114\n",
      "error on  5115\n",
      "error on  5116\n",
      "error on  5119\n",
      "error on  5121\n",
      "error on  5122\n",
      "error on  5123\n",
      "error on  5124\n",
      "error on  6001\n",
      "error on  6002\n",
      "error on  6003\n",
      "error on  6004\n",
      "error on  6005\n",
      "error on  6006\n",
      "error on  6007\n",
      "error on  6008\n",
      "error on  6009\n",
      "error on  6010\n",
      "error on  6012\n",
      "error on  6013\n",
      "error on  6014\n",
      "error on  6015\n",
      "error on  6016\n",
      "error on  6017\n",
      "error on  6018\n",
      "error on  6020\n",
      "error on  6021\n",
      "error on  6022\n",
      "error on  6024\n",
      "error on  6025\n",
      "error on  6026\n",
      "error on  6027\n",
      "error on  6028\n",
      "error on  6029\n",
      "error on  6030\n",
      "error on  6031\n",
      "error on  6032\n",
      "error on  6103\n",
      "error on  6104\n",
      "error on  6107\n",
      "error on  6108\n",
      "error on  7001\n",
      "error on  7002\n",
      "error on  7003\n",
      "error on  7004\n",
      "error on  7005\n",
      "error on  7006\n",
      "error on  7007\n",
      "error on  7008\n",
      "error on  7009\n",
      "error on  7010\n",
      "error on  7011\n",
      "error on  7012\n",
      "error on  7013\n",
      "error on  7014\n",
      "error on  7015\n",
      "error on  7016\n",
      "error on  7017\n",
      "error on  7018\n",
      "error on  7020\n",
      "error on  7021\n",
      "error on  7023\n",
      "error on  7024\n",
      "error on  7025\n",
      "error on  7026\n",
      "error on  7101\n",
      "error on  7102\n",
      "error on  7109\n",
      "error on  7110\n",
      "error on  7111\n",
      "error on  7112\n",
      "error on  7113\n",
      "error on  8001\n",
      "error on  8002\n",
      "error on  8003\n",
      "error on  8004\n",
      "error on  8007\n",
      "error on  8008\n",
      "error on  8009\n",
      "error on  8010\n",
      "error on  8011\n",
      "error on  8012\n",
      "error on  8013\n",
      "error on  8015\n",
      "error on  8016\n",
      "error on  8017\n",
      "error on  8018\n",
      "error on  8019\n",
      "error on  8020\n",
      "error on  8025\n",
      "error on  8026\n",
      "error on  8027\n",
      "error on  8028\n",
      "error on  8029\n",
      "error on  8031\n",
      "error on  8032\n",
      "error on  8033\n",
      "error on  8034\n",
      "error on  8035\n",
      "error on  8036\n",
      "error on  8037\n",
      "error on  8038\n",
      "error on  8039\n",
      "error on  8040\n",
      "error on  8044\n",
      "error on  8045\n",
      "error on  8046\n",
      "error on  8048\n",
      "error on  8049\n",
      "error on  8050\n",
      "error on  8051\n",
      "error on  8052\n",
      "error on  8053\n",
      "error on  8054\n",
      "error on  8055\n",
      "error on  8056\n",
      "error on  8057\n",
      "error on  8101\n",
      "error on  8102\n",
      "error on  8103\n",
      "error on  8104\n",
      "error on  8105\n",
      "error on  8110\n",
      "error on  8116\n",
      "error on  8117\n",
      "error on  8549\n",
      "error on  9001\n",
      "error on  9002\n",
      "error on  9004\n",
      "error on  9005\n",
      "error on  9006\n",
      "error on  9007\n",
      "error on  9008\n",
      "error on  9009\n",
      "error on  9010\n",
      "error on  9011\n",
      "error on  9012\n",
      "error on  9013\n",
      "error on  9014\n",
      "error on  9015\n",
      "error on  9016\n",
      "error on  9017\n",
      "error on  9019\n",
      "error on  9020\n",
      "error on  9021\n",
      "error on  9022\n",
      "error on  9023\n",
      "error on  9024\n",
      "error on  9025\n",
      "error on  9026\n",
      "error on  9027\n",
      "error on  9028\n",
      "error on  9029\n",
      "error on  9031\n",
      "error on  9032\n",
      "error on  9034\n",
      "error on  9035\n",
      "error on  9036\n",
      "error on  9037\n",
      "error on  9038\n",
      "error on  9039\n",
      "error on  9101\n",
      "error on  9102\n",
      "error on  9104\n",
      "error on  9106\n",
      "error on  9111\n",
      "error on  9113\n",
      "error on  9114\n",
      "error on  9115\n",
      "error on  9116\n",
      "error on  9117\n",
      "error on  9118\n",
      "error on  10001\n",
      "error on  10003\n",
      "error on  10004\n",
      "error on  10005\n",
      "error on  10006\n",
      "error on  10008\n",
      "error on  10009\n",
      "error on  10010\n",
      "error on  10011\n",
      "error on  10012\n",
      "error on  10013\n",
      "error on  10014\n",
      "error on  10015\n",
      "error on  10016\n",
      "error on  10017\n",
      "error on  10018\n",
      "error on  10019\n",
      "error on  10020\n",
      "error on  10021\n",
      "error on  10023\n",
      "error on  10024\n",
      "error on  10025\n",
      "error on  10026\n",
      "error on  10027\n",
      "error on  10028\n",
      "error on  10029\n",
      "error on  10031\n",
      "error on  10032\n",
      "error on  10033\n",
      "error on  10034\n",
      "error on  10036\n",
      "error on  10037\n",
      "error on  10038\n",
      "error on  10039\n",
      "error on  10041\n",
      "error on  10042\n",
      "error on  10105\n",
      "error on  10107\n",
      "error on  10110\n",
      "error on  10111\n",
      "error on  10113\n",
      "error on  10114\n",
      "error on  10115\n",
      "error on  10151\n",
      "error on  10152\n",
      "error on  10153\n",
      "error on  10161\n",
      "error on  10162\n",
      "error on  10163\n",
      "error on  10164\n",
      "error on  10165\n",
      "error on  10166\n",
      "error on  10201\n",
      "error on  11001\n",
      "error on  11002\n",
      "error on  11003\n",
      "error on  11004\n",
      "error on  11006\n",
      "error on  11007\n",
      "error on  11009\n",
      "error on  11010\n",
      "error on  11011\n",
      "error on  11012\n",
      "error on  11014\n",
      "error on  11016\n",
      "error on  11017\n",
      "error on  11018\n",
      "error on  11019\n",
      "error on  11020\n",
      "error on  11021\n",
      "error on  11022\n",
      "error on  11023\n",
      "error on  11024\n",
      "error on  11025\n",
      "error on  11026\n",
      "error on  11027\n",
      "error on  11028\n",
      "error on  11029\n",
      "error on  11030\n",
      "error on  11031\n",
      "error on  11032\n",
      "error on  11033\n",
      "error on  11034\n",
      "error on  11035\n",
      "error on  11036\n",
      "error on  11037\n",
      "error on  11038\n",
      "error on  11039\n",
      "error on  11040\n",
      "error on  11041\n",
      "error on  11042\n",
      "error on  11043\n",
      "error on  11044\n",
      "error on  11046\n",
      "error on  11047\n",
      "error on  11048\n",
      "error on  11101\n",
      "error on  11102\n",
      "error on  11103\n",
      "error on  11104\n",
      "error on  11105\n",
      "error on  11107\n",
      "error on  11109\n",
      "error on  11110\n",
      "error on  11111\n",
      "error on  11112\n",
      "error on  11113\n",
      "error on  11114\n",
      "error on  11115\n",
      "error on  11116\n",
      "error on  12001\n",
      "error on  12002\n",
      "error on  12004\n",
      "error on  12005\n",
      "error on  12006\n",
      "error on  12007\n",
      "error on  12008\n",
      "error on  12009\n",
      "error on  12010\n",
      "error on  12011\n",
      "error on  12013\n",
      "error on  12015\n",
      "error on  12016\n",
      "error on  12017\n",
      "error on  12018\n",
      "error on  12019\n",
      "error on  12020\n",
      "error on  12022\n",
      "error on  12024\n",
      "error on  12026\n",
      "error on  12027\n",
      "error on  12028\n",
      "error on  12029\n",
      "error on  12030\n",
      "error on  12031\n",
      "error on  12032\n",
      "error on  12033\n",
      "error on  12034\n",
      "error on  12035\n",
      "error on  12036\n",
      "error on  12037\n",
      "error on  12038\n",
      "error on  12039\n",
      "error on  12040\n",
      "error on  12041\n",
      "error on  12043\n",
      "error on  12101\n",
      "error on  12102\n",
      "error on  12105\n",
      "error on  12106\n",
      "error on  12107\n",
      "error on  12108\n",
      "error on  12109\n",
      "error on  12111\n",
      "error on  12112\n",
      "error on  12113\n",
      "error on  12114\n",
      "error on  12115\n",
      "error on  12119\n",
      "error on  12120\n",
      "error on  12122\n",
      "error on  12123\n",
      "error on  12125\n",
      "error on  12126\n",
      "error on  12127\n",
      "error on  12128\n",
      "error on  12129\n",
      "error on  12150\n",
      "error on  12151\n",
      "error on  12153\n",
      "error on  12154\n",
      "error on  12155\n",
      "error on  12156\n",
      "error on  12157\n",
      "error on  12161\n",
      "error on  12163\n",
      "error on  12164\n",
      "error on  12165\n",
      "error on  12166\n",
      "error on  13001\n",
      "error on  13002\n",
      "error on  13005\n",
      "error on  13006\n",
      "error on  13007\n",
      "error on  13008\n",
      "error on  13009\n",
      "error on  13010\n",
      "error on  13011\n",
      "error on  13013\n",
      "error on  13014\n",
      "error on  13015\n",
      "error on  13016\n",
      "error on  13017\n",
      "error on  13018\n",
      "error on  13019\n",
      "error on  13020\n",
      "error on  13021\n",
      "error on  13022\n",
      "error on  13023\n",
      "error on  13024\n",
      "error on  13025\n",
      "error on  13026\n",
      "error on  13027\n",
      "error on  13028\n",
      "error on  13030\n",
      "error on  13032\n",
      "error on  13033\n",
      "error on  13035\n",
      "error on  13036\n",
      "error on  13037\n",
      "error on  13038\n",
      "error on  13039\n",
      "error on  13041\n",
      "error on  13043\n",
      "error on  13044\n",
      "error on  13045\n",
      "error on  13046\n",
      "error on  13047\n",
      "error on  13048\n",
      "error on  13049\n",
      "error on  13050\n",
      "error on  13051\n",
      "error on  13052\n",
      "error on  13053\n",
      "error on  13054\n",
      "error on  13055\n",
      "error on  13101\n",
      "error on  13102\n",
      "error on  13103\n",
      "error on  13104\n",
      "error on  13106\n",
      "error on  13109\n",
      "error on  13110\n",
      "error on  13113\n",
      "error on  13114\n",
      "error on  13116\n",
      "error on  13117\n",
      "error on  13118\n",
      "error on  13120\n",
      "error on  13121\n",
      "error on  13122\n",
      "error on  13123\n",
      "error on  13125\n",
      "error on  13126\n",
      "error on  13128\n",
      "error on  13515\n",
      "error on  13516\n",
      "error on  14001\n",
      "error on  14002\n",
      "error on  14003\n",
      "error on  14004\n",
      "error on  14005\n",
      "error on  14006\n",
      "error on  14007\n",
      "error on  14008\n",
      "error on  14009\n",
      "error on  14010\n",
      "error on  14011\n",
      "error on  14012\n",
      "error on  14013\n",
      "error on  14014\n",
      "error on  14016\n",
      "error on  14018\n",
      "error on  14019\n",
      "error on  14020\n",
      "error on  14021\n",
      "error on  14022\n",
      "error on  14023\n",
      "error on  14025\n",
      "error on  14026\n",
      "error on  14027\n",
      "error on  14028\n",
      "error on  14030\n",
      "error on  14031\n",
      "error on  14032\n",
      "error on  14034\n",
      "error on  14035\n",
      "error on  14036\n",
      "error on  14101\n",
      "error on  14103\n",
      "error on  14104\n",
      "error on  14106\n",
      "error on  14108\n",
      "error on  14110\n",
      "error on  14111\n",
      "error on  14112\n",
      "error on  14113\n",
      "error on  14116\n",
      "error on  14117\n",
      "error on  14122\n",
      "error on  14124\n",
      "error on  14125\n",
      "error on  14127\n",
      "error on  14128\n",
      "error on  14130\n",
      "error on  14131\n",
      "error on  14132\n",
      "error on  14133\n",
      "error on  14134\n",
      "error on  14135\n",
      "error on  14136\n",
      "error on  14137\n",
      "error on  14138\n",
      "error on  14139\n",
      "error on  15001\n",
      "error on  15002\n",
      "error on  15003\n",
      "error on  15004\n",
      "error on  15005\n",
      "error on  15006\n",
      "error on  15008\n",
      "error on  15009\n",
      "error on  15010\n",
      "error on  15011\n",
      "error on  15012\n",
      "error on  15013\n",
      "error on  15014\n",
      "error on  15017\n",
      "error on  15018\n",
      "error on  15019\n",
      "error on  15020\n",
      "error on  15021\n",
      "error on  15022\n",
      "error on  15023\n",
      "error on  15024\n",
      "error on  15025\n",
      "error on  15026\n",
      "error on  15027\n",
      "error on  15028\n",
      "error on  15029\n",
      "error on  15030\n",
      "error on  15031\n",
      "error on  15032\n",
      "error on  15033\n",
      "error on  15034\n",
      "error on  15035\n",
      "error on  15036\n",
      "error on  15038\n",
      "error on  15039\n",
      "error on  15040\n",
      "error on  15041\n",
      "error on  15042\n",
      "error on  15043\n",
      "error on  15044\n",
      "error on  15045\n",
      "error on  15046\n",
      "error on  15047\n",
      "error on  15049\n",
      "error on  15050\n",
      "error on  15052\n",
      "error on  15053\n",
      "error on  15054\n",
      "error on  15055\n",
      "error on  15056\n",
      "error on  15057\n",
      "error on  15058\n",
      "error on  15059\n",
      "error on  15060\n",
      "error on  15061\n",
      "error on  15062\n",
      "error on  15063\n",
      "error on  15064\n",
      "error on  15067\n",
      "error on  15068\n",
      "error on  15069\n",
      "error on  15070\n",
      "error on  15071\n",
      "error on  15072\n",
      "error on  15102\n",
      "error on  15103\n",
      "error on  15104\n",
      "error on  15105\n",
      "error on  15106\n",
      "error on  15107\n",
      "error on  15108\n",
      "error on  15109\n",
      "error on  15110\n",
      "error on  15111\n",
      "error on  15112\n",
      "error on  15113\n",
      "error on  15114\n",
      "error on  15120\n",
      "error on  15122\n",
      "error on  15123\n",
      "error on  15125\n",
      "error on  15126\n",
      "error on  15127\n",
      "error on  15128\n",
      "error on  15129\n",
      "error on  15131\n",
      "error on  15132\n",
      "error on  15133\n",
      "error on  15201\n",
      "error on  15311\n",
      "error on  16001\n",
      "error on  16002\n",
      "error on  16003\n",
      "error on  16004\n",
      "error on  16005\n",
      "error on  16006\n",
      "error on  16007\n",
      "error on  16008\n",
      "error on  16009\n",
      "error on  16010\n",
      "error on  16011\n",
      "error on  16012\n",
      "error on  16013\n",
      "error on  16014\n",
      "error on  16015\n",
      "error on  16016\n",
      "error on  16017\n",
      "error on  16018\n",
      "error on  16019\n",
      "error on  16020\n",
      "error on  16021\n",
      "error on  16022\n",
      "error on  16023\n",
      "error on  16024\n",
      "error on  16025\n",
      "error on  16026\n",
      "error on  16027\n",
      "error on  16029\n",
      "error on  16030\n",
      "error on  16031\n",
      "error on  16032\n",
      "error on  16033\n",
      "error on  16034\n",
      "error on  16036\n",
      "error on  16037\n",
      "error on  16038\n",
      "error on  16039\n",
      "error on  16040\n",
      "error on  16041\n",
      "error on  16042\n",
      "error on  16043\n",
      "error on  16044\n",
      "error on  16101\n",
      "error on  16102\n",
      "error on  16103\n",
      "error on  16104\n",
      "error on  16105\n",
      "error on  16107\n",
      "error on  16108\n",
      "error on  16110\n",
      "error on  16111\n",
      "error on  16112\n",
      "error on  16115\n",
      "error on  16116\n",
      "error on  16118\n",
      "error on  16121\n",
      "error on  16122\n",
      "error on  16123\n",
      "error on  16124\n",
      "error on  16129\n",
      "error on  16136\n",
      "error on  16138\n",
      "error on  16139\n",
      "error on  16140\n",
      "error on  17001\n",
      "error on  17003\n",
      "error on  17004\n",
      "error on  17005\n",
      "error on  17006\n",
      "error on  17007\n",
      "error on  17008\n",
      "error on  17009\n",
      "error on  17010\n",
      "error on  17011\n",
      "error on  17012\n",
      "error on  17013\n",
      "error on  17015\n",
      "error on  17016\n",
      "error on  17017\n",
      "error on  17018\n",
      "error on  17019\n",
      "error on  17020\n",
      "error on  17021\n",
      "error on  17022\n",
      "error on  17023\n",
      "error on  17024\n",
      "error on  17025\n",
      "error on  17026\n",
      "error on  17027\n",
      "error on  17028\n",
      "error on  17029\n",
      "error on  17030\n",
      "error on  17031\n",
      "error on  17032\n",
      "error on  17033\n",
      "error on  17036\n",
      "error on  17037\n",
      "error on  17038\n",
      "error on  17039\n",
      "error on  17040\n",
      "error on  17041\n",
      "error on  17042\n",
      "error on  17043\n",
      "error on  17044\n",
      "error on  17045\n",
      "error on  17046\n",
      "error on  17047\n",
      "error on  17048\n",
      "error on  17050\n",
      "error on  17102\n",
      "error on  17104\n",
      "error on  17105\n",
      "error on  17106\n",
      "error on  17107\n",
      "error on  17108\n",
      "error on  17110\n",
      "error on  17111\n",
      "error on  17116\n",
      "error on  17117\n",
      "error on  17119\n",
      "error on  17121\n",
      "error on  17122\n",
      "error on  17123\n",
      "error on  17124\n",
      "error on  17125\n",
      "error on  18001\n",
      "error on  18003\n",
      "error on  18004\n",
      "error on  18005\n",
      "error on  18006\n",
      "error on  18007\n",
      "error on  18008\n",
      "error on  18009\n",
      "error on  18010\n",
      "error on  18011\n",
      "error on  18012\n",
      "error on  18014\n",
      "error on  18015\n",
      "error on  18016\n",
      "error on  18017\n",
      "error on  18018\n",
      "error on  18019\n",
      "error on  18020\n",
      "error on  18021\n",
      "error on  18022\n",
      "error on  18023\n",
      "error on  18024\n",
      "error on  18025\n",
      "error on  18026\n",
      "error on  18027\n",
      "error on  18028\n",
      "error on  18029\n",
      "error on  18030\n",
      "error on  18031\n",
      "error on  18032\n",
      "error on  18033\n",
      "error on  18034\n",
      "error on  18035\n",
      "error on  18038\n",
      "error on  18039\n",
      "error on  18041\n",
      "error on  18042\n",
      "error on  18043\n",
      "error on  18044\n",
      "error on  18045\n",
      "error on  18046\n",
      "error on  18047\n",
      "error on  18049\n",
      "error on  18101\n",
      "error on  18107\n",
      "error on  18108\n",
      "error on  18109\n",
      "error on  18110\n",
      "error on  18111\n",
      "error on  18112\n",
      "error on  18113\n",
      "error on  18114\n",
      "error on  18134\n",
      "error on  18135\n",
      "error on  18136\n",
      "error on  18137\n",
      "error on  18138\n",
      "error on  18139\n",
      "error on  18140\n",
      "error on  18141\n",
      "error on  18142\n",
      "error on  19001\n",
      "error on  19002\n",
      "error on  19003\n",
      "error on  19004\n",
      "error on  19005\n",
      "error on  19006\n",
      "error on  19007\n",
      "error on  19008\n",
      "error on  19009\n",
      "error on  19010\n",
      "error on  19012\n",
      "error on  19013\n",
      "error on  19014\n",
      "error on  19015\n",
      "error on  19016\n",
      "error on  19018\n",
      "error on  19019\n",
      "error on  19021\n",
      "error on  19022\n",
      "error on  19023\n",
      "error on  19024\n",
      "error on  19025\n",
      "error on  19026\n",
      "error on  19027\n",
      "error on  19029\n",
      "error on  19030\n",
      "error on  19031\n",
      "error on  19032\n",
      "error on  19033\n",
      "error on  19034\n",
      "error on  19036\n",
      "error on  19037\n",
      "error on  19038\n",
      "error on  19039\n",
      "error on  19040\n",
      "error on  19041\n",
      "error on  19043\n",
      "error on  19044\n",
      "error on  19045\n",
      "error on  19046\n",
      "error on  19101\n",
      "error on  19102\n",
      "error on  19103\n",
      "error on  19105\n",
      "error on  19108\n",
      "error on  19109\n",
      "error on  19110\n",
      "error on  19111\n",
      "error on  19113\n",
      "error on  19114\n",
      "error on  19115\n",
      "error on  19117\n",
      "error on  19118\n",
      "error on  19119\n",
      "error on  19120\n",
      "error on  19121\n",
      "error on  19123\n",
      "error on  19124\n",
      "error on  19125\n",
      "error on  19127\n",
      "error on  19128\n",
      "error on  19129\n",
      "error on  19130\n",
      "error on  19201\n",
      "error on  20001\n",
      "error on  20002\n",
      "error on  20003\n",
      "error on  20004\n",
      "error on  20005\n",
      "error on  20006\n",
      "error on  20007\n",
      "error on  20008\n",
      "error on  20009\n",
      "error on  20010\n",
      "error on  20011\n",
      "error on  20012\n",
      "error on  20013\n",
      "error on  20014\n",
      "error on  20015\n",
      "error on  20016\n",
      "error on  20017\n",
      "error on  20019\n",
      "error on  20020\n",
      "error on  20021\n",
      "error on  20022\n",
      "error on  20023\n",
      "error on  20024\n",
      "error on  20026\n",
      "error on  20027\n",
      "error on  20029\n",
      "error on  20030\n",
      "error on  20032\n",
      "error on  20033\n",
      "error on  20034\n",
      "error on  20035\n",
      "error on  20036\n",
      "error on  20037\n",
      "error on  20039\n",
      "error on  20040\n",
      "error on  20042\n",
      "error on  20043\n",
      "error on  20044\n",
      "error on  20045\n",
      "error on  20047\n",
      "error on  20048\n",
      "error on  20103\n",
      "error on  20104\n",
      "error on  20105\n",
      "error on  20106\n",
      "error on  20108\n",
      "error on  20109\n",
      "error on  20110\n",
      "error on  20111\n",
      "error on  20112\n",
      "error on  20113\n",
      "error on  20115\n",
      "error on  20116\n",
      "error on  20117\n",
      "error on  20118\n",
      "error on  20119\n",
      "error on  20120\n",
      "error on  20121\n",
      "error on  20122\n",
      "error on  20131\n",
      "error on  20132\n",
      "error on  20134\n",
      "error on  20136\n",
      "error on  20137\n",
      "error on  20140\n",
      "error on  20142\n",
      "error on  20143\n",
      "error on  20201\n",
      "error on  21001\n",
      "error on  21002\n",
      "error on  21003\n",
      "error on  21004\n",
      "error on  21005\n",
      "error on  21006\n",
      "error on  21007\n",
      "error on  21008\n",
      "error on  21009\n",
      "error on  21010\n",
      "error on  21011\n",
      "error on  21013\n",
      "error on  21014\n",
      "error on  21015\n",
      "error on  21016\n",
      "error on  21017\n",
      "error on  21019\n",
      "error on  21021\n",
      "error on  21022\n",
      "error on  21023\n",
      "error on  21024\n",
      "error on  21026\n",
      "error on  21027\n",
      "error on  21028\n",
      "error on  21029\n",
      "error on  21030\n",
      "error on  21031\n",
      "error on  21032\n",
      "error on  21104\n",
      "error on  21105\n",
      "error on  21107\n",
      "error on  21108\n",
      "error on  21109\n",
      "error on  21110\n",
      "error on  21111\n",
      "error on  21112\n",
      "error on  21114\n",
      "error on  21115\n",
      "error on  21118\n",
      "error on  21119\n",
      "error on  21203\n",
      "error on  21204\n",
      "error on  21205\n",
      "error on  21207\n",
      "error on  21209\n",
      "error on  21212\n",
      "error on  21213\n",
      "error on  21215\n",
      "error on  21216\n",
      "error on  21217\n",
      "error on  21219\n",
      "error on  21301\n",
      "error on  21302\n",
      "error on  21303\n",
      "error on  21305\n",
      "error on  21306\n",
      "error on  21307\n",
      "error on  21308\n",
      "error on  21309\n",
      "error on  21310\n",
      "error on  21311\n",
      "error on  21312\n",
      "error on  21313\n",
      "error on  21314\n",
      "error on  21315\n",
      "error on  21316\n",
      "error on  21319\n",
      "error on  21401\n",
      "error on  21402\n",
      "error on  21403\n",
      "error on  21501\n",
      "error on  21502\n",
      "error on  21505\n",
      "error on  21506\n",
      "error on  21507\n",
      "error on  21701\n",
      "error on  21702\n",
      "error on  21703\n",
      "error on  21704\n",
      "error on  21706\n",
      "error on  21707\n",
      "error on  21708\n",
      "error on  21951\n",
      "error on  21952\n",
      "error on  21953\n",
      "error on  21954\n",
      "error on  22001\n",
      "error on  22002\n",
      "error on  22003\n",
      "error on  22005\n",
      "error on  22006\n",
      "error on  22007\n",
      "error on  22008\n",
      "error on  22009\n",
      "error on  22010\n",
      "error on  22012\n",
      "error on  22013\n",
      "error on  22014\n",
      "error on  22015\n",
      "error on  22016\n",
      "error on  22101\n",
      "error on  22102\n",
      "error on  22103\n",
      "error on  22201\n",
      "error on  22202\n",
      "error on  22203\n",
      "error on  22206\n",
      "error on  22207\n",
      "error on  22301\n",
      "error on  22303\n",
      "error on  22401\n",
      "error on  22402\n",
      "error on  22403\n",
      "error on  22404\n",
      "error on  22406\n",
      "error on  22408\n",
      "error on  22409\n",
      "error on  22501\n",
      "error on  22502\n",
      "error on  22503\n",
      "error on  22504\n",
      "error on  22505\n",
      "error on  22506\n",
      "error on  22601\n",
      "error on  22603\n",
      "error on  22604\n",
      "error on  23001\n",
      "error on  23002\n",
      "error on  23003\n",
      "error on  23004\n",
      "error on  23005\n",
      "error on  23006\n",
      "error on  23007\n",
      "error on  23008\n",
      "error on  23009\n",
      "error on  23010\n",
      "error on  23011\n",
      "error on  23041\n",
      "error on  23042\n",
      "error on  23101\n",
      "error on  23102\n",
      "error on  23103\n",
      "error on  23301\n",
      "error on  23302\n",
      "error on  23303\n",
      "error on  23701\n",
      "error on  23702\n",
      "error on  23703\n",
      "error on  24001\n",
      "error on  24002\n",
      "error on  24003\n",
      "error on  24004\n",
      "error on  24005\n",
      "error on  24006\n",
      "error on  24007\n",
      "error on  25001\n",
      "error on  25002\n",
      "error on  25003\n",
      "error on  25004\n",
      "error on  25005\n",
      "error on  25006\n",
      "error on  26001\n",
      "error on  26002\n",
      "error on  26003\n",
      "error on  26004\n",
      "error on  26005\n",
      "error on  26006\n",
      "error on  26007\n",
      "error on  27001\n",
      "error on  27002\n",
      "error on  27004\n",
      "error on  27005\n",
      "error on  27006\n",
      "error on  28001\n",
      "error on  31001\n",
      "error on  31003\n",
      "error on  31005\n",
      "error on  31007\n",
      "error on  31008\n",
      "error on  31009\n",
      "error on  31010\n",
      "error on  31012\n",
      "error on  31013\n",
      "error on  31016\n",
      "error on  31017\n",
      "error on  31018\n",
      "error on  31019\n",
      "error on  31020\n",
      "error on  31021\n",
      "error on  31022\n",
      "error on  31023\n",
      "error on  31024\n",
      "error on  31025\n",
      "error on  31026\n",
      "error on  31027\n",
      "error on  31101\n",
      "error on  31102\n",
      "error on  31103\n",
      "error on  31104\n",
      "error on  31105\n",
      "error on  31701\n",
      "error on  31702\n",
      "error on  31703\n",
      "error on  31704\n",
      "error on  31705\n",
      "error on  31706\n",
      "error on  31707\n",
      "error on  31708\n",
      "error on  31709\n",
      "error on  32001\n",
      "error on  32003\n",
      "error on  32004\n",
      "error on  32010\n",
      "error on  32011\n",
      "error on  32012\n",
      "error on  32013\n",
      "error on  32014\n",
      "error on  32015\n",
      "error on  32016\n",
      "error on  32017\n",
      "error on  32018\n",
      "error on  32019\n",
      "error on  32020\n",
      "error on  32021\n",
      "error on  32301\n",
      "error on  32302\n",
      "error on  32303\n",
      "error on  32601\n",
      "error on  32602\n",
      "error on  32603\n",
      "error on  32604\n",
      "error on  33001\n",
      "error on  33003\n",
      "error on  33005\n",
      "error on  33006\n",
      "error on  33009\n",
      "error on  33012\n",
      "error on  33014\n",
      "error on  33015\n",
      "error on  33016\n",
      "error on  33017\n",
      "error on  33018\n",
      "error on  33019\n",
      "error on  33020\n",
      "error on  33102\n",
      "error on  33103\n",
      "error on  33104\n",
      "error on  35001\n",
      "error on  35002\n",
      "error on  35003\n",
      "error on  35004\n",
      "error on  35005\n",
      "error on  35006\n",
      "error on  35007\n",
      "error on  35008\n",
      "error on  35009\n",
      "error on  35010\n",
      "error on  35011\n",
      "error on  35012\n",
      "error on  35013\n",
      "error on  35014\n",
      "error on  35015\n",
      "error on  35017\n",
      "error on  35018\n",
      "error on  35019\n",
      "error on  35020\n",
      "error on  41101\n",
      "error on  41102\n",
      "error on  41103\n",
      "error on  41202\n",
      "error on  41203\n",
      "error on  41204\n",
      "error on  41205\n",
      "error on  41206\n",
      "error on  41207\n",
      "error on  41208\n",
      "error on  41209\n",
      "error on  41210\n",
      "error on  41211\n",
      "error on  41301\n",
      "error on  41302\n",
      "error on  41303\n",
      "error on  41401\n",
      "error on  41402\n",
      "error on  41403\n",
      "error on  41404\n",
      "error on  41405\n",
      "error on  41601\n",
      "error on  41602\n",
      "error on  41604\n",
      "error on  41605\n",
      "error on  41606\n",
      "error on  42003\n",
      "error on  42004\n",
      "error on  42010\n",
      "error on  42011\n",
      "error on  42014\n",
      "error on  42015\n",
      "error on  42016\n",
      "error on  42018\n",
      "error on  42019\n",
      "error on  42021\n",
      "error on  42022\n",
      "error on  42023\n",
      "error on  42024\n",
      "error on  42026\n",
      "error on  42027\n",
      "error on  42028\n",
      "error on  42029\n",
      "error on  42205\n",
      "error on  42207\n",
      "error on  42209\n",
      "error on  42301\n",
      "error on  42302\n",
      "error on  42303\n",
      "error on  42304\n",
      "error on  42305\n",
      "error on  42501\n",
      "error on  42503\n",
      "error on  42504\n",
      "error on  42505\n",
      "error on  42701\n",
      "error on  42703\n",
      "error on  42704\n",
      "error on  42706\n",
      "error on  42707\n",
      "error on  43001\n",
      "error on  43002\n",
      "error on  43003\n",
      "error on  43004\n",
      "error on  43005\n",
      "error on  43006\n",
      "error on  43007\n",
      "error on  43008\n",
      "error on  43009\n",
      "error on  43010\n",
      "error on  43401\n",
      "error on  43402\n",
      "error on  44001\n",
      "error on  44002\n",
      "error on  44003\n",
      "error on  44004\n",
      "error on  44005\n",
      "error on  44006\n",
      "error on  44007\n",
      "error on  44008\n",
      "error on  44009\n",
      "error on  44010\n",
      "error on  44011\n",
      "error on  44012\n",
      "error on  44013\n",
      "error on  44014\n",
      "error on  44016\n",
      "error on  44017\n",
      "error on  44101\n",
      "error on  44102\n",
      "error on  44103\n",
      "error on  45001\n",
      "error on  45002\n",
      "error on  45003\n",
      "error on  45004\n",
      "error on  46001\n",
      "error on  46002\n",
      "error on  46003\n",
      "error on  47001\n",
      "error on  47002\n",
      "error on  47003\n",
      "error on  47004\n",
      "error on  47005\n",
      "error on  47006\n",
      "error on  47007\n",
      "error on  48002\n",
      "error on  48003\n",
      "error on  48004\n",
      "error on  48005\n",
      "error on  48006\n",
      "error on  48007\n",
      "error on  48008\n",
      "error on  48009\n",
      "error on  48010\n",
      "error on  48012\n",
      "error on  51001\n",
      "error on  51002\n",
      "error on  51003\n"
     ]
    },
    {
     "name": "stderr",
     "output_type": "stream",
     "text": [
      "\n"
     ]
    }
   ],
   "source": [
    "# Request for each minutes\n",
    "df_prediction = create_result_df()\n",
    "\n",
    "for station_index in tqdm(range(len(list_of_stations))):\n",
    "    \n",
    "    # Std Scaling\n",
    "    try:\n",
    "        input_data = std_list[station_index].transform(df_prediction[df_prediction.index == list_of_stations[station_index]][\"last_observations\"].iloc[0].reshape(-1, 1))[-36:]\n",
    "        df_prediction.loc[list_of_stations[station_index]]['Model_A'] = std_list[station_index].inverse_transform(LSTM_A_list[station_index].predict(input_data.reshape(1,past_history,1))[0])\n",
    "        df_prediction.loc[list_of_stations[station_index]]['Model_B'] = std_list[station_index].inverse_transform(LSTM_B_list[station_index].predict(input_data.reshape(1,past_history,1))[0])\n",
    "    \n",
    "    except:\n",
    "        print('error on ', list_of_stations[station_index])"
   ]
  },
  {
   "cell_type": "code",
   "execution_count": 75,
   "metadata": {},
   "outputs": [
    {
     "data": {
      "text/html": [
       "<div>\n",
       "<style scoped>\n",
       "    .dataframe tbody tr th:only-of-type {\n",
       "        vertical-align: middle;\n",
       "    }\n",
       "\n",
       "    .dataframe tbody tr th {\n",
       "        vertical-align: top;\n",
       "    }\n",
       "\n",
       "    .dataframe thead th {\n",
       "        text-align: right;\n",
       "    }\n",
       "</style>\n",
       "<table border=\"1\" class=\"dataframe\">\n",
       "  <thead>\n",
       "    <tr style=\"text-align: right;\">\n",
       "      <th></th>\n",
       "      <th>last_observations</th>\n",
       "      <th>Model_A</th>\n",
       "      <th>Model_B</th>\n",
       "    </tr>\n",
       "    <tr>\n",
       "      <th>station_id</th>\n",
       "      <th></th>\n",
       "      <th></th>\n",
       "      <th></th>\n",
       "    </tr>\n",
       "  </thead>\n",
       "  <tbody>\n",
       "    <tr>\n",
       "      <th>1001</th>\n",
       "      <td>[9, 10, 9, 9, 9, 9, 9, 10, 10, 10, 10, 11, 12,...</td>\n",
       "      <td>[12.66375, 12.660907, 12.4789915, 12.383468, 1...</td>\n",
       "      <td>[11.500524, 11.3997755, 11.07311, 10.718708, 1...</td>\n",
       "    </tr>\n",
       "    <tr>\n",
       "      <th>1002</th>\n",
       "      <td>[18, 17, 18, 17, 17, 17, 17, 17, 19, 18, 16, 1...</td>\n",
       "      <td>[18.170195, 18.338757, 17.632637, 18.05055, 17...</td>\n",
       "      <td>[18.530306, 18.421873, 18.429464, 18.161253, 1...</td>\n",
       "    </tr>\n",
       "    <tr>\n",
       "      <th>1003</th>\n",
       "      <td>[11, 12, 12, 13, 12, 11, 10, 11, 11, 11, 11, 1...</td>\n",
       "      <td>[10.0383415, 10.091817, 9.988523, 9.981813, 9....</td>\n",
       "      <td>[10.186918, 10.149399, 10.131946, 10.038137, 9...</td>\n",
       "    </tr>\n",
       "    <tr>\n",
       "      <th>1006</th>\n",
       "      <td>[11, 11, 11, 12, 12, 12, 12, 12, 14, 14, 14, 1...</td>\n",
       "      <td>[26.290173, 26.506285, 26.81851, 26.455334, 27...</td>\n",
       "      <td>[25.306273, 24.671099, 24.68047, 24.70189, 24....</td>\n",
       "    </tr>\n",
       "    <tr>\n",
       "      <th>1007</th>\n",
       "      <td>[16, 15, 12, 11, 11, 12, 13, 12, 12, 13, 14, 1...</td>\n",
       "      <td>[3.510119, 3.5608177, 3.7118673, 3.6909924, 3....</td>\n",
       "      <td>[3.6064725, 3.7835135, 3.948731, 3.9097276, 4....</td>\n",
       "    </tr>\n",
       "    <tr>\n",
       "      <th>1008</th>\n",
       "      <td>[7, 7, 8, 8, 8, 10, 10, 10, 10, 11, 11, 11, 11...</td>\n",
       "      <td>[11.527034, 11.522462, 11.146344, 10.96505, 10...</td>\n",
       "      <td>[12.716721, 12.405582, 12.582677, 12.38475, 12...</td>\n",
       "    </tr>\n",
       "    <tr>\n",
       "      <th>1012</th>\n",
       "      <td>[14, 14, 14, 14, 14, 14, 14, 14, 14, 12, 13, 1...</td>\n",
       "      <td>[11.745317, 11.876173, 11.577536, 11.593897, 1...</td>\n",
       "      <td>[11.708706, 11.6625805, 11.656271, 11.64133, 1...</td>\n",
       "    </tr>\n",
       "    <tr>\n",
       "      <th>1013</th>\n",
       "      <td>[26, 26, 26, 26, 23, 23, 23, 24, 26, 25, 25, 2...</td>\n",
       "      <td>[20.933271, 20.748196, 21.139067, 20.750004, 2...</td>\n",
       "      <td>[22.08653, 21.652395, 21.51812, 21.523294, 20....</td>\n",
       "    </tr>\n",
       "    <tr>\n",
       "      <th>1014</th>\n",
       "      <td>[21, 21, 21, 21, 20, 21, 21, 21, 21, 21, 21, 2...</td>\n",
       "      <td>[17.691317, 17.568317, 17.580496, 17.390985, 1...</td>\n",
       "      <td>[17.391575, 17.225819, 17.063158, 17.037117, 1...</td>\n",
       "    </tr>\n",
       "    <tr>\n",
       "      <th>1015</th>\n",
       "      <td>[12, 11, 11, 11, 8, 8, 9, 9, 6, 6, 5, 5, 5, 5,...</td>\n",
       "      <td>[6.53074, 6.502069, 6.4508452, 6.382672, 6.422...</td>\n",
       "      <td>[5.933463, 5.8596587, 5.9030647, 5.959286, 5.8...</td>\n",
       "    </tr>\n",
       "    <tr>\n",
       "      <th>1016</th>\n",
       "      <td>[15, 15, 15, 14, 14, 15, 15, 15, 15, 17, 18, 1...</td>\n",
       "      <td>[22.964483, 23.015362, 22.756508, 22.53062, 22...</td>\n",
       "      <td>[22.740053, 22.750557, 22.741259, 23.036652, 2...</td>\n",
       "    </tr>\n",
       "    <tr>\n",
       "      <th>1017</th>\n",
       "      <td>[7, 7, 7, 7, 8, 8, 6, 6, 6, 5, 6, 6, 6, 6, 6, ...</td>\n",
       "      <td>[9.468945, 9.583322, 9.388562, 9.205688, 9.316...</td>\n",
       "      <td>[8.697574, 8.551069, 8.630153, 8.536827, 8.471...</td>\n",
       "    </tr>\n",
       "    <tr>\n",
       "      <th>1018</th>\n",
       "      <td>[20, 20, 20, 19, 18, 18, 18, 18, 19, 19, 19, 1...</td>\n",
       "      <td>[20.037842, 19.786905, 19.596107, 19.36288, 19...</td>\n",
       "      <td>[20.15862, 19.732878, 19.963112, 19.968594, 19...</td>\n",
       "    </tr>\n",
       "    <tr>\n",
       "      <th>1020</th>\n",
       "      <td>[37, 39, 39, 39, 39, 38, 37, 37, 39, 38, 37, 3...</td>\n",
       "      <td>[36.333965, 36.0693, 35.468777, 35.708157, 35....</td>\n",
       "      <td>[36.372314, 36.31637, 36.11983, 35.64901, 35.2...</td>\n",
       "    </tr>\n",
       "    <tr>\n",
       "      <th>1021</th>\n",
       "      <td>[7, 7, 6, 5, 6, 7, 7, 7, 7, 9, 9, 8, 8, 8, 6, ...</td>\n",
       "      <td>[10.184611, 10.368066, 9.999733, 9.919023, 9.9...</td>\n",
       "      <td>[10.365349, 10.260897, 10.283462, 10.171432, 1...</td>\n",
       "    </tr>\n",
       "    <tr>\n",
       "      <th>1022</th>\n",
       "      <td>[35, 35, 35, 34, 34, 34, 34, 34, 35, 35, 36, 3...</td>\n",
       "      <td>[19.513561, 19.602623, 18.422724, 18.28492, 17...</td>\n",
       "      <td>[19.721659, 19.250816, 18.802198, 18.29829, 17...</td>\n",
       "    </tr>\n",
       "    <tr>\n",
       "      <th>1023</th>\n",
       "      <td>[13, 13, 13, 14, 14, 15, 15, 15, 16, 18, 18, 1...</td>\n",
       "      <td>[18.761541, 18.69374, 18.617323, 18.552935, 18...</td>\n",
       "      <td>[18.979876, 18.918478, 18.98245, 18.749096, 18...</td>\n",
       "    </tr>\n",
       "    <tr>\n",
       "      <th>1024</th>\n",
       "      <td>[11, 12, 11, 9, 9, 8, 7, 7, 7, 7, 8, 10, 10, 1...</td>\n",
       "      <td>[9.041999, 9.038674, 8.977401, 8.880546, 8.828...</td>\n",
       "      <td>[9.001413, 9.02643, 9.123647, 8.897926, 8.9309...</td>\n",
       "    </tr>\n",
       "    <tr>\n",
       "      <th>1025</th>\n",
       "      <td>[13, 12, 12, 13, 14, 14, 15, 16, 15, 16, 16, 1...</td>\n",
       "      <td>[15.041459, 15.001426, 15.123338, 14.826825, 1...</td>\n",
       "      <td>[14.977703, 14.983605, 14.982735, 15.149683, 1...</td>\n",
       "    </tr>\n",
       "    <tr>\n",
       "      <th>1026</th>\n",
       "      <td>[15, 15, 15, 15, 16, 16, 16, 16, 17, 17, 21, 2...</td>\n",
       "      <td>[20.048258, 20.32563, 18.241486, 19.404268, 19...</td>\n",
       "      <td>[17.917645, 17.962366, 18.51095, 18.356306, 18...</td>\n",
       "    </tr>\n",
       "    <tr>\n",
       "      <th>1102</th>\n",
       "      <td>[9, 9, 9, 9, 10, 10, 10, 10, 10, 10, 10, 9, 9,...</td>\n",
       "      <td>[13.332383, 13.416331, 13.2217865, 13.2064, 13...</td>\n",
       "      <td>[13.306521, 13.2557335, 13.25234, 13.308111, 1...</td>\n",
       "    </tr>\n",
       "    <tr>\n",
       "      <th>1116</th>\n",
       "      <td>[12, 13, 13, 13, 13, 14, 14, 14, 14, 14, 14, 1...</td>\n",
       "      <td>[11.850005, 11.496446, 11.591799, 11.665318, 1...</td>\n",
       "      <td>[11.843899, 11.817581, 11.710278, 11.484155, 1...</td>\n",
       "    </tr>\n",
       "    <tr>\n",
       "      <th>1117</th>\n",
       "      <td>[12, 14, 14, 12, 12, 14, 13, 13, 13, 13, 12, 1...</td>\n",
       "      <td>[17.374596, 18.253141, 18.229803, 18.684135, 1...</td>\n",
       "      <td>[17.86207, 17.945892, 17.997929, 18.471472, 18...</td>\n",
       "    </tr>\n",
       "    <tr>\n",
       "      <th>1119</th>\n",
       "      <td>[2, 3, 3, 4, 5, 3, 4, 7, 6, 8, 5, 7, 9, 9, 8, ...</td>\n",
       "      <td>[10.142794, 9.976468, 10.361487, 10.283136, 10...</td>\n",
       "      <td>[10.608259, 10.790684, 10.913844, 10.988184, 1...</td>\n",
       "    </tr>\n",
       "    <tr>\n",
       "      <th>1120</th>\n",
       "      <td>[9, 9, 9, 8, 8, 8, 7, 6, 7, 7, 5, 4, 4, 4, 5, ...</td>\n",
       "      <td>[3.7100003, 3.6513667, 3.7734003, 3.780681, 3....</td>\n",
       "      <td>[3.5168116, 3.5414593, 3.493798, 3.4167356, 3....</td>\n",
       "    </tr>\n",
       "    <tr>\n",
       "      <th>1122</th>\n",
       "      <td>[0, 0, 0, 0, 0, 0, 0, 0, 0, 0, 0, 0, 0, 0, 0, ...</td>\n",
       "      <td>[0.0, 0.0, 0.0, 0.0, 0.0, 0.0]</td>\n",
       "      <td>[0.0, 0.0, 0.0, 0.0, 0.0, 0.0]</td>\n",
       "    </tr>\n",
       "    <tr>\n",
       "      <th>2001</th>\n",
       "      <td>[12, 11, 10, 10, 12, 12, 15, 16, 14, 15, 16, 1...</td>\n",
       "      <td>[14.878664, 14.880994, 14.94961, 14.805567, 14...</td>\n",
       "      <td>[14.595058, 14.595084, 14.669097, 14.778523, 1...</td>\n",
       "    </tr>\n",
       "    <tr>\n",
       "      <th>2002</th>\n",
       "      <td>[3, 3, 3, 2, 2, 2, 3, 2, 4, 4, 3, 3, 2, 2, 1, ...</td>\n",
       "      <td>[4.6847987, 4.864323, 4.789099, 5.450553, 5.34...</td>\n",
       "      <td>[5.053133, 5.1470766, 5.137116, 5.4735065, 5.5...</td>\n",
       "    </tr>\n",
       "    <tr>\n",
       "      <th>2003</th>\n",
       "      <td>[8, 7, 6, 5, 5, 5, 7, 7, 7, 8, 7, 7, 7, 7, 7, ...</td>\n",
       "      <td>[10.992296, 11.5150795, 11.259699, 12.006257, ...</td>\n",
       "      <td>[11.369973, 11.616106, 11.681983, 11.943011, 1...</td>\n",
       "    </tr>\n",
       "    <tr>\n",
       "      <th>2004</th>\n",
       "      <td>[13, 13, 14, 16, 13, 13, 13, 13, 10, 10, 10, 1...</td>\n",
       "      <td>[14.371219, 14.318461, 14.081905, 13.7815275, ...</td>\n",
       "      <td>[13.761721, 13.686751, 13.536772, 13.068638, 1...</td>\n",
       "    </tr>\n",
       "  </tbody>\n",
       "</table>\n",
       "</div>"
      ],
      "text/plain": [
       "                                            last_observations  \\\n",
       "station_id                                                      \n",
       "1001        [9, 10, 9, 9, 9, 9, 9, 10, 10, 10, 10, 11, 12,...   \n",
       "1002        [18, 17, 18, 17, 17, 17, 17, 17, 19, 18, 16, 1...   \n",
       "1003        [11, 12, 12, 13, 12, 11, 10, 11, 11, 11, 11, 1...   \n",
       "1006        [11, 11, 11, 12, 12, 12, 12, 12, 14, 14, 14, 1...   \n",
       "1007        [16, 15, 12, 11, 11, 12, 13, 12, 12, 13, 14, 1...   \n",
       "1008        [7, 7, 8, 8, 8, 10, 10, 10, 10, 11, 11, 11, 11...   \n",
       "1012        [14, 14, 14, 14, 14, 14, 14, 14, 14, 12, 13, 1...   \n",
       "1013        [26, 26, 26, 26, 23, 23, 23, 24, 26, 25, 25, 2...   \n",
       "1014        [21, 21, 21, 21, 20, 21, 21, 21, 21, 21, 21, 2...   \n",
       "1015        [12, 11, 11, 11, 8, 8, 9, 9, 6, 6, 5, 5, 5, 5,...   \n",
       "1016        [15, 15, 15, 14, 14, 15, 15, 15, 15, 17, 18, 1...   \n",
       "1017        [7, 7, 7, 7, 8, 8, 6, 6, 6, 5, 6, 6, 6, 6, 6, ...   \n",
       "1018        [20, 20, 20, 19, 18, 18, 18, 18, 19, 19, 19, 1...   \n",
       "1020        [37, 39, 39, 39, 39, 38, 37, 37, 39, 38, 37, 3...   \n",
       "1021        [7, 7, 6, 5, 6, 7, 7, 7, 7, 9, 9, 8, 8, 8, 6, ...   \n",
       "1022        [35, 35, 35, 34, 34, 34, 34, 34, 35, 35, 36, 3...   \n",
       "1023        [13, 13, 13, 14, 14, 15, 15, 15, 16, 18, 18, 1...   \n",
       "1024        [11, 12, 11, 9, 9, 8, 7, 7, 7, 7, 8, 10, 10, 1...   \n",
       "1025        [13, 12, 12, 13, 14, 14, 15, 16, 15, 16, 16, 1...   \n",
       "1026        [15, 15, 15, 15, 16, 16, 16, 16, 17, 17, 21, 2...   \n",
       "1102        [9, 9, 9, 9, 10, 10, 10, 10, 10, 10, 10, 9, 9,...   \n",
       "1116        [12, 13, 13, 13, 13, 14, 14, 14, 14, 14, 14, 1...   \n",
       "1117        [12, 14, 14, 12, 12, 14, 13, 13, 13, 13, 12, 1...   \n",
       "1119        [2, 3, 3, 4, 5, 3, 4, 7, 6, 8, 5, 7, 9, 9, 8, ...   \n",
       "1120        [9, 9, 9, 8, 8, 8, 7, 6, 7, 7, 5, 4, 4, 4, 5, ...   \n",
       "1122        [0, 0, 0, 0, 0, 0, 0, 0, 0, 0, 0, 0, 0, 0, 0, ...   \n",
       "2001        [12, 11, 10, 10, 12, 12, 15, 16, 14, 15, 16, 1...   \n",
       "2002        [3, 3, 3, 2, 2, 2, 3, 2, 4, 4, 3, 3, 2, 2, 1, ...   \n",
       "2003        [8, 7, 6, 5, 5, 5, 7, 7, 7, 8, 7, 7, 7, 7, 7, ...   \n",
       "2004        [13, 13, 14, 16, 13, 13, 13, 13, 10, 10, 10, 1...   \n",
       "\n",
       "                                                      Model_A  \\\n",
       "station_id                                                      \n",
       "1001        [12.66375, 12.660907, 12.4789915, 12.383468, 1...   \n",
       "1002        [18.170195, 18.338757, 17.632637, 18.05055, 17...   \n",
       "1003        [10.0383415, 10.091817, 9.988523, 9.981813, 9....   \n",
       "1006        [26.290173, 26.506285, 26.81851, 26.455334, 27...   \n",
       "1007        [3.510119, 3.5608177, 3.7118673, 3.6909924, 3....   \n",
       "1008        [11.527034, 11.522462, 11.146344, 10.96505, 10...   \n",
       "1012        [11.745317, 11.876173, 11.577536, 11.593897, 1...   \n",
       "1013        [20.933271, 20.748196, 21.139067, 20.750004, 2...   \n",
       "1014        [17.691317, 17.568317, 17.580496, 17.390985, 1...   \n",
       "1015        [6.53074, 6.502069, 6.4508452, 6.382672, 6.422...   \n",
       "1016        [22.964483, 23.015362, 22.756508, 22.53062, 22...   \n",
       "1017        [9.468945, 9.583322, 9.388562, 9.205688, 9.316...   \n",
       "1018        [20.037842, 19.786905, 19.596107, 19.36288, 19...   \n",
       "1020        [36.333965, 36.0693, 35.468777, 35.708157, 35....   \n",
       "1021        [10.184611, 10.368066, 9.999733, 9.919023, 9.9...   \n",
       "1022        [19.513561, 19.602623, 18.422724, 18.28492, 17...   \n",
       "1023        [18.761541, 18.69374, 18.617323, 18.552935, 18...   \n",
       "1024        [9.041999, 9.038674, 8.977401, 8.880546, 8.828...   \n",
       "1025        [15.041459, 15.001426, 15.123338, 14.826825, 1...   \n",
       "1026        [20.048258, 20.32563, 18.241486, 19.404268, 19...   \n",
       "1102        [13.332383, 13.416331, 13.2217865, 13.2064, 13...   \n",
       "1116        [11.850005, 11.496446, 11.591799, 11.665318, 1...   \n",
       "1117        [17.374596, 18.253141, 18.229803, 18.684135, 1...   \n",
       "1119        [10.142794, 9.976468, 10.361487, 10.283136, 10...   \n",
       "1120        [3.7100003, 3.6513667, 3.7734003, 3.780681, 3....   \n",
       "1122                           [0.0, 0.0, 0.0, 0.0, 0.0, 0.0]   \n",
       "2001        [14.878664, 14.880994, 14.94961, 14.805567, 14...   \n",
       "2002        [4.6847987, 4.864323, 4.789099, 5.450553, 5.34...   \n",
       "2003        [10.992296, 11.5150795, 11.259699, 12.006257, ...   \n",
       "2004        [14.371219, 14.318461, 14.081905, 13.7815275, ...   \n",
       "\n",
       "                                                      Model_B  \n",
       "station_id                                                     \n",
       "1001        [11.500524, 11.3997755, 11.07311, 10.718708, 1...  \n",
       "1002        [18.530306, 18.421873, 18.429464, 18.161253, 1...  \n",
       "1003        [10.186918, 10.149399, 10.131946, 10.038137, 9...  \n",
       "1006        [25.306273, 24.671099, 24.68047, 24.70189, 24....  \n",
       "1007        [3.6064725, 3.7835135, 3.948731, 3.9097276, 4....  \n",
       "1008        [12.716721, 12.405582, 12.582677, 12.38475, 12...  \n",
       "1012        [11.708706, 11.6625805, 11.656271, 11.64133, 1...  \n",
       "1013        [22.08653, 21.652395, 21.51812, 21.523294, 20....  \n",
       "1014        [17.391575, 17.225819, 17.063158, 17.037117, 1...  \n",
       "1015        [5.933463, 5.8596587, 5.9030647, 5.959286, 5.8...  \n",
       "1016        [22.740053, 22.750557, 22.741259, 23.036652, 2...  \n",
       "1017        [8.697574, 8.551069, 8.630153, 8.536827, 8.471...  \n",
       "1018        [20.15862, 19.732878, 19.963112, 19.968594, 19...  \n",
       "1020        [36.372314, 36.31637, 36.11983, 35.64901, 35.2...  \n",
       "1021        [10.365349, 10.260897, 10.283462, 10.171432, 1...  \n",
       "1022        [19.721659, 19.250816, 18.802198, 18.29829, 17...  \n",
       "1023        [18.979876, 18.918478, 18.98245, 18.749096, 18...  \n",
       "1024        [9.001413, 9.02643, 9.123647, 8.897926, 8.9309...  \n",
       "1025        [14.977703, 14.983605, 14.982735, 15.149683, 1...  \n",
       "1026        [17.917645, 17.962366, 18.51095, 18.356306, 18...  \n",
       "1102        [13.306521, 13.2557335, 13.25234, 13.308111, 1...  \n",
       "1116        [11.843899, 11.817581, 11.710278, 11.484155, 1...  \n",
       "1117        [17.86207, 17.945892, 17.997929, 18.471472, 18...  \n",
       "1119        [10.608259, 10.790684, 10.913844, 10.988184, 1...  \n",
       "1120        [3.5168116, 3.5414593, 3.493798, 3.4167356, 3....  \n",
       "1122                           [0.0, 0.0, 0.0, 0.0, 0.0, 0.0]  \n",
       "2001        [14.595058, 14.595084, 14.669097, 14.778523, 1...  \n",
       "2002        [5.053133, 5.1470766, 5.137116, 5.4735065, 5.5...  \n",
       "2003        [11.369973, 11.616106, 11.681983, 11.943011, 1...  \n",
       "2004        [13.761721, 13.686751, 13.536772, 13.068638, 1...  "
      ]
     },
     "execution_count": 75,
     "metadata": {},
     "output_type": "execute_result"
    }
   ],
   "source": [
    "df_prediction.head(30)"
   ]
  },
  {
   "cell_type": "code",
   "execution_count": null,
   "metadata": {},
   "outputs": [],
   "source": []
  }
 ],
 "metadata": {
  "kernelspec": {
   "display_name": "Python 3",
   "language": "python",
   "name": "python3"
  },
  "language_info": {
   "codemirror_mode": {
    "name": "ipython",
    "version": 3
   },
   "file_extension": ".py",
   "mimetype": "text/x-python",
   "name": "python",
   "nbconvert_exporter": "python",
   "pygments_lexer": "ipython3",
   "version": "3.7.7"
  }
 },
 "nbformat": 4,
 "nbformat_minor": 4
}
