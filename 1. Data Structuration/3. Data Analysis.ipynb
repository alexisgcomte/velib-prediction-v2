{
 "cells": [
  {
   "cell_type": "markdown",
   "metadata": {},
   "source": [
    "# 3. Data Analysis"
   ]
  },
  {
   "cell_type": "markdown",
   "metadata": {},
   "source": [
    "# I - Setup"
   ]
  },
  {
   "cell_type": "code",
   "execution_count": 1,
   "metadata": {
    "scrolled": true
   },
   "outputs": [],
   "source": [
    "# Import of librairies\n",
    "\n",
    "import mysql.connector as mariadb\n",
    "import pandas as pd\n",
    "import matplotlib.pyplot as plt\n",
    "import seaborn as sns"
   ]
  },
  {
   "cell_type": "code",
   "execution_count": 2,
   "metadata": {},
   "outputs": [],
   "source": [
    "class sql_query:\n",
    "    def __init__(self, credentials_path):\n",
    "        self.db_credentials = pd.read_csv(credentials_path, index_col=\"Field\")\n",
    "      \n",
    "    \n",
    "    def __call__(self, query):\n",
    "        \n",
    "        mariadb_connection = mariadb.connect(\n",
    "            user=self.db_credentials.loc[\"user\"][0],\n",
    "            password=self.db_credentials.loc[\"password\"][0],\n",
    "            host=self.db_credentials.loc[\"host\"][0],\n",
    "            port=3306,\n",
    "            db = \"db_velib\")\n",
    "        \n",
    "        self.cursor = mariadb_connection.cursor()\n",
    "    \n",
    "        cursor = self.cursor\n",
    "        cursor.execute(query)\n",
    "        field_names = [i[0] for i in cursor.description]\n",
    "        df = pd.DataFrame(cursor, columns=field_names)\n",
    "        return df"
   ]
  },
  {
   "cell_type": "code",
   "execution_count": 3,
   "metadata": {},
   "outputs": [],
   "source": [
    "# Testing\n",
    "request = sql_query(\"../../aws_mariadb_crendentials.csv\")\n",
    "\n",
    "query = \"\"\"\n",
    "SELECT DISTINCT * FROM velib_realtime\n",
    "WHERE station_id = 9034 and date(data_actualisation)=date(\"2020-04-29\")\n",
    "ORDER BY data_actualisation DESC\n",
    "\"\"\"\n",
    "\n",
    "#request(query)"
   ]
  },
  {
   "cell_type": "markdown",
   "metadata": {},
   "source": [
    "# II - Doing some visualisation"
   ]
  },
  {
   "cell_type": "code",
   "execution_count": 4,
   "metadata": {},
   "outputs": [],
   "source": [
    "# Taking data from  station 9034 - Madeleine\n",
    "\n",
    "query = \"\"\"\n",
    "SELECT DISTINCT * FROM velib_realtime\n",
    "WHERE station_id = 9034\n",
    "AND date_of_update > DATE(\"2020-05-05\")\n",
    "ORDER BY date_of_update DESC\n",
    "\"\"\"\n",
    "\n",
    "df = request(query)"
   ]
  },
  {
   "cell_type": "code",
   "execution_count": 5,
   "metadata": {},
   "outputs": [
    {
     "data": {
      "text/html": [
       "<div>\n",
       "<style scoped>\n",
       "    .dataframe tbody tr th:only-of-type {\n",
       "        vertical-align: middle;\n",
       "    }\n",
       "\n",
       "    .dataframe tbody tr th {\n",
       "        vertical-align: top;\n",
       "    }\n",
       "\n",
       "    .dataframe thead th {\n",
       "        text-align: right;\n",
       "    }\n",
       "</style>\n",
       "<table border=\"1\" class=\"dataframe\">\n",
       "  <thead>\n",
       "    <tr style=\"text-align: right;\">\n",
       "      <th></th>\n",
       "      <th>station_id</th>\n",
       "      <th>operational_station</th>\n",
       "      <th>nb_free_docks</th>\n",
       "      <th>nb_total_free_bikes</th>\n",
       "      <th>nb_free_mechanical_bikes</th>\n",
       "      <th>nb_free_electrical_bikes</th>\n",
       "      <th>payment_totem</th>\n",
       "      <th>bike_return_possible</th>\n",
       "      <th>data_actualisation</th>\n",
       "      <th>date_of_update</th>\n",
       "    </tr>\n",
       "  </thead>\n",
       "  <tbody>\n",
       "    <tr>\n",
       "      <th>0</th>\n",
       "      <td>9034</td>\n",
       "      <td>OUI</td>\n",
       "      <td>21</td>\n",
       "      <td>1</td>\n",
       "      <td>0</td>\n",
       "      <td>1</td>\n",
       "      <td>OUI</td>\n",
       "      <td>OUI</td>\n",
       "      <td>2020-05-11 18:47:31</td>\n",
       "      <td>2020-05-11 19:17:00</td>\n",
       "    </tr>\n",
       "    <tr>\n",
       "      <th>1</th>\n",
       "      <td>9034</td>\n",
       "      <td>OUI</td>\n",
       "      <td>20</td>\n",
       "      <td>2</td>\n",
       "      <td>0</td>\n",
       "      <td>2</td>\n",
       "      <td>OUI</td>\n",
       "      <td>OUI</td>\n",
       "      <td>2020-05-11 18:47:31</td>\n",
       "      <td>2020-05-11 19:16:00</td>\n",
       "    </tr>\n",
       "    <tr>\n",
       "      <th>2</th>\n",
       "      <td>9034</td>\n",
       "      <td>OUI</td>\n",
       "      <td>20</td>\n",
       "      <td>2</td>\n",
       "      <td>0</td>\n",
       "      <td>2</td>\n",
       "      <td>OUI</td>\n",
       "      <td>OUI</td>\n",
       "      <td>2020-05-11 18:47:31</td>\n",
       "      <td>2020-05-11 19:15:00</td>\n",
       "    </tr>\n",
       "    <tr>\n",
       "      <th>3</th>\n",
       "      <td>9034</td>\n",
       "      <td>OUI</td>\n",
       "      <td>19</td>\n",
       "      <td>3</td>\n",
       "      <td>1</td>\n",
       "      <td>2</td>\n",
       "      <td>OUI</td>\n",
       "      <td>OUI</td>\n",
       "      <td>2020-05-11 18:47:31</td>\n",
       "      <td>2020-05-11 19:14:00</td>\n",
       "    </tr>\n",
       "    <tr>\n",
       "      <th>4</th>\n",
       "      <td>9034</td>\n",
       "      <td>OUI</td>\n",
       "      <td>19</td>\n",
       "      <td>3</td>\n",
       "      <td>1</td>\n",
       "      <td>2</td>\n",
       "      <td>OUI</td>\n",
       "      <td>OUI</td>\n",
       "      <td>2020-05-11 18:47:31</td>\n",
       "      <td>2020-05-11 19:13:00</td>\n",
       "    </tr>\n",
       "  </tbody>\n",
       "</table>\n",
       "</div>"
      ],
      "text/plain": [
       "   station_id operational_station  nb_free_docks  nb_total_free_bikes  \\\n",
       "0        9034                 OUI             21                    1   \n",
       "1        9034                 OUI             20                    2   \n",
       "2        9034                 OUI             20                    2   \n",
       "3        9034                 OUI             19                    3   \n",
       "4        9034                 OUI             19                    3   \n",
       "\n",
       "   nb_free_mechanical_bikes  nb_free_electrical_bikes payment_totem  \\\n",
       "0                         0                         1           OUI   \n",
       "1                         0                         2           OUI   \n",
       "2                         0                         2           OUI   \n",
       "3                         1                         2           OUI   \n",
       "4                         1                         2           OUI   \n",
       "\n",
       "  bike_return_possible  data_actualisation      date_of_update  \n",
       "0                  OUI 2020-05-11 18:47:31 2020-05-11 19:17:00  \n",
       "1                  OUI 2020-05-11 18:47:31 2020-05-11 19:16:00  \n",
       "2                  OUI 2020-05-11 18:47:31 2020-05-11 19:15:00  \n",
       "3                  OUI 2020-05-11 18:47:31 2020-05-11 19:14:00  \n",
       "4                  OUI 2020-05-11 18:47:31 2020-05-11 19:13:00  "
      ]
     },
     "execution_count": 5,
     "metadata": {},
     "output_type": "execute_result"
    }
   ],
   "source": [
    "df.head()"
   ]
  },
  {
   "cell_type": "code",
   "execution_count": 6,
   "metadata": {},
   "outputs": [
    {
     "data": {
      "text/html": [
       "<div>\n",
       "<style scoped>\n",
       "    .dataframe tbody tr th:only-of-type {\n",
       "        vertical-align: middle;\n",
       "    }\n",
       "\n",
       "    .dataframe tbody tr th {\n",
       "        vertical-align: top;\n",
       "    }\n",
       "\n",
       "    .dataframe thead th {\n",
       "        text-align: right;\n",
       "    }\n",
       "</style>\n",
       "<table border=\"1\" class=\"dataframe\">\n",
       "  <thead>\n",
       "    <tr style=\"text-align: right;\">\n",
       "      <th></th>\n",
       "      <th>station_id</th>\n",
       "      <th>nb_free_docks</th>\n",
       "      <th>nb_total_free_bikes</th>\n",
       "      <th>nb_free_mechanical_bikes</th>\n",
       "      <th>nb_free_electrical_bikes</th>\n",
       "    </tr>\n",
       "  </thead>\n",
       "  <tbody>\n",
       "    <tr>\n",
       "      <th>count</th>\n",
       "      <td>9787.0</td>\n",
       "      <td>9787.000000</td>\n",
       "      <td>9787.000000</td>\n",
       "      <td>9787.000000</td>\n",
       "      <td>9787.000000</td>\n",
       "    </tr>\n",
       "    <tr>\n",
       "      <th>mean</th>\n",
       "      <td>9034.0</td>\n",
       "      <td>15.736794</td>\n",
       "      <td>6.263206</td>\n",
       "      <td>3.181057</td>\n",
       "      <td>3.082150</td>\n",
       "    </tr>\n",
       "    <tr>\n",
       "      <th>std</th>\n",
       "      <td>0.0</td>\n",
       "      <td>4.466008</td>\n",
       "      <td>4.466008</td>\n",
       "      <td>2.755430</td>\n",
       "      <td>2.282473</td>\n",
       "    </tr>\n",
       "    <tr>\n",
       "      <th>min</th>\n",
       "      <td>9034.0</td>\n",
       "      <td>0.000000</td>\n",
       "      <td>1.000000</td>\n",
       "      <td>0.000000</td>\n",
       "      <td>1.000000</td>\n",
       "    </tr>\n",
       "    <tr>\n",
       "      <th>25%</th>\n",
       "      <td>9034.0</td>\n",
       "      <td>14.000000</td>\n",
       "      <td>2.000000</td>\n",
       "      <td>0.000000</td>\n",
       "      <td>1.000000</td>\n",
       "    </tr>\n",
       "    <tr>\n",
       "      <th>50%</th>\n",
       "      <td>9034.0</td>\n",
       "      <td>15.000000</td>\n",
       "      <td>7.000000</td>\n",
       "      <td>3.000000</td>\n",
       "      <td>2.000000</td>\n",
       "    </tr>\n",
       "    <tr>\n",
       "      <th>75%</th>\n",
       "      <td>9034.0</td>\n",
       "      <td>20.000000</td>\n",
       "      <td>8.000000</td>\n",
       "      <td>5.000000</td>\n",
       "      <td>4.000000</td>\n",
       "    </tr>\n",
       "    <tr>\n",
       "      <th>max</th>\n",
       "      <td>9034.0</td>\n",
       "      <td>21.000000</td>\n",
       "      <td>22.000000</td>\n",
       "      <td>15.000000</td>\n",
       "      <td>13.000000</td>\n",
       "    </tr>\n",
       "  </tbody>\n",
       "</table>\n",
       "</div>"
      ],
      "text/plain": [
       "       station_id  nb_free_docks  nb_total_free_bikes  \\\n",
       "count      9787.0    9787.000000          9787.000000   \n",
       "mean       9034.0      15.736794             6.263206   \n",
       "std           0.0       4.466008             4.466008   \n",
       "min        9034.0       0.000000             1.000000   \n",
       "25%        9034.0      14.000000             2.000000   \n",
       "50%        9034.0      15.000000             7.000000   \n",
       "75%        9034.0      20.000000             8.000000   \n",
       "max        9034.0      21.000000            22.000000   \n",
       "\n",
       "       nb_free_mechanical_bikes  nb_free_electrical_bikes  \n",
       "count               9787.000000               9787.000000  \n",
       "mean                   3.181057                  3.082150  \n",
       "std                    2.755430                  2.282473  \n",
       "min                    0.000000                  1.000000  \n",
       "25%                    0.000000                  1.000000  \n",
       "50%                    3.000000                  2.000000  \n",
       "75%                    5.000000                  4.000000  \n",
       "max                   15.000000                 13.000000  "
      ]
     },
     "execution_count": 6,
     "metadata": {},
     "output_type": "execute_result"
    }
   ],
   "source": [
    "df.describe()"
   ]
  },
  {
   "cell_type": "code",
   "execution_count": 7,
   "metadata": {},
   "outputs": [
    {
     "data": {
      "image/png": "[encoded data removed]",
      "text/plain": [
       "<Figure size 1080x360 with 1 Axes>"
      ]
     },
     "metadata": {
      "needs_background": "light"
     },
     "output_type": "display_data"
    }
   ],
   "source": [
    "f,ax = plt.subplots(figsize=(15,5))\n",
    "ax = sns.lineplot(x=\"date_of_update\", y=\"nb_total_free_bikes\", data=df[[\"nb_total_free_bikes\",\"date_of_update\"]], color=\"green\")\n",
    "plt.show()"
   ]
  }
 ],
 "metadata": {
  "kernelspec": {
   "display_name": "Python 3",
   "language": "python",
   "name": "python3"
  },
  "language_info": {
   "codemirror_mode": {
    "name": "ipython",
    "version": 3
   },
   "file_extension": ".py",
   "mimetype": "text/x-python",
   "name": "python",
   "nbconvert_exporter": "python",
   "pygments_lexer": "ipython3",
   "version": "3.7.7"
  }
 },
 "nbformat": 4,
 "nbformat_minor": 4
}
