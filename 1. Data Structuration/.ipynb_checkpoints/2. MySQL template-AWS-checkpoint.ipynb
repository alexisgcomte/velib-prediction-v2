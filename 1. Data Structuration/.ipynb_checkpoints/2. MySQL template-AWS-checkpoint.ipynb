{
 "cells": [
  {
   "cell_type": "markdown",
   "metadata": {},
   "source": [
    "# Python and MySQL"
   ]
  },
  {
   "cell_type": "code",
   "execution_count": 1,
   "metadata": {
    "scrolled": true
   },
   "outputs": [],
   "source": [
    "# Import of librairies\n",
    "\n",
    "import mysql.connector as mariadb\n",
    "import pandas as pd"
   ]
  },
  {
   "cell_type": "code",
   "execution_count": 2,
   "metadata": {},
   "outputs": [
    {
     "name": "stdout",
     "output_type": "stream",
     "text": [
      "Index(['user', 'password', 'host'], dtype='object', name='Field')\n"
     ]
    }
   ],
   "source": [
    "# Loading credentials for maria-db AWS use\n",
    "\n",
    "db_credentials = pd.read_csv(\"../../aws_mariadb_crendentials.csv\", index_col=\"Field\")\n",
    "print(db_credentials.index)"
   ]
  },
  {
   "cell_type": "code",
   "execution_count": 3,
   "metadata": {
    "scrolled": true
   },
   "outputs": [],
   "source": [
    "# Connection\n",
    "mariadb_connection = mariadb.connect(\n",
    "    user=db_credentials.loc[\"user\"][0],\n",
    "    password=db_credentials.loc[\"password\"][0],\n",
    "    host=db_credentials.loc[\"host\"][0],\n",
    "    port=3306,\n",
    "    db = \"db_velib\")\n",
    "\n",
    "cursor = mariadb_connection.cursor()"
   ]
  },
  {
   "cell_type": "code",
   "execution_count": 4,
   "metadata": {},
   "outputs": [],
   "source": [
    "# Extracting columns name\n",
    "\n",
    "query = \"\"\"\n",
    "DESCRIBE velib_realtime\n",
    "\"\"\"\n",
    "cursor.execute(query)\n",
    "df = pd.DataFrame(cursor)\n",
    "columns = df[0].tolist()"
   ]
  },
  {
   "cell_type": "code",
   "execution_count": 5,
   "metadata": {},
   "outputs": [
    {
     "data": {
      "text/plain": [
       "['station_id',\n",
       " 'operational_station',\n",
       " 'nb_free_docks',\n",
       " 'nb_total_free_bikes',\n",
       " 'nb_free_mechanical_bikes',\n",
       " 'nb_free_electrical_bikes',\n",
       " 'payment_totem',\n",
       " 'bike_return_possible',\n",
       " 'data_actualisation',\n",
       " 'date_of_update']"
      ]
     },
     "execution_count": 5,
     "metadata": {},
     "output_type": "execute_result"
    }
   ],
   "source": [
    "columns"
   ]
  },
  {
   "cell_type": "code",
   "execution_count": 6,
   "metadata": {},
   "outputs": [],
   "source": [
    "# Typing the SQL query\n",
    "\n",
    "query = \"\"\"\n",
    "SELECT DISTINCT * FROM velib_realtime\n",
    "WHERE station_id = 9034 and date(data_actualisation)=date(\"2020-04-29\")\n",
    "ORDER BY data_actualisation DESC\n",
    "\"\"\"\n",
    "# Execution\n",
    "cursor.execute(query)"
   ]
  },
  {
   "cell_type": "code",
   "execution_count": 7,
   "metadata": {},
   "outputs": [
    {
     "data": {
      "text/html": [
       "<div>\n",
       "<style scoped>\n",
       "    .dataframe tbody tr th:only-of-type {\n",
       "        vertical-align: middle;\n",
       "    }\n",
       "\n",
       "    .dataframe tbody tr th {\n",
       "        vertical-align: top;\n",
       "    }\n",
       "\n",
       "    .dataframe thead th {\n",
       "        text-align: right;\n",
       "    }\n",
       "</style>\n",
       "<table border=\"1\" class=\"dataframe\">\n",
       "  <thead>\n",
       "    <tr style=\"text-align: right;\">\n",
       "      <th></th>\n",
       "      <th>station_id</th>\n",
       "      <th>operational_station</th>\n",
       "      <th>nb_free_docks</th>\n",
       "      <th>nb_total_free_bikes</th>\n",
       "      <th>nb_free_mechanical_bikes</th>\n",
       "      <th>nb_free_electrical_bikes</th>\n",
       "      <th>payment_totem</th>\n",
       "      <th>bike_return_possible</th>\n",
       "      <th>data_actualisation</th>\n",
       "      <th>date_of_update</th>\n",
       "    </tr>\n",
       "  </thead>\n",
       "  <tbody>\n",
       "    <tr>\n",
       "      <th>0</th>\n",
       "      <td>9034</td>\n",
       "      <td>OUI</td>\n",
       "      <td>18</td>\n",
       "      <td>4</td>\n",
       "      <td>2</td>\n",
       "      <td>2</td>\n",
       "      <td>OUI</td>\n",
       "      <td>OUI</td>\n",
       "      <td>2020-04-29 23:09:00</td>\n",
       "      <td>2020-04-29 23:19:00</td>\n",
       "    </tr>\n",
       "    <tr>\n",
       "      <th>1</th>\n",
       "      <td>9034</td>\n",
       "      <td>OUI</td>\n",
       "      <td>18</td>\n",
       "      <td>4</td>\n",
       "      <td>2</td>\n",
       "      <td>2</td>\n",
       "      <td>OUI</td>\n",
       "      <td>OUI</td>\n",
       "      <td>2020-04-29 23:09:00</td>\n",
       "      <td>2020-04-30 00:18:00</td>\n",
       "    </tr>\n",
       "    <tr>\n",
       "      <th>2</th>\n",
       "      <td>9034</td>\n",
       "      <td>OUI</td>\n",
       "      <td>18</td>\n",
       "      <td>4</td>\n",
       "      <td>2</td>\n",
       "      <td>2</td>\n",
       "      <td>OUI</td>\n",
       "      <td>OUI</td>\n",
       "      <td>2020-04-29 23:09:00</td>\n",
       "      <td>2020-04-29 23:36:00</td>\n",
       "    </tr>\n",
       "    <tr>\n",
       "      <th>3</th>\n",
       "      <td>9034</td>\n",
       "      <td>OUI</td>\n",
       "      <td>18</td>\n",
       "      <td>4</td>\n",
       "      <td>2</td>\n",
       "      <td>2</td>\n",
       "      <td>OUI</td>\n",
       "      <td>OUI</td>\n",
       "      <td>2020-04-29 23:09:00</td>\n",
       "      <td>2020-04-29 23:37:00</td>\n",
       "    </tr>\n",
       "    <tr>\n",
       "      <th>4</th>\n",
       "      <td>9034</td>\n",
       "      <td>OUI</td>\n",
       "      <td>18</td>\n",
       "      <td>4</td>\n",
       "      <td>2</td>\n",
       "      <td>2</td>\n",
       "      <td>OUI</td>\n",
       "      <td>OUI</td>\n",
       "      <td>2020-04-29 23:09:00</td>\n",
       "      <td>2020-04-29 23:38:00</td>\n",
       "    </tr>\n",
       "    <tr>\n",
       "      <th>5</th>\n",
       "      <td>9034</td>\n",
       "      <td>OUI</td>\n",
       "      <td>18</td>\n",
       "      <td>4</td>\n",
       "      <td>2</td>\n",
       "      <td>2</td>\n",
       "      <td>OUI</td>\n",
       "      <td>OUI</td>\n",
       "      <td>2020-04-29 23:09:00</td>\n",
       "      <td>2020-04-29 23:39:00</td>\n",
       "    </tr>\n",
       "    <tr>\n",
       "      <th>6</th>\n",
       "      <td>9034</td>\n",
       "      <td>OUI</td>\n",
       "      <td>18</td>\n",
       "      <td>4</td>\n",
       "      <td>2</td>\n",
       "      <td>2</td>\n",
       "      <td>OUI</td>\n",
       "      <td>OUI</td>\n",
       "      <td>2020-04-29 23:09:00</td>\n",
       "      <td>2020-04-29 23:40:00</td>\n",
       "    </tr>\n",
       "    <tr>\n",
       "      <th>7</th>\n",
       "      <td>9034</td>\n",
       "      <td>OUI</td>\n",
       "      <td>18</td>\n",
       "      <td>4</td>\n",
       "      <td>2</td>\n",
       "      <td>2</td>\n",
       "      <td>OUI</td>\n",
       "      <td>OUI</td>\n",
       "      <td>2020-04-29 23:09:00</td>\n",
       "      <td>2020-04-29 23:41:00</td>\n",
       "    </tr>\n",
       "    <tr>\n",
       "      <th>8</th>\n",
       "      <td>9034</td>\n",
       "      <td>OUI</td>\n",
       "      <td>18</td>\n",
       "      <td>4</td>\n",
       "      <td>2</td>\n",
       "      <td>2</td>\n",
       "      <td>OUI</td>\n",
       "      <td>OUI</td>\n",
       "      <td>2020-04-29 23:09:00</td>\n",
       "      <td>2020-04-29 23:42:00</td>\n",
       "    </tr>\n",
       "    <tr>\n",
       "      <th>9</th>\n",
       "      <td>9034</td>\n",
       "      <td>OUI</td>\n",
       "      <td>18</td>\n",
       "      <td>4</td>\n",
       "      <td>2</td>\n",
       "      <td>2</td>\n",
       "      <td>OUI</td>\n",
       "      <td>OUI</td>\n",
       "      <td>2020-04-29 23:09:00</td>\n",
       "      <td>2020-04-29 23:43:00</td>\n",
       "    </tr>\n",
       "  </tbody>\n",
       "</table>\n",
       "</div>"
      ],
      "text/plain": [
       "   station_id operational_station  nb_free_docks  nb_total_free_bikes  \\\n",
       "0        9034                 OUI             18                    4   \n",
       "1        9034                 OUI             18                    4   \n",
       "2        9034                 OUI             18                    4   \n",
       "3        9034                 OUI             18                    4   \n",
       "4        9034                 OUI             18                    4   \n",
       "5        9034                 OUI             18                    4   \n",
       "6        9034                 OUI             18                    4   \n",
       "7        9034                 OUI             18                    4   \n",
       "8        9034                 OUI             18                    4   \n",
       "9        9034                 OUI             18                    4   \n",
       "\n",
       "   nb_free_mechanical_bikes  nb_free_electrical_bikes payment_totem  \\\n",
       "0                         2                         2           OUI   \n",
       "1                         2                         2           OUI   \n",
       "2                         2                         2           OUI   \n",
       "3                         2                         2           OUI   \n",
       "4                         2                         2           OUI   \n",
       "5                         2                         2           OUI   \n",
       "6                         2                         2           OUI   \n",
       "7                         2                         2           OUI   \n",
       "8                         2                         2           OUI   \n",
       "9                         2                         2           OUI   \n",
       "\n",
       "  bike_return_possible  data_actualisation      date_of_update  \n",
       "0                  OUI 2020-04-29 23:09:00 2020-04-29 23:19:00  \n",
       "1                  OUI 2020-04-29 23:09:00 2020-04-30 00:18:00  \n",
       "2                  OUI 2020-04-29 23:09:00 2020-04-29 23:36:00  \n",
       "3                  OUI 2020-04-29 23:09:00 2020-04-29 23:37:00  \n",
       "4                  OUI 2020-04-29 23:09:00 2020-04-29 23:38:00  \n",
       "5                  OUI 2020-04-29 23:09:00 2020-04-29 23:39:00  \n",
       "6                  OUI 2020-04-29 23:09:00 2020-04-29 23:40:00  \n",
       "7                  OUI 2020-04-29 23:09:00 2020-04-29 23:41:00  \n",
       "8                  OUI 2020-04-29 23:09:00 2020-04-29 23:42:00  \n",
       "9                  OUI 2020-04-29 23:09:00 2020-04-29 23:43:00  "
      ]
     },
     "execution_count": 7,
     "metadata": {},
     "output_type": "execute_result"
    }
   ],
   "source": [
    "# Data addition in a pandas DataFrame\n",
    "df = pd.DataFrame(cursor, columns=columns)\n",
    "df.head(10)"
   ]
  }
 ],
 "metadata": {
  "kernelspec": {
   "display_name": "Python 3",
   "language": "python",
   "name": "python3"
  },
  "language_info": {
   "codemirror_mode": {
    "name": "ipython",
    "version": 3
   },
   "file_extension": ".py",
   "mimetype": "text/x-python",
   "name": "python",
   "nbconvert_exporter": "python",
   "pygments_lexer": "ipython3",
   "version": "3.7.7"
  }
 },
 "nbformat": 4,
 "nbformat_minor": 4
}
